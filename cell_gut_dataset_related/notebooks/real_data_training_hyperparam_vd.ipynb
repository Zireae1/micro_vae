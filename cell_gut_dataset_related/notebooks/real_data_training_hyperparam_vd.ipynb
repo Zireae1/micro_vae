{
 "cells": [
  {
   "cell_type": "code",
   "execution_count": 1,
   "id": "183509a8-77d0-4993-ad54-4a6163c87c0e",
   "metadata": {},
   "outputs": [
    {
     "name": "stdout",
     "output_type": "stream",
     "text": [
      "mps\n"
     ]
    },
    {
     "data": {
      "text/plain": [
       "'\\nfrom comet_ml import Experiment  ### special library to record performance on a web server\\nfrom config import * ### file with personal API_KEY\\n\\n# later could use comet_ml for hyperparam optm\\n\\nexperiment = Experiment(\\n    api_key=API_KEY,\\n    project_name=\"vae-eco-ml\",\\n    workspace=\"zireae1\",\\n)\\n'"
      ]
     },
     "execution_count": 1,
     "metadata": {},
     "output_type": "execute_result"
    }
   ],
   "source": [
    "import torch\n",
    "import torch.nn as nn\n",
    "import torch.nn.functional as F\n",
    "from torch.distributions import Categorical\n",
    "import matplotlib.pyplot as plt\n",
    "import matplotlib\n",
    "import pandas as pd\n",
    "import numpy as np\n",
    "import pickle\n",
    "from torch.utils.data import Dataset, TensorDataset, DataLoader\n",
    "from sklearn.model_selection import train_test_split\n",
    "from sklearn import preprocessing\n",
    "from sklearn.preprocessing import StandardScaler, RobustScaler, MaxAbsScaler\n",
    "from scipy import stats\n",
    "from tqdm import tqdm\n",
    "# from skbio.stats.composition import clr\n",
    "use_cuda = torch.cuda.is_available()\n",
    "device = torch.device('cuda:0' if use_cuda else 'mps')\n",
    "print(device)\n",
    "\n",
    "#from utils import *\n",
    "### do this explicitly\n",
    "\n",
    "import optuna\n",
    "\n",
    "import matplotlib as mpl\n",
    "mpl.rcParams['font.family'] = 'Arial'\n",
    "mpl.rcParams['font.size'] = 14\n",
    "\n",
    "### import comet_ml at the top of your file\n",
    "'''\n",
    "from comet_ml import Experiment  ### special library to record performance on a web server\n",
    "from config import * ### file with personal API_KEY\n",
    "\n",
    "# later could use comet_ml for hyperparam optm\n",
    "\n",
    "experiment = Experiment(\n",
    "    api_key=API_KEY,\n",
    "    project_name=\"vae-eco-ml\",\n",
    "    workspace=\"zireae1\",\n",
    ")\n",
    "'''"
   ]
  },
  {
   "cell_type": "markdown",
   "id": "684b55a3-3607-419e-a81a-94bccca163ef",
   "metadata": {
    "tags": []
   },
   "source": [
    "### Model"
   ]
  },
  {
   "cell_type": "code",
   "execution_count": 2,
   "id": "2e68459f",
   "metadata": {},
   "outputs": [],
   "source": [
    "## double decoder version:\n",
    "## 1 decoder for binary output and 1 for reconstruction\n",
    "class VAE_2(nn.Module):\n",
    "    def __init__(self, input_dim, latent_dim=64, hidden_dim=1024, dropout_rate=0.1):\n",
    "        super(VAE_2, self).__init__()\n",
    "        # encoder\n",
    "        self.encoder = nn.Sequential(\n",
    "            nn.Linear(input_dim, hidden_dim),\n",
    "            nn.BatchNorm1d(hidden_dim),\n",
    "            nn.ReLU(),\n",
    "            nn.Dropout(dropout_rate)\n",
    "        )\n",
    "        self.get_mu = nn.Sequential(\n",
    "            nn.Linear(hidden_dim, latent_dim), \n",
    "            nn.BatchNorm1d(latent_dim),\n",
    "            nn.ReLU(),\n",
    "            nn.Dropout(dropout_rate)\n",
    "        )\n",
    "        self.get_logvar = nn.Sequential(\n",
    "            nn.Linear(hidden_dim, latent_dim), \n",
    "            nn.BatchNorm1d(latent_dim),\n",
    "            nn.ReLU(),\n",
    "            nn.Dropout(dropout_rate)\n",
    "        )\n",
    "        self.decoder_b = nn.Sequential(\n",
    "            nn.Linear(latent_dim, hidden_dim),\n",
    "            nn.BatchNorm1d(hidden_dim), \n",
    "            nn.ReLU(),\n",
    "            nn.Linear(hidden_dim, input_dim),\n",
    "            nn.Sigmoid()\n",
    "        )\n",
    "        self.decoder_nb = nn.Sequential(\n",
    "            nn.Linear(latent_dim, hidden_dim),\n",
    "            nn.BatchNorm1d(hidden_dim), \n",
    "            nn.ReLU(),\n",
    "            nn.Linear(hidden_dim, hidden_dim),\n",
    "            nn.BatchNorm1d(hidden_dim), \n",
    "            nn.ReLU(),\n",
    "            nn.Linear(hidden_dim, input_dim),\n",
    "            nn.Tanh()\n",
    "        )\n",
    "        \n",
    "    def encode(self, x):\n",
    "        h = self.encoder(x)\n",
    "        mu = self.get_mu(h)\n",
    "        logvar = self.get_logvar(h)\n",
    "        return mu, logvar\n",
    "    \n",
    "    def reparameterize(self, mu, logvar):\n",
    "        std = torch.exp(0.5 * logvar)\n",
    "        eps = torch.randn_like(std)\n",
    "        z = mu + eps * std\n",
    "        return z\n",
    "    \n",
    "    def forward(self, x):\n",
    "        x = x.view(x.size(0), -1)\n",
    "        mu, logvar = self.encode(x)\n",
    "        z = self.reparameterize(mu, logvar)\n",
    "        binary = self.decoder_b(z)\n",
    "        nonbinary = self.decoder_nb(z)\n",
    "        return binary, nonbinary, mu, logvar\n",
    "\n",
    "def compute_loss_2(model, features, labels, weights):\n",
    "    b, nb, mu, logvar = model(features)\n",
    "    mask = (labels!=-1).float()\n",
    "    \n",
    "    bce_loss = F.binary_cross_entropy(b, mask, reduction='sum')\n",
    "    recon_loss = torch.sum(F.mse_loss(nb, labels, reduction=\"none\") * mask)\n",
    "\n",
    "    kl_loss = -0.5 * torch.sum(1 + logvar - mu.pow(2) - logvar.exp())\n",
    "    loss = weights[0]*recon_loss + weights[1]*bce_loss + weights[2]*kl_loss\n",
    "    return b, nb, loss, weights[0]*recon_loss, weights[1]*bce_loss, weights[2]*kl_loss\n"
   ]
  },
  {
   "cell_type": "markdown",
   "id": "e1e7cce0",
   "metadata": {},
   "source": [
    "### Load, split and normalize the data"
   ]
  },
  {
   "cell_type": "code",
   "execution_count": 3,
   "id": "c5a691d8",
   "metadata": {},
   "outputs": [],
   "source": [
    "def load_filtered_data(p_data):\n",
    "    features = torch.load(p_data)[\"features\"]\n",
    "    labels = torch.load(p_data)[\"labels\"]\n",
    "    spc_names = torch.load(p_data)[\"names\"]\n",
    "    \n",
    "    original_indices = np.arange(len(features))\n",
    "    train_indices, test_indices = train_test_split(\n",
    "        original_indices,\n",
    "        test_size=0.2,\n",
    "        random_state=42,\n",
    "    )\n",
    "    X_train = features[train_indices]\n",
    "    X_test = features[test_indices]\n",
    "    y_train = labels[train_indices]\n",
    "    y_test = labels[test_indices]\n",
    "#     X_train, X_test, y_train, y_test = train_test_split(features, labels, test_size=0.2, random_state=42)\n",
    "\n",
    "    ## clr transformation for outputs\n",
    "    zero_thr = 1e-8\n",
    "    gmean_train = (np.exp(np.nansum(np.log(y_train[y_train > 0]+zero_thr)) / np.size(y_train)))\n",
    "    y_train_clr = np.log((y_train+zero_thr)/gmean_train)\n",
    "    y_test_clr = np.log((y_test+zero_thr)/gmean_train)\n",
    "\n",
    "    ## rescale the data\n",
    "    scaler = preprocessing.MaxAbsScaler().fit(y_train_clr)\n",
    "    # scaler = preprocessing.RobustScaler().fit(y_train_clr)\n",
    "    y_train_scaled = scaler.transform(y_train_clr)\n",
    "    y_test_scaled = scaler.transform(y_test_clr)\n",
    "\n",
    "    ## transform to tensors\n",
    "    X_train_scaled=torch.from_numpy(X_train).float()\n",
    "    y_train_scaled=torch.from_numpy(y_train_scaled).float()\n",
    "    X_test_scaled=torch.from_numpy(X_test).float()\n",
    "    y_test_scaled=torch.from_numpy(y_test_scaled).float()\n",
    "\n",
    "#     plt.hist(y_test_scaled.numpy().flatten(), bins=40)\n",
    "#     plt.yscale(\"log\")\n",
    "#     plt.xlabel(\"Abundance score\")\n",
    "#     plt.ylabel(\"Counts\")\n",
    "#     plt.show()\n",
    "    \n",
    "    # keep the spc names and train/test split for evaluation use\n",
    "    return X_train_scaled, X_test_scaled, y_train_scaled, y_test_scaled, {\"spcs\":spc_names,\n",
    "                                                                          \"train_idx\": train_indices, \n",
    "                                                                          \"test_idx\": test_indices}"
   ]
  },
  {
   "cell_type": "markdown",
   "id": "10434338",
   "metadata": {},
   "source": [
    "### Implement VAE"
   ]
  },
  {
   "cell_type": "code",
   "execution_count": 4,
   "id": "3bd62c63",
   "metadata": {},
   "outputs": [],
   "source": [
    "class VAETrainer:\n",
    "    def __init__(self, model, train_loader, test_loader, optimizer, weights, device=\"cuda:0\"):\n",
    "        self.model = model.to(device)\n",
    "        self.train_loader = train_loader\n",
    "        self.test_loader = test_loader\n",
    "        self.optimizer = optimizer\n",
    "        self.weights = weights\n",
    "        self.device = device\n",
    "\n",
    "    def train_one_epoch(self, zero_thr):\n",
    "        self.model.train()\n",
    "        total_loss, total_recon_loss, total_bce_loss, total_kl_loss = 0, 0, 0, 0\n",
    "        total_acc = 0\n",
    "        total_len = 0\n",
    "        for batch in self.train_loader:\n",
    "            if batch['Features'].size(0) == 1:\n",
    "                continue \n",
    "            batch['Features'], batch['Labels'] = batch['Features'].to(device), batch['Labels'].to(device)\n",
    "            \n",
    "            self.optimizer.zero_grad()\n",
    "#             recon_x, loss, recon_loss, kl_loss = compute_loss(self.model, batch['Features'], batch['Labels'], self.weights)\n",
    "            b, nb, loss, recon_loss, bce_loss, kl_loss = compute_loss_2(self.model, batch['Features'], batch['Labels'], self.weights)\n",
    "            loss.backward()\n",
    "            self.optimizer.step()\n",
    "            \n",
    "            total_loss += loss.item()\n",
    "            total_recon_loss += recon_loss.item()\n",
    "            total_bce_loss += bce_loss.item()\n",
    "            total_kl_loss += kl_loss.item()\n",
    "            \n",
    "#             out = ((recon_x.detach())>zero_thr).float()\n",
    "            out = (b.detach()>0.5).float()\n",
    "            total_acc += (out == batch['Features']).float().sum().item() # for binary-abundance\n",
    "            total_len += batch[\"Features\"].shape[0]\n",
    "\n",
    "        return total_loss / total_len, \\\n",
    "               total_recon_loss / total_len, \\\n",
    "               total_bce_loss / total_len, \\\n",
    "               total_kl_loss / total_len, \\\n",
    "               total_acc / total_len / batch[\"Features\"].shape[1]\n",
    "\n",
    "    @torch.no_grad()\n",
    "    def test_one_epoch(self, zero_thr):\n",
    "        self.model.eval()\n",
    "        total_loss, total_recon_loss, total_bce_loss, total_kl_loss = 0, 0, 0, 0\n",
    "        total_acc = 0\n",
    "        total_len = 0\n",
    "        for batch in self.test_loader:\n",
    "            batch['Features'], batch['Labels'] = batch['Features'].to(device), batch['Labels'].to(device)\n",
    "            \n",
    "#             recon_x, loss, recon_loss, kl_loss = compute_loss(self.model, batch['Features'], batch['Labels'], self.weights)\n",
    "            b, nb, loss, recon_loss, bce_loss, kl_loss = compute_loss_2(self.model, batch['Features'], batch['Labels'], self.weights)\n",
    "            \n",
    "            total_loss += loss.item()\n",
    "            total_recon_loss += recon_loss.item()\n",
    "            total_bce_loss += bce_loss.item()\n",
    "            total_kl_loss += kl_loss.item()\n",
    "            \n",
    "#             out = ((recon_x.detach())>zero_thr).float()\n",
    "            out = (b.detach()>0.5).float()\n",
    "            total_acc += (out == batch['Features']).float().sum().item() # for binary-abundance\n",
    "            total_len += batch[\"Features\"].shape[0]\n",
    "\n",
    "        return total_loss / total_len, \\\n",
    "               total_recon_loss / total_len, \\\n",
    "               total_bce_loss / total_len, \\\n",
    "               total_kl_loss / total_len, \\\n",
    "               total_acc / total_len / batch[\"Features\"].shape[1]"
   ]
  },
  {
   "cell_type": "markdown",
   "id": "960600f8",
   "metadata": {},
   "source": [
    "### Optimization"
   ]
  },
  {
   "cell_type": "code",
   "execution_count": 5,
   "id": "cbf8f37d",
   "metadata": {},
   "outputs": [
    {
     "name": "stderr",
     "output_type": "stream",
     "text": [
      "[I 2025-08-05 03:44:06,361] A new study created in memory with name: no-name-eeef3373-1042-4d0a-a32d-a918c50395bd\n",
      "/var/folders/p_/d3sw5v2959q517kbbgtv7cjw0000gq/T/ipykernel_63737/3016820883.py:26: FutureWarning: suggest_loguniform has been deprecated in v3.0.0. This feature will be removed in v6.0.0. See https://github.com/optuna/optuna/releases/tag/v3.0.0. Use suggest_float(..., log=True) instead.\n",
      "  lr = trial.suggest_loguniform('lr', 1e-5, 1e-2)\n",
      "/var/folders/p_/d3sw5v2959q517kbbgtv7cjw0000gq/T/ipykernel_63737/3016820883.py:30: FutureWarning: suggest_loguniform has been deprecated in v3.0.0. This feature will be removed in v6.0.0. See https://github.com/optuna/optuna/releases/tag/v3.0.0. Use suggest_float(..., log=True) instead.\n",
      "  weight_decay = trial.suggest_loguniform('weight_decay', 1e-5, 1e-2)\n",
      "100%|████████████████████████████████████████████████████████████████████████████████████████████████████████████████████████████████████████████████████████| 50/50 [02:27<00:00,  2.95s/it]\n",
      "[I 2025-08-05 03:46:34,402] Trial 0 finished with values: [24.3918974609375, 18732598.0] and parameters: {'lr': 0.00010785134724752663, 'latent_dim': 4096, 'hidden_dim': 1024, 'dropout': 0.41119345545959174, 'weight_decay': 0.00043040099309224743}.\n",
      "/var/folders/p_/d3sw5v2959q517kbbgtv7cjw0000gq/T/ipykernel_63737/3016820883.py:26: FutureWarning: suggest_loguniform has been deprecated in v3.0.0. This feature will be removed in v6.0.0. See https://github.com/optuna/optuna/releases/tag/v3.0.0. Use suggest_float(..., log=True) instead.\n",
      "  lr = trial.suggest_loguniform('lr', 1e-5, 1e-2)\n",
      "/var/folders/p_/d3sw5v2959q517kbbgtv7cjw0000gq/T/ipykernel_63737/3016820883.py:30: FutureWarning: suggest_loguniform has been deprecated in v3.0.0. This feature will be removed in v6.0.0. See https://github.com/optuna/optuna/releases/tag/v3.0.0. Use suggest_float(..., log=True) instead.\n",
      "  weight_decay = trial.suggest_loguniform('weight_decay', 1e-5, 1e-2)\n",
      "100%|████████████████████████████████████████████████████████████████████████████████████████████████████████████████████████████████████████████████████████| 50/50 [02:21<00:00,  2.84s/it]\n",
      "[I 2025-08-05 03:48:56,266] Trial 1 finished with values: [71.1558623046875, 2062070.0] and parameters: {'lr': 0.00023484734950391024, 'latent_dim': 32, 'hidden_dim': 1024, 'dropout': 0.0845156785389703, 'weight_decay': 0.005388540242918989}.\n",
      "100%|████████████████████████████████████████████████████████████████████████████████████████████████████████████████████████████████████████████████████████| 50/50 [02:26<00:00,  2.93s/it]\n",
      "[I 2025-08-05 03:51:23,018] Trial 2 finished with values: [18.21088427734375, 10155574.0] and parameters: {'lr': 0.0011008762161190224, 'latent_dim': 512, 'hidden_dim': 2048, 'dropout': 0.326767855461615, 'weight_decay': 4.114589066021446e-05}.\n",
      "100%|████████████████████████████████████████████████████████████████████████████████████████████████████████████████████████████████████████████████████████| 50/50 [02:31<00:00,  3.03s/it]\n",
      "[I 2025-08-05 03:53:54,719] Trial 3 finished with values: [3.870225341796875, 39537206.0] and parameters: {'lr': 0.00016528583402939097, 'latent_dim': 4096, 'hidden_dim': 2048, 'dropout': 0.13178114095177973, 'weight_decay': 4.159421007371049e-05}.\n",
      "100%|████████████████████████████████████████████████████████████████████████████████████████████████████████████████████████████████████████████████████████| 50/50 [02:47<00:00,  3.34s/it]\n",
      "[I 2025-08-05 03:56:42,405] Trial 4 finished with values: [27.733541625976564, 87437878.0] and parameters: {'lr': 2.084715674622574e-05, 'latent_dim': 4096, 'hidden_dim': 4096, 'dropout': 0.3845826833444743, 'weight_decay': 4.2229775059256025e-05}.\n",
      "100%|████████████████████████████████████████████████████████████████████████████████████████████████████████████████████████████████████████████████████████| 50/50 [02:25<00:00,  2.92s/it]\n",
      "[I 2025-08-05 03:59:08,249] Trial 5 finished with values: [69.8643310546875, 2806838.0] and parameters: {'lr': 2.5503697949416814e-05, 'latent_dim': 1024, 'hidden_dim': 512, 'dropout': 0.20893498022702855, 'weight_decay': 0.0028547423002642978}.\n",
      "100%|████████████████████████████████████████████████████████████████████████████████████████████████████████████████████████████████████████████████████████| 50/50 [02:27<00:00,  2.94s/it]\n",
      "[I 2025-08-05 04:01:35,444] Trial 6 finished with values: [63.12978686523437, 10331702.0] and parameters: {'lr': 1.2288583844900364e-05, 'latent_dim': 2048, 'hidden_dim': 1024, 'dropout': 0.08341145881078971, 'weight_decay': 4.2157839808831644e-05}.\n",
      "100%|████████████████████████████████████████████████████████████████████████████████████████████████████████████████████████████████████████████████████████| 50/50 [02:47<00:00,  3.35s/it]\n",
      "[I 2025-08-05 04:04:23,168] Trial 7 finished with values: [4.522628814697265, 87437878.0] and parameters: {'lr': 0.0014252468088628316, 'latent_dim': 4096, 'hidden_dim': 4096, 'dropout': 0.24252940994063527, 'weight_decay': 0.00046250584785774353}.\n",
      "100%|████████████████████████████████████████████████████████████████████████████████████████████████████████████████████████████████████████████████████████| 50/50 [02:27<00:00,  2.95s/it]\n",
      "[I 2025-08-05 04:06:50,770] Trial 8 finished with values: [11.077814819335938, 14352950.0] and parameters: {'lr': 0.0032460033071005276, 'latent_dim': 1024, 'hidden_dim': 2048, 'dropout': 0.24536246988683824, 'weight_decay': 0.002633734421784717}.\n",
      "100%|████████████████████████████████████████████████████████████████████████████████████████████████████████████████████████████████████████████████████████| 50/50 [02:18<00:00,  2.78s/it]\n",
      "[I 2025-08-05 04:09:09,617] Trial 9 finished with values: [100.98467919921875, 319478.0] and parameters: {'lr': 1.099380403778416e-05, 'latent_dim': 32, 'hidden_dim': 256, 'dropout': 0.23292994848892645, 'weight_decay': 1.8299668034957276e-05}.\n",
      "100%|████████████████████████████████████████████████████████████████████████████████████████████████████████████████████████████████████████████████████████| 50/50 [02:25<00:00,  2.90s/it]\n",
      "[I 2025-08-05 04:11:34,901] Trial 10 finished with values: [5.921243041992187, 22747702.0] and parameters: {'lr': 0.001173537533484823, 'latent_dim': 2048, 'hidden_dim': 2048, 'dropout': 0.28795176405752276, 'weight_decay': 0.0036483632945337446}.\n",
      "100%|████████████████████████████████████████████████████████████████████████████████████████████████████████████████████████████████████████████████████████| 50/50 [02:25<00:00,  2.91s/it]\n",
      "[I 2025-08-05 04:14:00,310] Trial 11 finished with values: [41.93558642578125, 4505398.0] and parameters: {'lr': 0.0041134950771249, 'latent_dim': 4096, 'hidden_dim': 256, 'dropout': 0.4445983679734694, 'weight_decay': 2.4786625804889595e-05}.\n",
      "100%|████████████████████████████████████████████████████████████████████████████████████████████████████████████████████████████████████████████████████████| 50/50 [02:26<00:00,  2.93s/it]\n",
      "[I 2025-08-05 04:16:26,726] Trial 12 finished with values: [28.1509287109375, 2980918.0] and parameters: {'lr': 0.0007284686798354398, 'latent_dim': 256, 'hidden_dim': 1024, 'dropout': 0.2142223334457568, 'weight_decay': 3.246054399532003e-05}.\n",
      "100%|████████████████████████████████████████████████████████████████████████████████████████████████████████████████████████████████████████████████████████| 50/50 [02:32<00:00,  3.04s/it]\n",
      "[I 2025-08-05 04:18:59,230] Trial 13 finished with values: [12.416393005371093, 53871158.0] and parameters: {'lr': 5.2018370863115095e-05, 'latent_dim': 2048, 'hidden_dim': 4096, 'dropout': 0.1532432834663467, 'weight_decay': 0.00016930412236605558}.\n",
      "100%|████████████████████████████████████████████████████████████████████████████████████████████████████████████████████████████████████████████████████████| 50/50 [02:23<00:00,  2.86s/it]\n",
      "[I 2025-08-05 04:21:22,402] Trial 14 finished with values: [72.62789721679688, 1341238.0] and parameters: {'lr': 3.026891765757079e-05, 'latent_dim': 1024, 'hidden_dim': 256, 'dropout': 0.043713156041100265, 'weight_decay': 0.00021077261660615494}.\n"
     ]
    },
    {
     "name": "stderr",
     "output_type": "stream",
     "text": [
      "100%|████████████████████████████████████████████████████████████████████████████████████████████████████████████████████████████████████████████████████████| 50/50 [02:35<00:00,  3.10s/it]\n",
      "[I 2025-08-05 04:23:57,582] Trial 15 finished with values: [73.65799462890625, 21353398.0] and parameters: {'lr': 0.00029022738889763794, 'latent_dim': 64, 'hidden_dim': 4096, 'dropout': 0.4276063951121375, 'weight_decay': 0.0029709676007061633}.\n",
      "100%|████████████████████████████████████████████████████████████████████████████████████████████████████████████████████████████████████████████████████████| 50/50 [02:26<00:00,  2.93s/it]\n",
      "[I 2025-08-05 04:26:24,054] Trial 16 finished with values: [13.358580688476563, 14352950.0] and parameters: {'lr': 0.0016556254953436524, 'latent_dim': 1024, 'hidden_dim': 2048, 'dropout': 0.38073091521271313, 'weight_decay': 4.141087624383497e-05}.\n",
      "100%|████████████████████████████████████████████████████████████████████████████████████████████████████████████████████████████████████████████████████████| 50/50 [02:25<00:00,  2.90s/it]\n",
      "[I 2025-08-05 04:28:49,311] Trial 17 finished with values: [53.78364526367187, 7007542.0] and parameters: {'lr': 0.00012719801143486962, 'latent_dim': 128, 'hidden_dim': 2048, 'dropout': 0.050578654314106686, 'weight_decay': 0.00044281134124735274}.\n",
      "100%|████████████████████████████████████████████████████████████████████████████████████████████████████████████████████████████████████████████████████████| 50/50 [02:33<00:00,  3.07s/it]\n",
      "[I 2025-08-05 04:31:23,148] Trial 18 finished with values: [38.20540283203125, 22402358.0] and parameters: {'lr': 0.009023803398180366, 'latent_dim': 128, 'hidden_dim': 4096, 'dropout': 0.09671369122812307, 'weight_decay': 0.006431104788574216}.\n",
      "100%|████████████████████████████████████████████████████████████████████████████████████████████████████████████████████████████████████████████████████████| 50/50 [02:26<00:00,  2.94s/it]\n",
      "[I 2025-08-05 04:33:50,051] Trial 19 finished with values: [14.108665649414062, 18732598.0] and parameters: {'lr': 9.704875690175051e-05, 'latent_dim': 4096, 'hidden_dim': 1024, 'dropout': 0.1096046099745216, 'weight_decay': 0.0015172760186444626}.\n",
      "100%|████████████████████████████████████████████████████████████████████████████████████████████████████████████████████████████████████████████████████████| 50/50 [02:23<00:00,  2.86s/it]\n",
      "[I 2025-08-05 04:36:13,321] Trial 20 finished with values: [24.168392700195312, 1229366.0] and parameters: {'lr': 0.0006503387425582593, 'latent_dim': 256, 'hidden_dim': 512, 'dropout': 0.06474944400305116, 'weight_decay': 0.0026276886987540733}.\n",
      "100%|████████████████████████████████████████████████████████████████████████████████████████████████████████████████████████████████████████████████████████| 50/50 [02:24<00:00,  2.89s/it]\n",
      "[I 2025-08-05 04:38:37,705] Trial 21 finished with values: [73.4008681640625, 2193334.0] and parameters: {'lr': 0.00019186975309080912, 'latent_dim': 64, 'hidden_dim': 1024, 'dropout': 0.3791960285153942, 'weight_decay': 0.0014972391882395327}.\n",
      "100%|████████████████████████████████████████████████████████████████████████████████████████████████████████████████████████████████████████████████████████| 50/50 [02:33<00:00,  3.07s/it]\n",
      "[I 2025-08-05 04:41:11,165] Trial 22 finished with values: [27.07305822753906, 28696118.0] and parameters: {'lr': 0.004585095570614617, 'latent_dim': 512, 'hidden_dim': 4096, 'dropout': 0.33516432412994407, 'weight_decay': 0.0049533032624960215}.\n",
      "100%|████████████████████████████████████████████████████████████████████████████████████████████████████████████████████████████████████████████████████████| 50/50 [02:24<00:00,  2.89s/it]\n",
      "[I 2025-08-05 04:43:35,760] Trial 23 finished with values: [61.11719995117188, 6131254.0] and parameters: {'lr': 2.7036049701527995e-05, 'latent_dim': 1024, 'hidden_dim': 1024, 'dropout': 0.25189132895712135, 'weight_decay': 0.0017127515021237308}.\n",
      "100%|████████████████████████████████████████████████████████████████████████████████████████████████████████████████████████████████████████████████████████| 50/50 [02:33<00:00,  3.08s/it]\n",
      "[I 2025-08-05 04:46:09,866] Trial 24 finished with values: [58.93609326171875, 24500278.0] and parameters: {'lr': 0.005598388960659753, 'latent_dim': 256, 'hidden_dim': 4096, 'dropout': 0.17683539038263552, 'weight_decay': 0.00016682977468556953}.\n",
      "100%|████████████████████████████████████████████████████████████████████████████████████████████████████████████████████████████████████████████████████████| 50/50 [02:26<00:00,  2.92s/it]\n",
      "[I 2025-08-05 04:48:36,130] Trial 25 finished with values: [71.03535107421875, 6220534.0] and parameters: {'lr': 0.0015899814941898456, 'latent_dim': 32, 'hidden_dim': 2048, 'dropout': 0.2736236282153374, 'weight_decay': 3.929455851105183e-05}.\n",
      "100%|████████████████████████████████████████████████████████████████████████████████████████████████████████████████████████████████████████████████████████| 50/50 [02:33<00:00,  3.07s/it]\n",
      "[I 2025-08-05 04:51:09,615] Trial 26 finished with values: [21.833085693359376, 28696118.0] and parameters: {'lr': 0.0009659195365318864, 'latent_dim': 512, 'hidden_dim': 4096, 'dropout': 0.41671964113350124, 'weight_decay': 0.00043070486427324657}.\n",
      "100%|████████████████████████████████████████████████████████████████████████████████████████████████████████████████████████████████████████████████████████| 50/50 [02:34<00:00,  3.10s/it]\n",
      "[I 2025-08-05 04:53:44,617] Trial 27 finished with values: [39.7351884765625, 24500278.0] and parameters: {'lr': 0.0003673331963378173, 'latent_dim': 256, 'hidden_dim': 4096, 'dropout': 0.39834468628617725, 'weight_decay': 0.0002063764449903771}.\n",
      "100%|████████████████████████████████████████████████████████████████████████████████████████████████████████████████████████████████████████████████████████| 50/50 [02:26<00:00,  2.93s/it]\n",
      "[I 2025-08-05 04:56:11,112] Trial 28 finished with values: [15.407927490234375, 2980918.0] and parameters: {'lr': 0.002845869663226317, 'latent_dim': 256, 'hidden_dim': 1024, 'dropout': 0.00937026146829295, 'weight_decay': 3.7784678590189794e-05}.\n",
      "100%|████████████████████████████████████████████████████████████████████████████████████████████████████████████████████████████████████████████████████████| 50/50 [02:26<00:00,  2.93s/it]\n",
      "[I 2025-08-05 04:58:37,841] Trial 29 finished with values: [33.506222778320314, 8056886.0] and parameters: {'lr': 0.0014459595982129476, 'latent_dim': 256, 'hidden_dim': 2048, 'dropout': 0.32861936784305623, 'weight_decay': 0.002637988639896617}.\n",
      "100%|████████████████████████████████████████████████████████████████████████████████████████████████████████████████████████████████████████████████████████| 50/50 [02:23<00:00,  2.87s/it]\n",
      "[I 2025-08-05 05:01:01,317] Trial 30 finished with values: [15.429127288818359, 1755190.0] and parameters: {'lr': 0.00480225481685459, 'latent_dim': 512, 'hidden_dim': 512, 'dropout': 0.08472091738406912, 'weight_decay': 0.008442202581361823}.\n",
      "100%|████████████████████████████████████████████████████████████████████████████████████████████████████████████████████████████████████████████████████████| 50/50 [02:22<00:00,  2.85s/it]\n",
      "[I 2025-08-05 05:03:23,893] Trial 31 finished with values: [39.900393432617186, 550198.0] and parameters: {'lr': 0.00997994356687238, 'latent_dim': 256, 'hidden_dim': 256, 'dropout': 0.18910371724667396, 'weight_decay': 0.0015366121690271357}.\n",
      "100%|████████████████████████████████████████████████████████████████████████████████████████████████████████████████████████████████████████████████████████| 50/50 [02:26<00:00,  2.93s/it]\n",
      "[I 2025-08-05 05:05:50,500] Trial 32 finished with values: [44.87510498046875, 10155574.0] and parameters: {'lr': 5.077775506327688e-05, 'latent_dim': 512, 'hidden_dim': 2048, 'dropout': 0.12847272087453165, 'weight_decay': 0.000373603804728804}.\n",
      "100%|████████████████████████████████████████████████████████████████████████████████████████████████████████████████████████████████████████████████████████| 50/50 [02:36<00:00,  3.12s/it]\n",
      "[I 2025-08-05 05:08:26,690] Trial 33 finished with values: [54.45549780273438, 21353398.0] and parameters: {'lr': 0.0030989413994944376, 'latent_dim': 64, 'hidden_dim': 4096, 'dropout': 0.1549391819242662, 'weight_decay': 0.00012114089556470953}.\n"
     ]
    },
    {
     "name": "stderr",
     "output_type": "stream",
     "text": [
      "100%|████████████████████████████████████████████████████████████████████████████████████████████████████████████████████████████████████████████████████████| 50/50 [02:23<00:00,  2.87s/it]\n",
      "[I 2025-08-05 05:10:50,383] Trial 34 finished with values: [79.58945336914063, 418358.0] and parameters: {'lr': 4.087619707783087e-05, 'latent_dim': 128, 'hidden_dim': 256, 'dropout': 0.06009278365529991, 'weight_decay': 6.226346644100608e-05}.\n",
      "100%|████████████████████████████████████████████████████████████████████████████████████████████████████████████████████████████████████████████████████████| 50/50 [02:25<00:00,  2.91s/it]\n",
      "[I 2025-08-05 05:13:15,797] Trial 35 finished with values: [55.548109375, 2980918.0] and parameters: {'lr': 9.57013506601575e-05, 'latent_dim': 256, 'hidden_dim': 1024, 'dropout': 0.19652847497271092, 'weight_decay': 0.00023303967268901074}.\n",
      "100%|████████████████████████████████████████████████████████████████████████████████████████████████████████████████████████████████████████████████████████| 50/50 [02:25<00:00,  2.90s/it]\n",
      "[I 2025-08-05 05:15:41,059] Trial 36 finished with values: [52.2667998046875, 1229366.0] and parameters: {'lr': 0.0007717544454516151, 'latent_dim': 256, 'hidden_dim': 512, 'dropout': 0.3960883943526267, 'weight_decay': 1.1829693903474744e-05}.\n",
      "100%|████████████████████████████████████████████████████████████████████████████████████████████████████████████████████████████████████████████████████████| 50/50 [02:24<00:00,  2.89s/it]\n",
      "[I 2025-08-05 05:18:05,817] Trial 37 finished with values: [71.61621752929688, 6131254.0] and parameters: {'lr': 1.790237729735196e-05, 'latent_dim': 1024, 'hidden_dim': 1024, 'dropout': 0.38833576724692453, 'weight_decay': 0.001311863777299815}.\n",
      "100%|████████████████████████████████████████████████████████████████████████████████████████████████████████████████████████████████████████████████████████| 50/50 [02:26<00:00,  2.94s/it]\n",
      "[I 2025-08-05 05:20:32,687] Trial 38 finished with values: [16.804427978515626, 8056886.0] and parameters: {'lr': 0.00044504869715686015, 'latent_dim': 256, 'hidden_dim': 2048, 'dropout': 0.05947120720739868, 'weight_decay': 0.0005970133549973363}.\n",
      "100%|████████████████████████████████████████████████████████████████████████████████████████████████████████████████████████████████████████████████████████| 50/50 [02:22<00:00,  2.85s/it]\n",
      "[I 2025-08-05 05:22:55,420] Trial 39 finished with values: [77.2425205078125, 352438.0] and parameters: {'lr': 0.0003824211765240525, 'latent_dim': 64, 'hidden_dim': 256, 'dropout': 0.4685153941569599, 'weight_decay': 0.0003283692218451411}.\n",
      "100%|████████████████████████████████████████████████████████████████████████████████████████████████████████████████████████████████████████████████████████| 50/50 [02:36<00:00,  3.12s/it]\n",
      "[I 2025-08-05 05:25:31,578] Trial 40 finished with values: [73.43883520507812, 21353398.0] and parameters: {'lr': 5.350122888388513e-05, 'latent_dim': 64, 'hidden_dim': 4096, 'dropout': 0.14485175854823246, 'weight_decay': 0.0002643584396187115}.\n",
      "100%|████████████████████████████████████████████████████████████████████████████████████████████████████████████████████████████████████████████████████████| 50/50 [02:31<00:00,  3.03s/it]\n",
      "[I 2025-08-05 05:28:03,324] Trial 41 finished with values: [3.1559088134765627, 39537206.0] and parameters: {'lr': 0.0006305359855059955, 'latent_dim': 4096, 'hidden_dim': 2048, 'dropout': 0.24023400600912903, 'weight_decay': 8.822367002515846e-05}.\n",
      "100%|████████████████████████████████████████████████████████████████████████████████████████████████████████████████████████████████████████████████████████| 50/50 [02:31<00:00,  3.03s/it]\n",
      "[I 2025-08-05 05:30:35,125] Trial 42 finished with values: [7.956449432373047, 39537206.0] and parameters: {'lr': 0.0021385832722501034, 'latent_dim': 4096, 'hidden_dim': 2048, 'dropout': 0.04765636700655207, 'weight_decay': 0.00034198745653704144}.\n",
      "100%|████████████████████████████████████████████████████████████████████████████████████████████████████████████████████████████████████████████████████████| 50/50 [02:25<00:00,  2.91s/it]\n",
      "[I 2025-08-05 05:33:00,440] Trial 43 finished with values: [65.48446142578125, 6131254.0] and parameters: {'lr': 2.0999935182880865e-05, 'latent_dim': 1024, 'hidden_dim': 1024, 'dropout': 0.2525347972501927, 'weight_decay': 0.0001757488398219512}.\n",
      "100%|████████████████████████████████████████████████████████████████████████████████████████████████████████████████████████████████████████████████████████| 50/50 [02:24<00:00,  2.88s/it]\n",
      "[I 2025-08-05 05:35:24,497] Trial 44 finished with values: [89.40011669921876, 2062070.0] and parameters: {'lr': 2.3552416588147327e-05, 'latent_dim': 32, 'hidden_dim': 1024, 'dropout': 0.2645324308151394, 'weight_decay': 0.009811588348974568}.\n",
      "100%|████████████████████████████████████████████████████████████████████████████████████████████████████████████████████████████████████████████████████████| 50/50 [02:25<00:00,  2.92s/it]\n",
      "[I 2025-08-05 05:37:50,388] Trial 45 finished with values: [50.33899096679688, 2980918.0] and parameters: {'lr': 0.0002634687844321477, 'latent_dim': 256, 'hidden_dim': 1024, 'dropout': 0.3759645591046875, 'weight_decay': 3.383148245330149e-05}.\n",
      "100%|████████████████████████████████████████████████████████████████████████████████████████████████████████████████████████████████████████████████████████| 50/50 [02:36<00:00,  3.13s/it]\n",
      "[I 2025-08-05 05:40:26,950] Trial 46 finished with values: [70.7906552734375, 20828918.0] and parameters: {'lr': 0.0003967207031382916, 'latent_dim': 32, 'hidden_dim': 4096, 'dropout': 0.19511102769295668, 'weight_decay': 0.006605631798486008}.\n",
      "100%|████████████████████████████████████████████████████████████████████████████████████████████████████████████████████████████████████████████████████████| 50/50 [02:26<00:00,  2.94s/it]\n",
      "[I 2025-08-05 05:42:53,903] Trial 47 finished with values: [14.003587127685547, 22747702.0] and parameters: {'lr': 0.006973867630130568, 'latent_dim': 2048, 'hidden_dim': 2048, 'dropout': 0.031727539704485885, 'weight_decay': 0.002115660576592712}.\n",
      "100%|████████████████████████████████████████████████████████████████████████████████████████████████████████████████████████████████████████████████████████| 50/50 [02:25<00:00,  2.91s/it]\n",
      "[I 2025-08-05 05:45:19,584] Trial 48 finished with values: [32.46679284667969, 2455862.0] and parameters: {'lr': 0.000579143129754614, 'latent_dim': 128, 'hidden_dim': 1024, 'dropout': 0.015359191241134107, 'weight_decay': 1.98797961942729e-05}.\n",
      "100%|████████████████████████████████████████████████████████████████████████████████████████████████████████████████████████████████████████████████████████| 50/50 [02:25<00:00,  2.90s/it]\n",
      "[I 2025-08-05 05:47:44,627] Trial 49 finished with values: [70.86833984375, 966454.0] and parameters: {'lr': 7.128977581111499e-05, 'latent_dim': 128, 'hidden_dim': 512, 'dropout': 0.07912890031204944, 'weight_decay': 1.4404897779392952e-05}.\n",
      "100%|████████████████████████████████████████████████████████████████████████████████████████████████████████████████████████████████████████████████████████| 50/50 [02:26<00:00,  2.92s/it]\n",
      "[I 2025-08-05 05:50:10,885] Trial 50 finished with values: [10.659562286376953, 22747702.0] and parameters: {'lr': 0.0003824211765240525, 'latent_dim': 2048, 'hidden_dim': 2048, 'dropout': 0.4685153941569599, 'weight_decay': 0.0003283692218451411}.\n",
      "100%|████████████████████████████████████████████████████████████████████████████████████████████████████████████████████████████████████████████████████████| 50/50 [02:24<00:00,  2.89s/it]\n",
      "[I 2025-08-05 05:52:35,628] Trial 51 finished with values: [93.49336279296875, 834998.0] and parameters: {'lr': 0.0030989413994944376, 'latent_dim': 64, 'hidden_dim': 512, 'dropout': 0.4703321522227195, 'weight_decay': 0.00012114089556470953}.\n",
      "100%|████████████████████████████████████████████████████████████████████████████████████████████████████████████████████████████████████████████████████████| 50/50 [02:33<00:00,  3.08s/it]\n",
      "[I 2025-08-05 05:55:09,737] Trial 52 finished with values: [36.791175537109375, 28696118.0] and parameters: {'lr': 7.128977581111499e-05, 'latent_dim': 512, 'hidden_dim': 4096, 'dropout': 0.29846930130792565, 'weight_decay': 0.00043070486427324657}.\n"
     ]
    },
    {
     "name": "stderr",
     "output_type": "stream",
     "text": [
      "100%|████████████████████████████████████████████████████████████████████████████████████████████████████████████████████████████████████████████████████████| 50/50 [02:49<00:00,  3.38s/it]\n",
      "[I 2025-08-05 05:57:59,361] Trial 53 finished with values: [3.225720245361328, 87437878.0] and parameters: {'lr': 0.00010785134724752663, 'latent_dim': 4096, 'hidden_dim': 4096, 'dropout': 0.043713156041100265, 'weight_decay': 0.00021077261660615494}.\n",
      "100%|████████████████████████████████████████████████████████████████████████████████████████████████████████████████████████████████████████████████████████| 50/50 [02:26<00:00,  2.93s/it]\n",
      "[I 2025-08-05 06:00:25,707] Trial 54 finished with values: [87.56761254882812, 1341238.0] and parameters: {'lr': 1.1753833461309116e-05, 'latent_dim': 1024, 'hidden_dim': 256, 'dropout': 0.23292994848892645, 'weight_decay': 1.8299668034957276e-05}.\n",
      "100%|████████████████████████████████████████████████████████████████████████████████████████████████████████████████████████████████████████████████████████| 50/50 [02:25<00:00,  2.92s/it]\n",
      "[I 2025-08-05 06:02:51,522] Trial 55 finished with values: [79.39849731445312, 1341238.0] and parameters: {'lr': 1.790237729735196e-05, 'latent_dim': 1024, 'hidden_dim': 256, 'dropout': 0.043713156041100265, 'weight_decay': 0.00026456034771726243}.\n",
      "100%|████████████████████████████████████████████████████████████████████████████████████████████████████████████████████████████████████████████████████████| 50/50 [02:26<00:00,  2.93s/it]\n",
      "[I 2025-08-05 06:05:18,067] Trial 56 finished with values: [32.948640502929685, 2806838.0] and parameters: {'lr': 0.0032460033071005276, 'latent_dim': 1024, 'hidden_dim': 512, 'dropout': 0.3960883943526267, 'weight_decay': 1.1829693903474744e-05}.\n",
      "100%|████████████████████████████████████████████████████████████████████████████████████████████████████████████████████████████████████████████████████████| 50/50 [02:25<00:00,  2.91s/it]\n",
      "[I 2025-08-05 06:07:43,534] Trial 57 finished with values: [80.88316064453124, 813878.0] and parameters: {'lr': 3.404041532865818e-05, 'latent_dim': 512, 'hidden_dim': 256, 'dropout': 0.41671964113350124, 'weight_decay': 0.00043070486427324657}.\n",
      "100%|████████████████████████████████████████████████████████████████████████████████████████████████████████████████████████████████████████████████████████| 50/50 [02:26<00:00,  2.93s/it]\n",
      "[I 2025-08-05 06:10:10,029] Trial 58 finished with values: [32.71655944824219, 2455862.0] and parameters: {'lr': 0.000579143129754614, 'latent_dim': 128, 'hidden_dim': 1024, 'dropout': 0.015359191241134107, 'weight_decay': 1.98797961942729e-05}.\n",
      "100%|████████████████████████████████████████████████████████████████████████████████████████████████████████████████████████████████████████████████████████| 50/50 [02:28<00:00,  2.97s/it]\n",
      "[I 2025-08-05 06:12:38,621] Trial 59 finished with values: [46.31617907714844, 7007542.0] and parameters: {'lr': 0.004770702525038839, 'latent_dim': 128, 'hidden_dim': 2048, 'dropout': 0.2349785259147486, 'weight_decay': 1.4404897779392952e-05}.\n",
      "100%|████████████████████████████████████████████████████████████████████████████████████████████████████████████████████████████████████████████████████████| 50/50 [02:28<00:00,  2.96s/it]\n",
      "[I 2025-08-05 06:15:06,797] Trial 60 finished with values: [13.553231811523437, 18732598.0] and parameters: {'lr': 9.704875690175051e-05, 'latent_dim': 4096, 'hidden_dim': 1024, 'dropout': 0.1096046099745216, 'weight_decay': 0.0015172760186444626}.\n",
      "100%|████████████████████████████████████████████████████████████████████████████████████████████████████████████████████████████████████████████████████████| 50/50 [02:20<00:00,  2.81s/it]\n",
      "[I 2025-08-05 06:17:27,419] Trial 61 finished with values: [76.55157299804688, 352438.0] and parameters: {'lr': 9.704875690175051e-05, 'latent_dim': 64, 'hidden_dim': 256, 'dropout': 0.1096046099745216, 'weight_decay': 0.0015172760186444626}.\n",
      "100%|████████████████████████████████████████████████████████████████████████████████████████████████████████████████████████████████████████████████████████| 50/50 [02:36<00:00,  3.13s/it]\n",
      "[I 2025-08-05 06:20:03,948] Trial 62 finished with values: [74.646857421875, 21353398.0] and parameters: {'lr': 5.350122888388513e-05, 'latent_dim': 64, 'hidden_dim': 4096, 'dropout': 0.20230105058479508, 'weight_decay': 0.0002643584396187115}.\n",
      "100%|████████████████████████████████████████████████████████████████████████████████████████████████████████████████████████████████████████████████████████| 50/50 [02:25<00:00,  2.90s/it]\n",
      "[I 2025-08-05 06:22:29,077] Trial 63 finished with values: [66.50331201171875, 2455862.0] and parameters: {'lr': 7.128977581111499e-05, 'latent_dim': 128, 'hidden_dim': 1024, 'dropout': 0.07912890031204944, 'weight_decay': 0.0014972391882395327}.\n",
      "100%|████████████████████████████████████████████████████████████████████████████████████████████████████████████████████████████████████████████████████████| 50/50 [02:34<00:00,  3.09s/it]\n",
      "[I 2025-08-05 06:25:03,902] Trial 64 finished with values: [34.08242663574219, 24500278.0] and parameters: {'lr': 0.0014459595982129476, 'latent_dim': 256, 'hidden_dim': 4096, 'dropout': 0.33516432412994407, 'weight_decay': 0.0049533032624960215}.\n",
      "100%|████████████████████████████████████████████████████████████████████████████████████████████████████████████████████████████████████████████████████████| 50/50 [02:35<00:00,  3.12s/it]\n",
      "[I 2025-08-05 06:27:39,789] Trial 65 finished with values: [83.8940400390625, 22402358.0] and parameters: {'lr': 0.007403244717080373, 'latent_dim': 128, 'hidden_dim': 4096, 'dropout': 0.36471929113114754, 'weight_decay': 0.00046250584785774353}.\n",
      "100%|████████████████████████████████████████████████████████████████████████████████████████████████████████████████████████████████████████████████████████| 50/50 [02:27<00:00,  2.94s/it]\n",
      "[I 2025-08-05 06:30:07,029] Trial 66 finished with values: [82.90783911132813, 4505398.0] and parameters: {'lr': 1.099380403778416e-05, 'latent_dim': 4096, 'hidden_dim': 256, 'dropout': 0.23292994848892645, 'weight_decay': 0.00043040099309224743}.\n",
      "100%|████████████████████████████████████████████████████████████████████████████████████████████████████████████████████████████████████████████████████████| 50/50 [02:36<00:00,  3.12s/it]\n",
      "[I 2025-08-05 06:32:43,355] Trial 67 finished with values: [70.86476611328125, 20828918.0] and parameters: {'lr': 0.0003967207031382916, 'latent_dim': 32, 'hidden_dim': 4096, 'dropout': 0.19511102769295668, 'weight_decay': 0.006605631798486008}.\n",
      "100%|████████████████████████████████████████████████████████████████████████████████████████████████████████████████████████████████████████████████████████| 50/50 [02:23<00:00,  2.88s/it]\n",
      "[I 2025-08-05 06:35:07,279] Trial 68 finished with values: [60.65336059570313, 2062070.0] and parameters: {'lr': 0.002845869663226317, 'latent_dim': 32, 'hidden_dim': 1024, 'dropout': 0.00937026146829295, 'weight_decay': 0.009811588348974568}.\n",
      "100%|████████████████████████████████████████████████████████████████████████████████████████████████████████████████████████████████████████████████████████| 50/50 [02:25<00:00,  2.91s/it]\n",
      "[I 2025-08-05 06:37:32,654] Trial 69 finished with values: [32.967264038085936, 2455862.0] and parameters: {'lr': 0.000579143129754614, 'latent_dim': 128, 'hidden_dim': 1024, 'dropout': 0.015359191241134107, 'weight_decay': 1.98797961942729e-05}.\n",
      "100%|████████████████████████████████████████████████████████████████████████████████████████████████████████████████████████████████████████████████████████| 50/50 [02:24<00:00,  2.89s/it]\n",
      "[I 2025-08-05 06:39:56,957] Trial 70 finished with values: [86.06990161132812, 1341238.0] and parameters: {'lr': 1.2288583844900364e-05, 'latent_dim': 1024, 'hidden_dim': 256, 'dropout': 0.18910371724667396, 'weight_decay': 4.2157839808831644e-05}.\n",
      "100%|████████████████████████████████████████████████████████████████████████████████████████████████████████████████████████████████████████████████████████| 50/50 [02:27<00:00,  2.96s/it]\n",
      "[I 2025-08-05 06:42:25,006] Trial 71 finished with values: [12.770924621582031, 10331702.0] and parameters: {'lr': 0.0002634687844321477, 'latent_dim': 2048, 'hidden_dim': 1024, 'dropout': 0.28795176405752276, 'weight_decay': 3.383148245330149e-05}.\n"
     ]
    },
    {
     "name": "stderr",
     "output_type": "stream",
     "text": [
      "100%|████████████████████████████████████████████████████████████████████████████████████████████████████████████████████████████████████████████████████████| 50/50 [02:21<00:00,  2.84s/it]\n",
      "[I 2025-08-05 06:44:47,002] Trial 72 finished with values: [57.6904462890625, 418358.0] and parameters: {'lr': 0.0011008762161190224, 'latent_dim': 128, 'hidden_dim': 256, 'dropout': 0.26971423183248716, 'weight_decay': 4.114589066021446e-05}.\n",
      "100%|████████████████████████████████████████████████████████████████████████████████████████████████████████████████████████████████████████████████████████| 50/50 [02:24<00:00,  2.89s/it]\n",
      "[I 2025-08-05 06:47:11,528] Trial 73 finished with values: [82.97096484375, 1341238.0] and parameters: {'lr': 2.5503697949416814e-05, 'latent_dim': 1024, 'hidden_dim': 256, 'dropout': 0.4685153941569599, 'weight_decay': 0.0028547423002642978}.\n",
      "100%|████████████████████████████████████████████████████████████████████████████████████████████████████████████████████████████████████████████████████████| 50/50 [02:47<00:00,  3.35s/it]\n",
      "[I 2025-08-05 06:49:59,543] Trial 74 finished with values: [18.667601196289063, 87437878.0] and parameters: {'lr': 2.084715674622574e-05, 'latent_dim': 4096, 'hidden_dim': 4096, 'dropout': 0.1096046099745216, 'weight_decay': 4.2229775059256025e-05}.\n",
      "100%|████████████████████████████████████████████████████████████████████████████████████████████████████████████████████████████████████████████████████████| 50/50 [02:24<00:00,  2.88s/it]\n",
      "[I 2025-08-05 06:52:23,628] Trial 75 finished with values: [55.977438232421875, 1755190.0] and parameters: {'lr': 7.128977581111499e-05, 'latent_dim': 512, 'hidden_dim': 512, 'dropout': 0.07912890031204944, 'weight_decay': 1.4404897779392952e-05}.\n",
      "100%|████████████████████████████████████████████████████████████████████████████████████████████████████████████████████████████████████████████████████████| 50/50 [02:22<00:00,  2.86s/it]\n",
      "[I 2025-08-05 06:54:46,643] Trial 76 finished with values: [39.58521069335937, 813878.0] and parameters: {'lr': 0.0003824211765240525, 'latent_dim': 512, 'hidden_dim': 256, 'dropout': 0.12847272087453165, 'weight_decay': 0.0003283692218451411}.\n",
      "100%|████████████████████████████████████████████████████████████████████████████████████████████████████████████████████████████████████████████████████████| 50/50 [02:24<00:00,  2.88s/it]\n",
      "[I 2025-08-05 06:57:10,804] Trial 77 finished with values: [24.850081604003908, 1229366.0] and parameters: {'lr': 0.0006503387425582593, 'latent_dim': 256, 'hidden_dim': 512, 'dropout': 0.06474944400305116, 'weight_decay': 0.0026276886987540733}.\n",
      "100%|████████████████████████████████████████████████████████████████████████████████████████████████████████████████████████████████████████████████████████| 50/50 [02:28<00:00,  2.98s/it]\n",
      "[I 2025-08-05 06:59:39,866] Trial 78 finished with values: [16.914957885742187, 18732598.0] and parameters: {'lr': 0.00016249668330785852, 'latent_dim': 4096, 'hidden_dim': 1024, 'dropout': 0.3759645591046875, 'weight_decay': 0.0007109701842735433}.\n",
      "100%|████████████████████████████████████████████████████████████████████████████████████████████████████████████████████████████████████████████████████████| 50/50 [02:32<00:00,  3.05s/it]\n",
      "[I 2025-08-05 07:02:12,757] Trial 79 finished with values: [4.829578521728515, 39537206.0] and parameters: {'lr': 0.0014252468088628316, 'latent_dim': 4096, 'hidden_dim': 2048, 'dropout': 0.24252940994063527, 'weight_decay': 0.00046250584785774353}.\n",
      "100%|████████████████████████████████████████████████████████████████████████████████████████████████████████████████████████████████████████████████████████| 50/50 [02:27<00:00,  2.94s/it]\n",
      "[I 2025-08-05 07:04:39,893] Trial 80 finished with values: [69.05376513671875, 6220534.0] and parameters: {'lr': 0.0003674156734309753, 'latent_dim': 32, 'hidden_dim': 2048, 'dropout': 0.13178114095177973, 'weight_decay': 1.377321801397118e-05}.\n",
      "100%|████████████████████████████████████████████████████████████████████████████████████████████████████████████████████████████████████████████████████████| 50/50 [02:28<00:00,  2.97s/it]\n",
      "[I 2025-08-05 07:07:08,580] Trial 81 finished with values: [39.56751013183594, 10155574.0] and parameters: {'lr': 9.704875690175051e-05, 'latent_dim': 512, 'hidden_dim': 2048, 'dropout': 0.326767855461615, 'weight_decay': 0.0015172760186444626}.\n",
      "100%|████████████████████████████████████████████████████████████████████████████████████████████████████████████████████████████████████████████████████████| 50/50 [02:36<00:00,  3.13s/it]\n",
      "[I 2025-08-05 07:09:45,375] Trial 82 finished with values: [67.31856567382812, 21353398.0] and parameters: {'lr': 0.00027828124687918535, 'latent_dim': 64, 'hidden_dim': 4096, 'dropout': 0.31636883373248514, 'weight_decay': 0.0002643584396187115}.\n",
      "100%|████████████████████████████████████████████████████████████████████████████████████████████████████████████████████████████████████████████████████████| 50/50 [02:27<00:00,  2.95s/it]\n",
      "[I 2025-08-05 07:12:12,774] Trial 83 finished with values: [33.092306518554686, 7007542.0] and parameters: {'lr': 0.002674784114675279, 'latent_dim': 128, 'hidden_dim': 2048, 'dropout': 0.031727539704485885, 'weight_decay': 0.0028547423002642978}.\n",
      "100%|████████████████████████████████████████████████████████████████████████████████████████████████████████████████████████████████████████████████████████| 50/50 [02:25<00:00,  2.92s/it]\n",
      "[I 2025-08-05 07:14:38,641] Trial 84 finished with values: [61.2461728515625, 6131254.0] and parameters: {'lr': 2.7036049701527995e-05, 'latent_dim': 1024, 'hidden_dim': 1024, 'dropout': 0.2525347972501927, 'weight_decay': 0.0001757488398219512}.\n",
      "100%|████████████████████████████████████████████████████████████████████████████████████████████████████████████████████████████████████████████████████████| 50/50 [02:24<00:00,  2.89s/it]\n",
      "[I 2025-08-05 07:17:03,271] Trial 85 finished with values: [56.409008544921875, 1229366.0] and parameters: {'lr': 0.00011105432690562609, 'latent_dim': 256, 'hidden_dim': 512, 'dropout': 0.08472091738406912, 'weight_decay': 0.002637988639896617}.\n",
      "100%|████████████████████████████████████████████████████████████████████████████████████████████████████████████████████████████████████████████████████████| 50/50 [02:28<00:00,  2.98s/it]\n",
      "[I 2025-08-05 07:19:32,378] Trial 86 finished with values: [14.2412138671875, 18732598.0] and parameters: {'lr': 9.704875690175051e-05, 'latent_dim': 4096, 'hidden_dim': 1024, 'dropout': 0.1096046099745216, 'weight_decay': 3.929455851105183e-05}.\n",
      "100%|████████████████████████████████████████████████████████████████████████████████████████████████████████████████████████████████████████████████████████| 50/50 [02:26<00:00,  2.94s/it]\n",
      "[I 2025-08-05 07:21:59,194] Trial 87 finished with values: [16.72262829589844, 2980918.0] and parameters: {'lr': 0.0007130032960533752, 'latent_dim': 256, 'hidden_dim': 1024, 'dropout': 0.05947120720739868, 'weight_decay': 3.383148245330149e-05}.\n",
      "100%|████████████████████████████████████████████████████████████████████████████████████████████████████████████████████████████████████████████████████████| 50/50 [02:26<00:00,  2.92s/it]\n",
      "[I 2025-08-05 07:24:25,429] Trial 88 finished with values: [21.108282836914064, 6131254.0] and parameters: {'lr': 0.0006503387425582593, 'latent_dim': 1024, 'hidden_dim': 1024, 'dropout': 0.38833576724692453, 'weight_decay': 0.0026276886987540733}.\n",
      "100%|████████████████████████████████████████████████████████████████████████████████████████████████████████████████████████████████████████████████████████| 50/50 [02:28<00:00,  2.97s/it]\n",
      "[I 2025-08-05 07:26:53,775] Trial 89 finished with values: [16.742340637207032, 8056886.0] and parameters: {'lr': 0.00044504869715686015, 'latent_dim': 256, 'hidden_dim': 2048, 'dropout': 0.05947120720739868, 'weight_decay': 0.0005970133549973363}.\n",
      "100%|████████████████████████████████████████████████████████████████████████████████████████████████████████████████████████████████████████████████████████| 50/50 [02:35<00:00,  3.10s/it]\n",
      "[I 2025-08-05 07:29:29,179] Trial 90 finished with values: [18.477657897949218, 53871158.0] and parameters: {'lr': 5.2018370863115095e-05, 'latent_dim': 2048, 'hidden_dim': 4096, 'dropout': 0.37759964938182883, 'weight_decay': 0.006674039241723513}.\n"
     ]
    },
    {
     "name": "stderr",
     "output_type": "stream",
     "text": [
      "100%|████████████████████████████████████████████████████████████████████████████████████████████████████████████████████████████████████████████████████████| 50/50 [02:28<00:00,  2.96s/it]\n",
      "[I 2025-08-05 07:31:57,366] Trial 91 finished with values: [49.2493798828125, 1229366.0] and parameters: {'lr': 0.00997994356687238, 'latent_dim': 256, 'hidden_dim': 512, 'dropout': 0.36906074052850624, 'weight_decay': 0.0015366121690271357}.\n",
      "100%|████████████████████████████████████████████████████████████████████████████████████████████████████████████████████████████████████████████████████████| 50/50 [02:27<00:00,  2.95s/it]\n",
      "[I 2025-08-05 07:34:24,730] Trial 92 finished with values: [33.43113427734375, 8056886.0] and parameters: {'lr': 0.0014459595982129476, 'latent_dim': 256, 'hidden_dim': 2048, 'dropout': 0.32861936784305623, 'weight_decay': 2.1481392150053203e-05}.\n",
      "100%|████████████████████████████████████████████████████████████████████████████████████████████████████████████████████████████████████████████████████████| 50/50 [02:32<00:00,  3.05s/it]\n",
      "[I 2025-08-05 07:36:57,512] Trial 93 finished with values: [10.976962097167968, 39537206.0] and parameters: {'lr': 0.0041134950771249, 'latent_dim': 4096, 'hidden_dim': 2048, 'dropout': 0.4445983679734694, 'weight_decay': 2.4786625804889595e-05}.\n",
      "100%|████████████████████████████████████████████████████████████████████████████████████████████████████████████████████████████████████████████████████████| 50/50 [02:26<00:00,  2.93s/it]\n",
      "[I 2025-08-05 07:39:23,805] Trial 94 finished with values: [10.549066436767578, 6131254.0] and parameters: {'lr': 0.0032460033071005276, 'latent_dim': 1024, 'hidden_dim': 1024, 'dropout': 0.1096046099745216, 'weight_decay': 0.002633734421784717}.\n",
      "100%|████████████████████████████████████████████████████████████████████████████████████████████████████████████████████████████████████████████████████████| 50/50 [02:26<00:00,  2.93s/it]\n",
      "[I 2025-08-05 07:41:50,492] Trial 95 finished with values: [83.54554443359375, 2193334.0] and parameters: {'lr': 2.0999935182880865e-05, 'latent_dim': 64, 'hidden_dim': 1024, 'dropout': 0.1549391819242662, 'weight_decay': 0.0001757488398219512}.\n",
      "100%|████████████████████████████████████████████████████████████████████████████████████████████████████████████████████████████████████████████████████████| 50/50 [02:28<00:00,  2.96s/it]\n",
      "[I 2025-08-05 07:44:18,565] Trial 96 finished with values: [18.172796508789062, 10155574.0] and parameters: {'lr': 0.0032460033071005276, 'latent_dim': 512, 'hidden_dim': 2048, 'dropout': 0.24536246988683824, 'weight_decay': 0.007445946810551773}.\n",
      "100%|████████████████████████████████████████████████████████████████████████████████████████████████████████████████████████████████████████████████████████| 50/50 [02:22<00:00,  2.85s/it]\n",
      "[I 2025-08-05 07:46:41,018] Trial 97 finished with values: [81.91354125976562, 319478.0] and parameters: {'lr': 0.00010785134724752663, 'latent_dim': 32, 'hidden_dim': 256, 'dropout': 0.23292994848892645, 'weight_decay': 0.00043040099309224743}.\n",
      "100%|████████████████████████████████████████████████████████████████████████████████████████████████████████████████████████████████████████████████████████| 50/50 [02:21<00:00,  2.84s/it]\n",
      "[I 2025-08-05 07:49:02,915] Trial 98 finished with values: [66.28863208007813, 319478.0] and parameters: {'lr': 0.0005386060664441708, 'latent_dim': 32, 'hidden_dim': 256, 'dropout': 0.06474944400305116, 'weight_decay': 0.0026276886987540733}.\n",
      "100%|████████████████████████████████████████████████████████████████████████████████████████████████████████████████████████████████████████████████████████| 50/50 [02:25<00:00,  2.92s/it]\n",
      "[I 2025-08-05 07:51:28,869] Trial 99 finished with values: [15.17159161376953, 1229366.0] and parameters: {'lr': 0.002845869663226317, 'latent_dim': 256, 'hidden_dim': 512, 'dropout': 0.00937026146829295, 'weight_decay': 3.7784678590189794e-05}.\n",
      "100%|████████████████████████████████████████████████████████████████████████████████████████████████████████████████████████████████████████████████████████| 50/50 [02:27<00:00,  2.94s/it]\n",
      "[I 2025-08-05 07:53:56,155] Trial 100 finished with values: [75.044029296875, 2806838.0] and parameters: {'lr': 1.452002580140755e-05, 'latent_dim': 1024, 'hidden_dim': 512, 'dropout': 0.1096046099745216, 'weight_decay': 0.0015172760186444626}.\n",
      "100%|████████████████████████████████████████████████████████████████████████████████████████████████████████████████████████████████████████████████████████| 50/50 [02:28<00:00,  2.97s/it]\n",
      "[I 2025-08-05 07:56:24,620] Trial 101 finished with values: [40.25176489257812, 8056886.0] and parameters: {'lr': 0.0016556254953436524, 'latent_dim': 256, 'hidden_dim': 2048, 'dropout': 0.38073091521271313, 'weight_decay': 0.0003283692218451411}.\n",
      "100%|████████████████████████████████████████████████████████████████████████████████████████████████████████████████████████████████████████████████████████| 50/50 [02:27<00:00,  2.95s/it]\n",
      "[I 2025-08-05 07:58:51,970] Trial 102 finished with values: [11.994559539794922, 2806838.0] and parameters: {'lr': 0.0032460033071005276, 'latent_dim': 1024, 'hidden_dim': 512, 'dropout': 0.00937026146829295, 'weight_decay': 1.1829693903474744e-05}.\n",
      "100%|████████████████████████████████████████████████████████████████████████████████████████████████████████████████████████████████████████████████████████| 50/50 [02:29<00:00,  2.98s/it]\n",
      "[I 2025-08-05 08:01:21,165] Trial 103 finished with values: [26.51881707763672, 1755190.0] and parameters: {'lr': 0.00480225481685459, 'latent_dim': 512, 'hidden_dim': 512, 'dropout': 0.2369027764783707, 'weight_decay': 0.0005970133549973363}.\n",
      "100%|████████████████████████████████████████████████████████████████████████████████████████████████████████████████████████████████████████████████████████| 50/50 [02:27<00:00,  2.95s/it]\n",
      "[I 2025-08-05 08:03:48,911] Trial 104 finished with values: [87.31011181640625, 352438.0] and parameters: {'lr': 0.0030989413994944376, 'latent_dim': 64, 'hidden_dim': 256, 'dropout': 0.4703321522227195, 'weight_decay': 4.114589066021446e-05}.\n",
      "100%|████████████████████████████████████████████████████████████████████████████████████████████████████████████████████████████████████████████████████████| 50/50 [02:31<00:00,  3.04s/it]\n",
      "[I 2025-08-05 08:06:20,934] Trial 105 finished with values: [9.366346313476562, 39537206.0] and parameters: {'lr': 0.0041134950771249, 'latent_dim': 4096, 'hidden_dim': 2048, 'dropout': 0.08472091738406912, 'weight_decay': 0.002637988639896617}.\n",
      "100%|████████████████████████████████████████████████████████████████████████████████████████████████████████████████████████████████████████████████████████| 50/50 [02:27<00:00,  2.94s/it]\n",
      "[I 2025-08-05 08:08:48,169] Trial 106 finished with values: [67.87395556640625, 4505398.0] and parameters: {'lr': 3.404041532865818e-05, 'latent_dim': 4096, 'hidden_dim': 256, 'dropout': 0.24252940994063527, 'weight_decay': 0.00046250584785774353}.\n",
      "100%|████████████████████████████████████████████████████████████████████████████████████████████████████████████████████████████████████████████████████████| 50/50 [02:28<00:00,  2.96s/it]\n",
      "[I 2025-08-05 08:11:16,395] Trial 107 finished with values: [7.9955715026855465, 14352950.0] and parameters: {'lr': 0.0014252468088628316, 'latent_dim': 1024, 'hidden_dim': 2048, 'dropout': 0.24252940994063527, 'weight_decay': 4.141087624383497e-05}.\n",
      "100%|████████████████████████████████████████████████████████████████████████████████████████████████████████████████████████████████████████████████████████| 50/50 [02:27<00:00,  2.95s/it]\n",
      "[I 2025-08-05 08:13:43,712] Trial 108 finished with values: [16.302955139160158, 2806838.0] and parameters: {'lr': 0.0007717544454516151, 'latent_dim': 1024, 'hidden_dim': 512, 'dropout': 0.1712727960053662, 'weight_decay': 1.1829693903474744e-05}.\n",
      "100%|████████████████████████████████████████████████████████████████████████████████████████████████████████████████████████████████████████████████████████| 50/50 [02:27<00:00,  2.95s/it]\n",
      "[I 2025-08-05 08:16:11,167] Trial 109 finished with values: [16.752141723632814, 2980918.0] and parameters: {'lr': 0.0007130032960533752, 'latent_dim': 256, 'hidden_dim': 1024, 'dropout': 0.05947120720739868, 'weight_decay': 0.0008737011721729141}.\n"
     ]
    },
    {
     "name": "stderr",
     "output_type": "stream",
     "text": [
      "100%|████████████████████████████████████████████████████████████████████████████████████████████████████████████████████████████████████████████████████████| 50/50 [02:29<00:00,  2.98s/it]\n",
      "[I 2025-08-05 08:18:40,493] Trial 110 finished with values: [18.807907897949217, 14352950.0] and parameters: {'lr': 0.0003824211765240525, 'latent_dim': 1024, 'hidden_dim': 2048, 'dropout': 0.4685153941569599, 'weight_decay': 0.002633734421784717}.\n",
      "100%|████████████████████████████████████████████████████████████████████████████████████████████████████████████████████████████████████████████████████████| 50/50 [02:26<00:00,  2.94s/it]\n",
      "[I 2025-08-05 08:21:07,336] Trial 111 finished with values: [32.49474169921875, 2455862.0] and parameters: {'lr': 0.000579143129754614, 'latent_dim': 128, 'hidden_dim': 1024, 'dropout': 0.015359191241134107, 'weight_decay': 1.98797961942729e-05}.\n",
      "100%|████████████████████████████████████████████████████████████████████████████████████████████████████████████████████████████████████████████████████████| 50/50 [02:25<00:00,  2.91s/it]\n",
      "[I 2025-08-05 08:23:32,785] Trial 112 finished with values: [65.77433203125, 813878.0] and parameters: {'lr': 7.128977581111499e-05, 'latent_dim': 512, 'hidden_dim': 256, 'dropout': 0.07912890031204944, 'weight_decay': 1.4404897779392952e-05}.\n",
      "100%|████████████████████████████████████████████████████████████████████████████████████████████████████████████████████████████████████████████████████████| 50/50 [02:37<00:00,  3.16s/it]\n",
      "[I 2025-08-05 08:26:10,844] Trial 113 finished with values: [66.51398583984376, 21353398.0] and parameters: {'lr': 0.0002634687844321477, 'latent_dim': 64, 'hidden_dim': 4096, 'dropout': 0.28795176405752276, 'weight_decay': 0.008442202581361823}.\n",
      "100%|████████████████████████████████████████████████████████████████████████████████████████████████████████████████████████████████████████████████████████| 50/50 [02:29<00:00,  2.98s/it]\n",
      "[I 2025-08-05 08:28:40,149] Trial 114 finished with values: [12.199475250244141, 14352950.0] and parameters: {'lr': 0.0007284686798354398, 'latent_dim': 1024, 'hidden_dim': 2048, 'dropout': 0.38073091521271313, 'weight_decay': 4.141087624383497e-05}.\n",
      "100%|████████████████████████████████████████████████████████████████████████████████████████████████████████████████████████████████████████████████████████| 50/50 [02:26<00:00,  2.94s/it]\n",
      "[I 2025-08-05 08:31:07,045] Trial 115 finished with values: [78.2488544921875, 1229366.0] and parameters: {'lr': 3.404041532865818e-05, 'latent_dim': 256, 'hidden_dim': 512, 'dropout': 0.37137308513401124, 'weight_decay': 0.00043070486427324657}.\n",
      "100%|████████████████████████████████████████████████████████████████████████████████████████████████████████████████████████████████████████████████████████| 50/50 [02:26<00:00,  2.92s/it]\n",
      "[I 2025-08-05 08:33:33,151] Trial 116 finished with values: [68.87929272460937, 2062070.0] and parameters: {'lr': 0.000579143129754614, 'latent_dim': 32, 'hidden_dim': 1024, 'dropout': 0.20242356756899582, 'weight_decay': 1.98797961942729e-05}.\n",
      "100%|████████████████████████████████████████████████████████████████████████████████████████████████████████████████████████████████████████████████████████| 50/50 [02:32<00:00,  3.05s/it]\n",
      "[I 2025-08-05 08:36:06,044] Trial 117 finished with values: [6.898258575439453, 39537206.0] and parameters: {'lr': 0.00010785134724752663, 'latent_dim': 4096, 'hidden_dim': 2048, 'dropout': 0.23292994848892645, 'weight_decay': 0.00043040099309224743}.\n",
      "100%|████████████████████████████████████████████████████████████████████████████████████████████████████████████████████████████████████████████████████████| 50/50 [02:34<00:00,  3.10s/it]\n",
      "[I 2025-08-05 08:38:41,164] Trial 118 finished with values: [5.3819029388427735, 53871158.0] and parameters: {'lr': 0.00011105432690562609, 'latent_dim': 2048, 'hidden_dim': 4096, 'dropout': 0.08472091738406912, 'weight_decay': 0.002637988639896617}.\n",
      "100%|████████████████████████████████████████████████████████████████████████████████████████████████████████████████████████████████████████████████████████| 50/50 [02:29<00:00,  2.99s/it]\n",
      "[I 2025-08-05 08:41:10,624] Trial 119 finished with values: [5.392251373291016, 10331702.0] and parameters: {'lr': 0.0007130032960533752, 'latent_dim': 2048, 'hidden_dim': 1024, 'dropout': 0.05947120720739868, 'weight_decay': 3.383148245330149e-05}.\n",
      "100%|████████████████████████████████████████████████████████████████████████████████████████████████████████████████████████████████████████████████████████| 50/50 [02:27<00:00,  2.95s/it]\n",
      "[I 2025-08-05 08:43:38,201] Trial 120 finished with values: [44.33961401367188, 7007542.0] and parameters: {'lr': 0.000579143129754614, 'latent_dim': 128, 'hidden_dim': 2048, 'dropout': 0.24155202943327037, 'weight_decay': 0.0015172760186444626}.\n",
      "100%|████████████████████████████████████████████████████████████████████████████████████████████████████████████████████████████████████████████████████████| 50/50 [02:26<00:00,  2.93s/it]\n",
      "[I 2025-08-05 08:46:04,666] Trial 121 finished with values: [37.689398193359374, 2455862.0] and parameters: {'lr': 0.0007130032960533752, 'latent_dim': 128, 'hidden_dim': 1024, 'dropout': 0.14962082678604982, 'weight_decay': 4.114589066021446e-05}.\n",
      "100%|████████████████████████████████████████████████████████████████████████████████████████████████████████████████████████████████████████████████████████| 50/50 [02:26<00:00,  2.94s/it]\n",
      "[I 2025-08-05 08:48:31,679] Trial 122 finished with values: [48.12016943359375, 2980918.0] and parameters: {'lr': 0.00011105432690562609, 'latent_dim': 256, 'hidden_dim': 1024, 'dropout': 0.08472091738406912, 'weight_decay': 1.98797961942729e-05}.\n",
      "100%|████████████████████████████████████████████████████████████████████████████████████████████████████████████████████████████████████████████████████████| 50/50 [02:28<00:00,  2.97s/it]\n",
      "[I 2025-08-05 08:51:00,022] Trial 123 finished with values: [16.720128173828126, 8056886.0] and parameters: {'lr': 0.00044504869715686015, 'latent_dim': 256, 'hidden_dim': 2048, 'dropout': 0.05947120720739868, 'weight_decay': 0.00710649854443494}.\n",
      "100%|████████████████████████████████████████████████████████████████████████████████████████████████████████████████████████████████████████████████████████| 50/50 [02:26<00:00,  2.94s/it]\n",
      "[I 2025-08-05 08:53:27,042] Trial 124 finished with values: [43.627111206054686, 2980918.0] and parameters: {'lr': 0.0007717544454516151, 'latent_dim': 256, 'hidden_dim': 1024, 'dropout': 0.3759645591046875, 'weight_decay': 0.0010426142820943848}.\n",
      "100%|████████████████████████████████████████████████████████████████████████████████████████████████████████████████████████████████████████████████████████| 50/50 [02:28<00:00,  2.97s/it]\n",
      "[I 2025-08-05 08:55:55,646] Trial 125 finished with values: [9.721529418945313, 18732598.0] and parameters: {'lr': 0.0007717544454516151, 'latent_dim': 4096, 'hidden_dim': 1024, 'dropout': 0.3759645591046875, 'weight_decay': 0.0007109701842735433}.\n",
      "100%|████████████████████████████████████████████████████████████████████████████████████████████████████████████████████████████████████████████████████████| 50/50 [02:25<00:00,  2.92s/it]\n",
      "[I 2025-08-05 08:58:21,463] Trial 126 finished with values: [20.0746826171875, 6131254.0] and parameters: {'lr': 0.0006503387425582593, 'latent_dim': 1024, 'hidden_dim': 1024, 'dropout': 0.38073091521271313, 'weight_decay': 0.0026276886987540733}.\n",
      "100%|████████████████████████████████████████████████████████████████████████████████████████████████████████████████████████████████████████████████████████| 50/50 [02:27<00:00,  2.95s/it]\n",
      "[I 2025-08-05 09:00:48,875] Trial 127 finished with values: [57.562273681640626, 6482870.0] and parameters: {'lr': 0.0003824211765240525, 'latent_dim': 64, 'hidden_dim': 2048, 'dropout': 0.13038291714484795, 'weight_decay': 0.0036483632945337446}.\n",
      "100%|████████████████████████████████████████████████████████████████████████████████████████████████████████████████████████████████████████████████████████| 50/50 [02:26<00:00,  2.93s/it]\n",
      "[I 2025-08-05 09:03:15,212] Trial 128 finished with values: [95.28749951171875, 2193334.0] and parameters: {'lr': 0.0032460033071005276, 'latent_dim': 64, 'hidden_dim': 1024, 'dropout': 0.4685153941569599, 'weight_decay': 0.002633734421784717}.\n"
     ]
    },
    {
     "name": "stderr",
     "output_type": "stream",
     "text": [
      "100%|████████████████████████████████████████████████████████████████████████████████████████████████████████████████████████████████████████████████████████| 50/50 [02:27<00:00,  2.95s/it]\n",
      "[I 2025-08-05 09:05:42,882] Trial 129 finished with values: [21.391282592773436, 2980918.0] and parameters: {'lr': 0.0003686508818065022, 'latent_dim': 256, 'hidden_dim': 1024, 'dropout': 0.00937026146829295, 'weight_decay': 3.7784678590189794e-05}.\n",
      "100%|████████████████████████████████████████████████████████████████████████████████████████████████████████████████████████████████████████████████████████| 50/50 [02:31<00:00,  3.04s/it]\n",
      "[I 2025-08-05 09:08:14,954] Trial 130 finished with values: [7.110903503417969, 18732598.0] and parameters: {'lr': 0.0021385832722501034, 'latent_dim': 4096, 'hidden_dim': 1024, 'dropout': 0.04765636700655207, 'weight_decay': 4.159421007371049e-05}.\n",
      "100%|████████████████████████████████████████████████████████████████████████████████████████████████████████████████████████████████████████████████████████| 50/50 [02:32<00:00,  3.05s/it]\n",
      "[I 2025-08-05 09:10:47,756] Trial 131 finished with values: [19.887266540527342, 18732598.0] and parameters: {'lr': 9.704875690175051e-05, 'latent_dim': 4096, 'hidden_dim': 1024, 'dropout': 0.28795176405752276, 'weight_decay': 3.383148245330149e-05}.\n",
      "100%|████████████████████████████████████████████████████████████████████████████████████████████████████████████████████████████████████████████████████████| 50/50 [02:32<00:00,  3.04s/it]\n",
      "[I 2025-08-05 09:13:20,021] Trial 132 finished with values: [6.1800157165527345, 14352950.0] and parameters: {'lr': 0.0003001770988458421, 'latent_dim': 1024, 'hidden_dim': 2048, 'dropout': 0.06474944400305116, 'weight_decay': 0.002633734421784717}.\n",
      "100%|████████████████████████████████████████████████████████████████████████████████████████████████████████████████████████████████████████████████████████| 50/50 [02:30<00:00,  3.01s/it]\n",
      "[I 2025-08-05 09:15:50,503] Trial 133 finished with values: [37.13212243652344, 2395958.0] and parameters: {'lr': 0.0005386060664441708, 'latent_dim': 2048, 'hidden_dim': 256, 'dropout': 0.29054064416230313, 'weight_decay': 0.0026276886987540733}.\n",
      "100%|████████████████████████████████████████████████████████████████████████████████████████████████████████████████████████████████████████████████████████| 50/50 [02:30<00:00,  3.02s/it]\n",
      "[I 2025-08-05 09:18:21,449] Trial 134 finished with values: [67.09595629882813, 2455862.0] and parameters: {'lr': 0.00016249668330785852, 'latent_dim': 128, 'hidden_dim': 1024, 'dropout': 0.3759645591046875, 'weight_decay': 0.004489414324547479}.\n",
      "100%|████████████████████████████████████████████████████████████████████████████████████████████████████████████████████████████████████████████████████████| 50/50 [02:31<00:00,  3.02s/it]\n",
      "[I 2025-08-05 09:20:52,515] Trial 135 finished with values: [26.66438537597656, 1229366.0] and parameters: {'lr': 0.0006503387425582593, 'latent_dim': 256, 'hidden_dim': 512, 'dropout': 0.08472091738406912, 'weight_decay': 0.002637988639896617}.\n",
      "100%|████████████████████████████████████████████████████████████████████████████████████████████████████████████████████████████████████████████████████████| 50/50 [02:29<00:00,  2.99s/it]\n",
      "[I 2025-08-05 09:23:21,957] Trial 136 finished with values: [59.244166015625, 769270.0] and parameters: {'lr': 0.00480225481685459, 'latent_dim': 32, 'hidden_dim': 512, 'dropout': 0.08472091738406912, 'weight_decay': 0.0003283692218451411}.\n",
      "100%|████████████████████████████████████████████████████████████████████████████████████████████████████████████████████████████████████████████████████████| 50/50 [02:33<00:00,  3.06s/it]\n",
      "[I 2025-08-05 09:25:55,147] Trial 137 finished with values: [4.445593185424805, 18732598.0] and parameters: {'lr': 0.0005386060664441708, 'latent_dim': 4096, 'hidden_dim': 1024, 'dropout': 0.1096046099745216, 'weight_decay': 0.0026276886987540733}.\n",
      "100%|████████████████████████████████████████████████████████████████████████████████████████████████████████████████████████████████████████████████████████| 50/50 [02:32<00:00,  3.05s/it]\n",
      "[I 2025-08-05 09:28:27,869] Trial 138 finished with values: [11.625259246826172, 18732598.0] and parameters: {'lr': 0.00997994356687238, 'latent_dim': 4096, 'hidden_dim': 1024, 'dropout': 0.1096046099745216, 'weight_decay': 3.929455851105183e-05}.\n",
      "100%|████████████████████████████████████████████████████████████████████████████████████████████████████████████████████████████████████████████████████████| 50/50 [02:27<00:00,  2.96s/it]\n",
      "[I 2025-08-05 09:30:55,780] Trial 139 finished with values: [67.48597900390625, 1341238.0] and parameters: {'lr': 4.087619707783087e-05, 'latent_dim': 1024, 'hidden_dim': 256, 'dropout': 0.00937026146829295, 'weight_decay': 6.226346644100608e-05}.\n",
      "100%|████████████████████████████████████████████████████████████████████████████████████████████████████████████████████████████████████████████████████████| 50/50 [02:31<00:00,  3.02s/it]\n",
      "[I 2025-08-05 09:33:27,098] Trial 140 finished with values: [8.666222106933594, 10155574.0] and parameters: {'lr': 0.0006305359855059955, 'latent_dim': 512, 'hidden_dim': 2048, 'dropout': 0.12847272087453165, 'weight_decay': 0.0003283692218451411}.\n",
      "100%|████████████████████████████████████████████████████████████████████████████████████████████████████████████████████████████████████████████████████████| 50/50 [02:30<00:00,  3.02s/it]\n",
      "[I 2025-08-05 09:35:57,971] Trial 141 finished with values: [25.14990979003906, 4505398.0] and parameters: {'lr': 0.0003824211765240525, 'latent_dim': 4096, 'hidden_dim': 256, 'dropout': 0.13178114095177973, 'weight_decay': 0.0003283692218451411}.\n",
      "100%|████████████████████████████████████████████████████████████████████████████████████████████████████████████████████████████████████████████████████████| 50/50 [02:25<00:00,  2.91s/it]\n",
      "[I 2025-08-05 09:38:23,681] Trial 142 finished with values: [79.49504931640625, 418358.0] and parameters: {'lr': 4.087619707783087e-05, 'latent_dim': 128, 'hidden_dim': 256, 'dropout': 0.05947120720739868, 'weight_decay': 0.0004487511325685188}.\n",
      "100%|████████████████████████████████████████████████████████████████████████████████████████████████████████████████████████████████████████████████████████| 50/50 [02:26<00:00,  2.94s/it]\n",
      "[I 2025-08-05 09:40:50,567] Trial 143 finished with values: [44.03124560546875, 813878.0] and parameters: {'lr': 0.0003824211765240525, 'latent_dim': 512, 'hidden_dim': 256, 'dropout': 0.18233688417825944, 'weight_decay': 0.0003283692218451411}.\n",
      "100%|████████████████████████████████████████████████████████████████████████████████████████████████████████████████████████████████████████████████████████| 50/50 [02:30<00:00,  3.01s/it]\n",
      "[I 2025-08-05 09:43:21,047] Trial 144 finished with values: [54.35163696289062, 6482870.0] and parameters: {'lr': 0.006973867630130568, 'latent_dim': 64, 'hidden_dim': 2048, 'dropout': 0.06568182528569805, 'weight_decay': 0.002115660576592712}.\n",
      "100%|████████████████████████████████████████████████████████████████████████████████████████████████████████████████████████████████████████████████████████| 50/50 [02:29<00:00,  3.00s/it]\n",
      "[I 2025-08-05 09:45:51,065] Trial 145 finished with values: [52.6226689453125, 2395958.0] and parameters: {'lr': 0.0003824211765240525, 'latent_dim': 2048, 'hidden_dim': 256, 'dropout': 0.4685153941569599, 'weight_decay': 0.0003283692218451411}.\n",
      "100%|████████████████████████████████████████████████████████████████████████████████████████████████████████████████████████████████████████████████████████| 50/50 [02:26<00:00,  2.93s/it]\n",
      "[I 2025-08-05 09:48:17,630] Trial 146 finished with values: [89.7557197265625, 813878.0] and parameters: {'lr': 1.1711076891005075e-05, 'latent_dim': 512, 'hidden_dim': 256, 'dropout': 0.2035139540555015, 'weight_decay': 0.008442202581361823}.\n",
      "100%|████████████████████████████████████████████████████████████████████████████████████████████████████████████████████████████████████████████████████████| 50/50 [02:33<00:00,  3.08s/it]\n",
      "[I 2025-08-05 09:50:51,677] Trial 147 finished with values: [6.362725891113281, 53871158.0] and parameters: {'lr': 0.0003824211765240525, 'latent_dim': 2048, 'hidden_dim': 4096, 'dropout': 0.4685153941569599, 'weight_decay': 4.2843557738485126e-05}.\n"
     ]
    },
    {
     "name": "stderr",
     "output_type": "stream",
     "text": [
      "100%|████████████████████████████████████████████████████████████████████████████████████████████████████████████████████████████████████████████████████████| 50/50 [02:22<00:00,  2.85s/it]\n",
      "[I 2025-08-05 09:53:14,316] Trial 148 finished with values: [75.9213271484375, 1755190.0] and parameters: {'lr': 3.404041532865818e-05, 'latent_dim': 512, 'hidden_dim': 512, 'dropout': 0.41671964113350124, 'weight_decay': 0.00043070486427324657}.\n",
      "100%|████████████████████████████████████████████████████████████████████████████████████████████████████████████████████████████████████████████████████████| 50/50 [02:24<00:00,  2.89s/it]\n",
      "[I 2025-08-05 09:55:38,900] Trial 149 finished with values: [28.84944287109375, 2980918.0] and parameters: {'lr': 0.0003824211765240525, 'latent_dim': 256, 'hidden_dim': 1024, 'dropout': 0.1511037678875582, 'weight_decay': 0.0010419703218403865}.\n",
      "100%|████████████████████████████████████████████████████████████████████████████████████████████████████████████████████████████████████████████████████████| 50/50 [02:20<00:00,  2.81s/it]\n",
      "[I 2025-08-05 09:57:59,406] Trial 150 finished with values: [58.99200219726563, 769270.0] and parameters: {'lr': 0.00480225481685459, 'latent_dim': 32, 'hidden_dim': 512, 'dropout': 0.08472091738406912, 'weight_decay': 0.0003283692218451411}.\n",
      "100%|████████████████████████████████████████████████████████████████████████████████████████████████████████████████████████████████████████████████████████| 50/50 [02:27<00:00,  2.96s/it]\n",
      "[I 2025-08-05 10:00:27,251] Trial 151 finished with values: [13.868053161621093, 10331702.0] and parameters: {'lr': 0.0005386060664441708, 'latent_dim': 2048, 'hidden_dim': 1024, 'dropout': 0.3759645591046875, 'weight_decay': 0.0026276886987540733}.\n",
      "100%|████████████████████████████████████████████████████████████████████████████████████████████████████████████████████████████████████████████████████████| 50/50 [02:26<00:00,  2.94s/it]\n",
      "[I 2025-08-05 10:02:54,361] Trial 152 finished with values: [10.499285552978515, 22747702.0] and parameters: {'lr': 0.0003824211765240525, 'latent_dim': 2048, 'hidden_dim': 2048, 'dropout': 0.4685153941569599, 'weight_decay': 0.0003283692218451411}.\n",
      "100%|████████████████████████████████████████████████████████████████████████████████████████████████████████████████████████████████████████████████████████| 50/50 [02:24<00:00,  2.89s/it]\n",
      "[I 2025-08-05 10:05:19,135] Trial 153 finished with values: [45.60917358398437, 2395958.0] and parameters: {'lr': 0.0007130032960533752, 'latent_dim': 2048, 'hidden_dim': 256, 'dropout': 0.4226787127608297, 'weight_decay': 3.383148245330149e-05}.\n",
      "100%|████████████████████████████████████████████████████████████████████████████████████████████████████████████████████████████████████████████████████████| 50/50 [02:28<00:00,  2.96s/it]\n",
      "[I 2025-08-05 10:07:47,265] Trial 154 finished with values: [8.374563659667968, 18732598.0] and parameters: {'lr': 0.0007717544454516151, 'latent_dim': 4096, 'hidden_dim': 1024, 'dropout': 0.3389340705605122, 'weight_decay': 1.1829693903474744e-05}.\n",
      "100%|████████████████████████████████████████████████████████████████████████████████████████████████████████████████████████████████████████████████████████| 50/50 [02:46<00:00,  3.34s/it]\n",
      "[I 2025-08-05 10:10:34,546] Trial 155 finished with values: [5.783182830810547, 87437878.0] and parameters: {'lr': 0.00010785134724752663, 'latent_dim': 4096, 'hidden_dim': 4096, 'dropout': 0.44676560082525624, 'weight_decay': 3.383148245330149e-05}.\n",
      "100%|████████████████████████████████████████████████████████████████████████████████████████████████████████████████████████████████████████████████████████| 50/50 [02:29<00:00,  2.99s/it]\n",
      "[I 2025-08-05 10:13:04,108] Trial 156 finished with values: [44.41268505859375, 18732598.0] and parameters: {'lr': 2.138680986026346e-05, 'latent_dim': 4096, 'hidden_dim': 1024, 'dropout': 0.05947120720739868, 'weight_decay': 0.0015161669276398105}.\n",
      "100%|████████████████████████████████████████████████████████████████████████████████████████████████████████████████████████████████████████████████████████| 50/50 [02:22<00:00,  2.85s/it]\n",
      "[I 2025-08-05 10:15:26,564] Trial 157 finished with values: [15.584971618652343, 1755190.0] and parameters: {'lr': 0.00480225481685459, 'latent_dim': 512, 'hidden_dim': 512, 'dropout': 0.08472091738406912, 'weight_decay': 0.008442202581361823}.\n",
      "100%|████████████████████████████████████████████████████████████████████████████████████████████████████████████████████████████████████████████████████████| 50/50 [02:47<00:00,  3.34s/it]\n",
      "[I 2025-08-05 10:18:14,027] Trial 158 finished with values: [35.9374306640625, 87437878.0] and parameters: {'lr': 1.099380403778416e-05, 'latent_dim': 4096, 'hidden_dim': 4096, 'dropout': 0.23292994848892645, 'weight_decay': 1.8299668034957276e-05}.\n",
      "100%|████████████████████████████████████████████████████████████████████████████████████████████████████████████████████████████████████████████████████████| 50/50 [02:28<00:00,  2.98s/it]\n",
      "[I 2025-08-05 10:20:42,828] Trial 159 finished with values: [13.157180786132812, 9116726.0] and parameters: {'lr': 0.0014252468088628316, 'latent_dim': 4096, 'hidden_dim': 512, 'dropout': 0.2369027764783707, 'weight_decay': 8.90156514651382e-05}.\n",
      "100%|████████████████████████████████████████████████████████████████████████████████████████████████████████████████████████████████████████████████████████| 50/50 [02:28<00:00,  2.97s/it]\n",
      "[I 2025-08-05 10:23:11,215] Trial 160 finished with values: [6.891475372314453, 14352950.0] and parameters: {'lr': 0.0003001770988458421, 'latent_dim': 1024, 'hidden_dim': 2048, 'dropout': 0.13178114095177973, 'weight_decay': 0.002633734421784717}.\n",
      "100%|████████████████████████████████████████████████████████████████████████████████████████████████████████████████████████████████████████████████████████| 50/50 [02:20<00:00,  2.82s/it]\n",
      "[I 2025-08-05 10:25:32,105] Trial 161 finished with values: [40.167801513671876, 550198.0] and parameters: {'lr': 0.00997994356687238, 'latent_dim': 256, 'hidden_dim': 256, 'dropout': 0.18910371724667396, 'weight_decay': 0.00037630635296852444}.\n",
      "100%|████████████████████████████████████████████████████████████████████████████████████████████████████████████████████████████████████████████████████████| 50/50 [02:27<00:00,  2.94s/it]\n",
      "[I 2025-08-05 10:27:59,229] Trial 162 finished with values: [11.595342468261718, 10155574.0] and parameters: {'lr': 0.0014252468088628316, 'latent_dim': 512, 'hidden_dim': 2048, 'dropout': 0.18233688417825944, 'weight_decay': 0.0003283692218451411}.\n",
      "100%|████████████████████████████████████████████████████████████████████████████████████████████████████████████████████████████████████████████████████████| 50/50 [02:20<00:00,  2.81s/it]\n",
      "[I 2025-08-05 10:30:19,940] Trial 163 finished with values: [79.38975830078125, 418358.0] and parameters: {'lr': 4.087619707783087e-05, 'latent_dim': 128, 'hidden_dim': 256, 'dropout': 0.06009278365529991, 'weight_decay': 0.0015366121690271357}.\n",
      "100%|████████████████████████████████████████████████████████████████████████████████████████████████████████████████████████████████████████████████████████| 50/50 [02:19<00:00,  2.79s/it]\n",
      "[I 2025-08-05 10:32:39,458] Trial 164 finished with values: [70.28841723632813, 319478.0] and parameters: {'lr': 0.0005386060664441708, 'latent_dim': 32, 'hidden_dim': 256, 'dropout': 0.18233688417825944, 'weight_decay': 0.0026276886987540733}.\n",
      "100%|████████████████████████████████████████████████████████████████████████████████████████████████████████████████████████████████████████████████████████| 50/50 [02:46<00:00,  3.34s/it]\n",
      "[I 2025-08-05 10:35:26,658] Trial 165 finished with values: [4.888861160278321, 87437878.0] and parameters: {'lr': 0.0014252468088628316, 'latent_dim': 4096, 'hidden_dim': 4096, 'dropout': 0.24252940994063527, 'weight_decay': 0.00046250584785774353}.\n",
      "100%|████████████████████████████████████████████████████████████████████████████████████████████████████████████████████████████████████████████████████████| 50/50 [02:28<00:00,  2.97s/it]\n",
      "[I 2025-08-05 10:37:55,394] Trial 166 finished with values: [8.918535217285156, 10155574.0] and parameters: {'lr': 0.001519052643451676, 'latent_dim': 512, 'hidden_dim': 2048, 'dropout': 0.00937026146829295, 'weight_decay': 0.0003283692218451411}.\n"
     ]
    },
    {
     "name": "stderr",
     "output_type": "stream",
     "text": [
      "100%|████████████████████████████████████████████████████████████████████████████████████████████████████████████████████████████████████████████████████████| 50/50 [02:28<00:00,  2.98s/it]\n",
      "[I 2025-08-05 10:40:24,319] Trial 167 finished with values: [12.899189270019532, 18732598.0] and parameters: {'lr': 0.00480225481685459, 'latent_dim': 4096, 'hidden_dim': 1024, 'dropout': 0.3759645591046875, 'weight_decay': 0.0007109701842735433}.\n",
      "100%|████████████████████████████████████████████████████████████████████████████████████████████████████████████████████████████████████████████████████████| 50/50 [02:26<00:00,  2.92s/it]\n",
      "[I 2025-08-05 10:42:50,488] Trial 168 finished with values: [81.54136938476563, 6482870.0] and parameters: {'lr': 0.0006305359855059955, 'latent_dim': 64, 'hidden_dim': 2048, 'dropout': 0.4703321522227195, 'weight_decay': 4.114589066021446e-05}.\n",
      "100%|████████████████████████████████████████████████████████████████████████████████████████████████████████████████████████████████████████████████████████| 50/50 [02:21<00:00,  2.84s/it]\n",
      "[I 2025-08-05 10:45:12,492] Trial 169 finished with values: [14.109542541503906, 1755190.0] and parameters: {'lr': 0.00480225481685459, 'latent_dim': 512, 'hidden_dim': 512, 'dropout': 0.00937026146829295, 'weight_decay': 0.008442202581361823}.\n",
      "100%|████████████████████████████████████████████████████████████████████████████████████████████████████████████████████████████████████████████████████████| 50/50 [02:19<00:00,  2.78s/it]\n",
      "[I 2025-08-05 10:47:31,661] Trial 170 finished with values: [66.33263330078125, 319478.0] and parameters: {'lr': 0.0005386060664441708, 'latent_dim': 32, 'hidden_dim': 256, 'dropout': 0.06474944400305116, 'weight_decay': 0.0026276886987540733}.\n",
      "100%|████████████████████████████████████████████████████████████████████████████████████████████████████████████████████████████████████████████████████████| 50/50 [02:21<00:00,  2.84s/it]\n",
      "[I 2025-08-05 10:49:53,560] Trial 171 finished with values: [34.76978466796875, 813878.0] and parameters: {'lr': 0.0003824211765240525, 'latent_dim': 512, 'hidden_dim': 256, 'dropout': 0.06474944400305116, 'weight_decay': 0.002633734421784717}.\n",
      "100%|████████████████████████████████████████████████████████████████████████████████████████████████████████████████████████████████████████████████████████| 50/50 [02:26<00:00,  2.92s/it]\n",
      "[I 2025-08-05 10:52:19,917] Trial 172 finished with values: [5.87472331237793, 22747702.0] and parameters: {'lr': 0.0014252468088628316, 'latent_dim': 2048, 'hidden_dim': 2048, 'dropout': 0.24252940994063527, 'weight_decay': 0.006645948103900642}.\n",
      "100%|████████████████████████████████████████████████████████████████████████████████████████████████████████████████████████████████████████████████████████| 50/50 [02:27<00:00,  2.96s/it]\n",
      "[I 2025-08-05 10:54:47,828] Trial 173 finished with values: [7.698598815917968, 10331702.0] and parameters: {'lr': 0.0021385832722501034, 'latent_dim': 2048, 'hidden_dim': 1024, 'dropout': 0.04765636700655207, 'weight_decay': 0.00046966816659184434}.\n",
      "100%|████████████████████████████████████████████████████████████████████████████████████████████████████████████████████████████████████████████████████████| 50/50 [02:27<00:00,  2.95s/it]\n",
      "[I 2025-08-05 10:57:15,347] Trial 174 finished with values: [10.323311157226563, 22747702.0] and parameters: {'lr': 0.0003824211765240525, 'latent_dim': 2048, 'hidden_dim': 2048, 'dropout': 0.4685153941569599, 'weight_decay': 0.0003283692218451411}.\n",
      "100%|████████████████████████████████████████████████████████████████████████████████████████████████████████████████████████████████████████████████████████| 50/50 [02:21<00:00,  2.84s/it]\n",
      "[I 2025-08-05 10:59:37,121] Trial 175 finished with values: [56.720513916015626, 1755190.0] and parameters: {'lr': 5.936828778773333e-05, 'latent_dim': 512, 'hidden_dim': 512, 'dropout': 0.0013576464421722334, 'weight_decay': 3.854930109567687e-05}.\n",
      "100%|████████████████████████████████████████████████████████████████████████████████████████████████████████████████████████████████████████████████████████| 50/50 [02:20<00:00,  2.80s/it]\n",
      "[I 2025-08-05 11:01:57,321] Trial 176 finished with values: [34.106224609375, 418358.0] and parameters: {'lr': 0.00997994356687238, 'latent_dim': 128, 'hidden_dim': 256, 'dropout': 0.07912890031204944, 'weight_decay': 1.4404897779392952e-05}.\n",
      "100%|████████████████████████████████████████████████████████████████████████████████████████████████████████████████████████████████████████████████████████| 50/50 [02:19<00:00,  2.80s/it]\n",
      "[I 2025-08-05 11:04:17,219] Trial 177 finished with values: [90.92468212890626, 352438.0] and parameters: {'lr': 0.0030989413994944376, 'latent_dim': 64, 'hidden_dim': 256, 'dropout': 0.48833937612665207, 'weight_decay': 4.114589066021446e-05}.\n",
      "100%|████████████████████████████████████████████████████████████████████████████████████████████████████████████████████████████████████████████████████████| 50/50 [02:32<00:00,  3.04s/it]\n",
      "[I 2025-08-05 11:06:49,592] Trial 178 finished with values: [21.422420959472657, 39537206.0] and parameters: {'lr': 3.3535797373558874e-05, 'latent_dim': 4096, 'hidden_dim': 2048, 'dropout': 0.13178114095177973, 'weight_decay': 0.002482703685686565}.\n",
      "100%|████████████████████████████████████████████████████████████████████████████████████████████████████████████████████████████████████████████████████████| 50/50 [02:20<00:00,  2.81s/it]\n",
      "[I 2025-08-05 11:09:10,359] Trial 179 finished with values: [91.20891455078124, 769270.0] and parameters: {'lr': 1.890942931675339e-05, 'latent_dim': 32, 'hidden_dim': 512, 'dropout': 0.08472091738406912, 'weight_decay': 0.002637988639896617}.\n",
      "100%|████████████████████████████████████████████████████████████████████████████████████████████████████████████████████████████████████████████████████████| 50/50 [02:25<00:00,  2.91s/it]\n",
      "[I 2025-08-05 11:11:36,099] Trial 180 finished with values: [20.79722314453125, 2980918.0] and parameters: {'lr': 0.00044504869715686015, 'latent_dim': 256, 'hidden_dim': 1024, 'dropout': 0.05947120720739868, 'weight_decay': 3.383148245330149e-05}.\n",
      "100%|████████████████████████████████████████████████████████████████████████████████████████████████████████████████████████████████████████████████████████| 50/50 [02:22<00:00,  2.85s/it]\n",
      "[I 2025-08-05 11:13:58,409] Trial 181 finished with values: [29.514495971679686, 813878.0] and parameters: {'lr': 0.0006503387425582593, 'latent_dim': 512, 'hidden_dim': 256, 'dropout': 0.08472091738406912, 'weight_decay': 2.9571063134441758e-05}.\n",
      "100%|████████████████████████████████████████████████████████████████████████████████████████████████████████████████████████████████████████████████████████| 50/50 [02:25<00:00,  2.92s/it]\n",
      "[I 2025-08-05 11:16:24,434] Trial 182 finished with values: [50.449399169921875, 2806838.0] and parameters: {'lr': 6.238351014649994e-05, 'latent_dim': 1024, 'hidden_dim': 512, 'dropout': 0.07912890031204944, 'weight_decay': 1.0778776476879712e-05}.\n",
      "100%|████████████████████████████████████████████████████████████████████████████████████████████████████████████████████████████████████████████████████████| 50/50 [02:27<00:00,  2.94s/it]\n",
      "[I 2025-08-05 11:18:51,554] Trial 183 finished with values: [51.25880859375, 8056886.0] and parameters: {'lr': 0.00997994356687238, 'latent_dim': 256, 'hidden_dim': 2048, 'dropout': 0.4685153941569599, 'weight_decay': 0.0003283692218451411}.\n",
      "100%|████████████████████████████████████████████████████████████████████████████████████████████████████████████████████████████████████████████████████████| 50/50 [02:46<00:00,  3.33s/it]\n",
      "[I 2025-08-05 11:21:38,610] Trial 184 finished with values: [5.919775604248047, 87437878.0] and parameters: {'lr': 0.00010785134724752663, 'latent_dim': 4096, 'hidden_dim': 4096, 'dropout': 0.4685153941569599, 'weight_decay': 0.00021077261660615494}.\n",
      "100%|████████████████████████████████████████████████████████████████████████████████████████████████████████████████████████████████████████████████████████| 50/50 [02:21<00:00,  2.83s/it]\n",
      "[I 2025-08-05 11:23:59,942] Trial 185 finished with values: [79.61700732421875, 418358.0] and parameters: {'lr': 4.087619707783087e-05, 'latent_dim': 128, 'hidden_dim': 256, 'dropout': 0.05947120720739868, 'weight_decay': 0.0004487511325685188}.\n"
     ]
    },
    {
     "name": "stderr",
     "output_type": "stream",
     "text": [
      "100%|████████████████████████████████████████████████████████████████████████████████████████████████████████████████████████████████████████████████████████| 50/50 [02:25<00:00,  2.91s/it]\n",
      "[I 2025-08-05 11:26:25,354] Trial 186 finished with values: [52.0279521484375, 2980918.0] and parameters: {'lr': 0.0007130032960533752, 'latent_dim': 256, 'hidden_dim': 1024, 'dropout': 0.4685153941569599, 'weight_decay': 3.383148245330149e-05}.\n",
      "100%|████████████████████████████████████████████████████████████████████████████████████████████████████████████████████████████████████████████████████████| 50/50 [02:47<00:00,  3.34s/it]\n",
      "[I 2025-08-05 11:29:12,829] Trial 187 finished with values: [3.1428294525146483, 87437878.0] and parameters: {'lr': 0.00010785134724752663, 'latent_dim': 4096, 'hidden_dim': 4096, 'dropout': 0.09693029342683362, 'weight_decay': 0.00043040099309224743}.\n",
      "100%|████████████████████████████████████████████████████████████████████████████████████████████████████████████████████████████████████████████████████████| 50/50 [02:27<00:00,  2.96s/it]\n",
      "[I 2025-08-05 11:31:40,712] Trial 188 finished with values: [56.8354248046875, 7007542.0] and parameters: {'lr': 0.00010785134724752663, 'latent_dim': 128, 'hidden_dim': 2048, 'dropout': 0.07912890031204944, 'weight_decay': 2.0848176348140125e-05}.\n",
      "100%|████████████████████████████████████████████████████████████████████████████████████████████████████████████████████████████████████████████████████████| 50/50 [02:19<00:00,  2.79s/it]\n",
      "[I 2025-08-05 11:34:00,464] Trial 189 finished with values: [79.51264086914063, 319478.0] and parameters: {'lr': 0.00011105432690562609, 'latent_dim': 32, 'hidden_dim': 256, 'dropout': 0.08472091738406912, 'weight_decay': 0.002637988639896617}.\n",
      "100%|████████████████████████████████████████████████████████████████████████████████████████████████████████████████████████████████████████████████████████| 50/50 [02:26<00:00,  2.92s/it]\n",
      "[I 2025-08-05 11:36:26,602] Trial 190 finished with values: [61.149696044921875, 4505398.0] and parameters: {'lr': 4.087619707783087e-05, 'latent_dim': 4096, 'hidden_dim': 256, 'dropout': 0.06009278365529991, 'weight_decay': 0.00046250584785774353}.\n",
      "100%|████████████████████████████████████████████████████████████████████████████████████████████████████████████████████████████████████████████████████████| 50/50 [02:20<00:00,  2.81s/it]\n",
      "[I 2025-08-05 11:38:47,131] Trial 191 finished with values: [61.67291455078125, 550198.0] and parameters: {'lr': 0.0002634687844321477, 'latent_dim': 256, 'hidden_dim': 256, 'dropout': 0.28795176405752276, 'weight_decay': 0.002540478154450639}.\n",
      "100%|████████████████████████████████████████████████████████████████████████████████████████████████████████████████████████████████████████████████████████| 50/50 [02:22<00:00,  2.85s/it]\n",
      "[I 2025-08-05 11:41:09,855] Trial 192 finished with values: [23.060892944335937, 1229366.0] and parameters: {'lr': 0.0007130032960533752, 'latent_dim': 256, 'hidden_dim': 512, 'dropout': 0.05947120720739868, 'weight_decay': 0.002637988639896617}.\n",
      "100%|████████████████████████████████████████████████████████████████████████████████████████████████████████████████████████████████████████████████████████| 50/50 [02:26<00:00,  2.94s/it]\n",
      "[I 2025-08-05 11:43:36,734] Trial 193 finished with values: [32.208408325195315, 7007542.0] and parameters: {'lr': 0.0006305359855059955, 'latent_dim': 128, 'hidden_dim': 2048, 'dropout': 0.06009278365529991, 'weight_decay': 0.001325022753951122}.\n",
      "100%|████████████████████████████████████████████████████████████████████████████████████████████████████████████████████████████████████████████████████████| 50/50 [02:27<00:00,  2.95s/it]\n",
      "[I 2025-08-05 11:46:04,241] Trial 194 finished with values: [6.353965316772461, 14352950.0] and parameters: {'lr': 0.0014252468088628316, 'latent_dim': 1024, 'hidden_dim': 2048, 'dropout': 0.13178114095177973, 'weight_decay': 4.159421007371049e-05}.\n",
      "100%|████████████████████████████████████████████████████████████████████████████████████████████████████████████████████████████████████████████████████████| 50/50 [02:27<00:00,  2.94s/it]\n",
      "[I 2025-08-05 11:48:31,307] Trial 195 finished with values: [31.145655151367187, 7007542.0] and parameters: {'lr': 0.0017947328741694914, 'latent_dim': 128, 'hidden_dim': 2048, 'dropout': 0.06474944400305116, 'weight_decay': 0.00017372459810550554}.\n",
      "100%|████████████████████████████████████████████████████████████████████████████████████████████████████████████████████████████████████████████████████████| 50/50 [02:33<00:00,  3.06s/it]\n",
      "[I 2025-08-05 11:51:04,657] Trial 196 finished with values: [6.115926239013672, 39537206.0] and parameters: {'lr': 0.00010785134724752663, 'latent_dim': 4096, 'hidden_dim': 2048, 'dropout': 0.13178114095177973, 'weight_decay': 0.00043040099309224743}.\n",
      "100%|████████████████████████████████████████████████████████████████████████████████████████████████████████████████████████████████████████████████████████| 50/50 [02:22<00:00,  2.85s/it]\n",
      "[I 2025-08-05 11:53:27,198] Trial 197 finished with values: [23.973086059570313, 1229366.0] and parameters: {'lr': 0.0006503387425582593, 'latent_dim': 256, 'hidden_dim': 512, 'dropout': 0.06474944400305116, 'weight_decay': 0.0026276886987540733}.\n",
      "100%|████████████████████████████████████████████████████████████████████████████████████████████████████████████████████████████████████████████████████████| 50/50 [02:21<00:00,  2.84s/it]\n",
      "[I 2025-08-05 11:55:49,013] Trial 198 finished with values: [28.451989868164063, 966454.0] and parameters: {'lr': 0.0032460033071005276, 'latent_dim': 128, 'hidden_dim': 512, 'dropout': 0.043713156041100265, 'weight_decay': 0.00021077261660615494}.\n",
      "100%|████████████████████████████████████████████████████████████████████████████████████████████████████████████████████████████████████████████████████████| 50/50 [02:25<00:00,  2.91s/it]\n",
      "[I 2025-08-05 11:58:14,557] Trial 199 finished with values: [42.800092041015624, 4031030.0] and parameters: {'lr': 7.128977581111499e-05, 'latent_dim': 512, 'hidden_dim': 1024, 'dropout': 0.023291025979570168, 'weight_decay': 0.002633734421784717}.\n",
      "100%|████████████████████████████████████████████████████████████████████████████████████████████████████████████████████████████████████████████████████████| 50/50 [02:29<00:00,  2.98s/it]\n",
      "[I 2025-08-05 12:00:43,765] Trial 200 finished with values: [11.1624033203125, 18732598.0] and parameters: {'lr': 0.00010785134724752663, 'latent_dim': 4096, 'hidden_dim': 1024, 'dropout': 0.05947120720739868, 'weight_decay': 3.383148245330149e-05}.\n",
      "100%|████████████████████████████████████████████████████████████████████████████████████████████████████████████████████████████████████████████████████████| 50/50 [02:36<00:00,  3.14s/it]\n",
      "[I 2025-08-05 12:03:20,724] Trial 201 finished with values: [16.4287477722168, 28696118.0] and parameters: {'lr': 0.00480225481685459, 'latent_dim': 512, 'hidden_dim': 4096, 'dropout': 0.00937026146829295, 'weight_decay': 0.008442202581361823}.\n",
      "100%|████████████████████████████████████████████████████████████████████████████████████████████████████████████████████████████████████████████████████████| 50/50 [02:26<00:00,  2.93s/it]\n",
      "[I 2025-08-05 12:05:47,361] Trial 202 finished with values: [30.199758422851563, 550198.0] and parameters: {'lr': 0.002030820127212753, 'latent_dim': 256, 'hidden_dim': 256, 'dropout': 0.09693029342683362, 'weight_decay': 0.00010608039852090302}.\n",
      "100%|████████████████████████████████████████████████████████████████████████████████████████████████████████████████████████████████████████████████████████| 50/50 [02:32<00:00,  3.05s/it]\n",
      "[I 2025-08-05 12:08:19,958] Trial 203 finished with values: [6.1353930053710934, 18732598.0] and parameters: {'lr': 0.0005386060664441708, 'latent_dim': 4096, 'hidden_dim': 1024, 'dropout': 0.24252940994063527, 'weight_decay': 0.00046250584785774353}.\n",
      "100%|████████████████████████████████████████████████████████████████████████████████████████████████████████████████████████████████████████████████████████| 50/50 [02:29<00:00,  2.99s/it]\n",
      "[I 2025-08-05 12:10:49,516] Trial 204 finished with values: [10.78721713256836, 4031030.0] and parameters: {'lr': 0.0006853851557760242, 'latent_dim': 512, 'hidden_dim': 1024, 'dropout': 0.08472091738406912, 'weight_decay': 0.008442202581361823}.\n"
     ]
    },
    {
     "name": "stderr",
     "output_type": "stream",
     "text": [
      "100%|████████████████████████████████████████████████████████████████████████████████████████████████████████████████████████████████████████████████████████| 50/50 [02:27<00:00,  2.95s/it]\n",
      "[I 2025-08-05 12:13:17,175] Trial 205 finished with values: [29.9099072265625, 1229366.0] and parameters: {'lr': 0.0006503387425582593, 'latent_dim': 256, 'hidden_dim': 512, 'dropout': 0.12847272087453165, 'weight_decay': 0.0003283692218451411}.\n",
      "100%|████████████████████████████████████████████████████████████████████████████████████████████████████████████████████████████████████████████████████████| 50/50 [02:29<00:00,  2.98s/it]\n",
      "[I 2025-08-05 12:15:46,323] Trial 206 finished with values: [46.98244873046875, 2395958.0] and parameters: {'lr': 0.00011105432690562609, 'latent_dim': 2048, 'hidden_dim': 256, 'dropout': 0.07912890031204944, 'weight_decay': 1.4404897779392952e-05}.\n",
      "100%|████████████████████████████████████████████████████████████████████████████████████████████████████████████████████████████████████████████████████████| 50/50 [02:26<00:00,  2.93s/it]\n",
      "[I 2025-08-05 12:18:12,998] Trial 207 finished with values: [16.210405334472657, 1755190.0] and parameters: {'lr': 0.00997994356687238, 'latent_dim': 512, 'hidden_dim': 512, 'dropout': 0.08472091738406912, 'weight_decay': 0.0003283692218451411}.\n",
      "100%|████████████████████████████████████████████████████████████████████████████████████████████████████████████████████████████████████████████████████████| 50/50 [02:29<00:00,  3.00s/it]\n",
      "[I 2025-08-05 12:20:42,852] Trial 208 finished with values: [19.44272705078125, 2980918.0] and parameters: {'lr': 0.0005386060664441708, 'latent_dim': 256, 'hidden_dim': 1024, 'dropout': 0.06474944400305116, 'weight_decay': 0.0026276886987540733}.\n",
      "100%|████████████████████████████████████████████████████████████████████████████████████████████████████████████████████████████████████████████████████████| 50/50 [02:32<00:00,  3.05s/it]\n",
      "[I 2025-08-05 12:23:15,517] Trial 209 finished with values: [5.375077499389649, 18732598.0] and parameters: {'lr': 0.0005386060664441708, 'latent_dim': 4096, 'hidden_dim': 1024, 'dropout': 0.075942149577157, 'weight_decay': 0.002633734421784717}.\n",
      "100%|████████████████████████████████████████████████████████████████████████████████████████████████████████████████████████████████████████████████████████| 50/50 [02:32<00:00,  3.05s/it]\n",
      "[I 2025-08-05 12:25:48,011] Trial 210 finished with values: [13.305633880615234, 18732598.0] and parameters: {'lr': 0.007260370139734357, 'latent_dim': 4096, 'hidden_dim': 1024, 'dropout': 0.3405489348974276, 'weight_decay': 0.00043040099309224743}.\n",
      "100%|████████████████████████████████████████████████████████████████████████████████████████████████████████████████████████████████████████████████████████| 50/50 [02:27<00:00,  2.96s/it]\n",
      "[I 2025-08-05 12:28:15,817] Trial 211 finished with values: [48.787825927734374, 1229366.0] and parameters: {'lr': 0.0003001770988458421, 'latent_dim': 256, 'hidden_dim': 512, 'dropout': 0.24252940994063527, 'weight_decay': 0.0019598712400151555}.\n",
      "100%|████████████████████████████████████████████████████████████████████████████████████████████████████████████████████████████████████████████████████████| 50/50 [02:30<00:00,  3.02s/it]\n",
      "[I 2025-08-05 12:30:46,714] Trial 212 finished with values: [47.97401953125, 4505398.0] and parameters: {'lr': 0.00011105432690562609, 'latent_dim': 4096, 'hidden_dim': 256, 'dropout': 0.1955461836898319, 'weight_decay': 0.00966003114669972}.\n",
      "100%|████████████████████████████████████████████████████████████████████████████████████████████████████████████████████████████████████████████████████████| 50/50 [02:29<00:00,  2.98s/it]\n",
      "[I 2025-08-05 12:33:15,960] Trial 213 finished with values: [15.956037780761719, 4505398.0] and parameters: {'lr': 0.00997994356687238, 'latent_dim': 4096, 'hidden_dim': 256, 'dropout': 0.08230861743210716, 'weight_decay': 0.00046250584785774353}.\n",
      "100%|████████████████████████████████████████████████████████████████████████████████████████████████████████████████████████████████████████████████████████| 50/50 [02:30<00:00,  3.01s/it]\n",
      "[I 2025-08-05 12:35:46,399] Trial 214 finished with values: [8.560082550048827, 4910134.0] and parameters: {'lr': 0.0007130032960533752, 'latent_dim': 2048, 'hidden_dim': 512, 'dropout': 0.05947120720739868, 'weight_decay': 3.383148245330149e-05}.\n",
      "100%|████████████████████████████████████████████████████████████████████████████████████████████████████████████████████████████████████████████████████████| 50/50 [02:29<00:00,  3.00s/it]\n",
      "[I 2025-08-05 12:38:16,312] Trial 215 finished with values: [69.17201513671876, 6220534.0] and parameters: {'lr': 0.0005386060664441708, 'latent_dim': 32, 'hidden_dim': 2048, 'dropout': 0.18233688417825944, 'weight_decay': 0.0026276886987540733}.\n",
      "100%|████████████████████████████████████████████████████████████████████████████████████████████████████████████████████████████████████████████████████████| 50/50 [02:28<00:00,  2.96s/it]\n",
      "[I 2025-08-05 12:40:44,424] Trial 216 finished with values: [35.95097180175781, 1341238.0] and parameters: {'lr': 0.00997994356687238, 'latent_dim': 1024, 'hidden_dim': 256, 'dropout': 0.28795176405752276, 'weight_decay': 0.002540478154450639}.\n",
      "100%|████████████████████████████████████████████████████████████████████████████████████████████████████████████████████████████████████████████████████████| 50/50 [02:26<00:00,  2.94s/it]\n",
      "[I 2025-08-05 12:43:11,336] Trial 217 finished with values: [15.457615844726563, 1755190.0] and parameters: {'lr': 0.00480225481685459, 'latent_dim': 512, 'hidden_dim': 512, 'dropout': 0.08472091738406912, 'weight_decay': 0.008442202581361823}.\n",
      "100%|████████████████████████████████████████████████████████████████████████████████████████████████████████████████████████████████████████████████████████| 50/50 [02:47<00:00,  3.34s/it]\n",
      "[I 2025-08-05 12:45:58,868] Trial 218 finished with values: [5.297727035522461, 87437878.0] and parameters: {'lr': 0.0014252468088628316, 'latent_dim': 4096, 'hidden_dim': 4096, 'dropout': 0.24252940994063527, 'weight_decay': 0.00046250584785774353}.\n",
      "100%|████████████████████████████████████████████████████████████████████████████████████████████████████████████████████████████████████████████████████████| 50/50 [02:26<00:00,  2.93s/it]\n",
      "[I 2025-08-05 12:48:25,652] Trial 219 finished with values: [66.39900341796876, 4505398.0] and parameters: {'lr': 3.8081281033458e-05, 'latent_dim': 4096, 'hidden_dim': 256, 'dropout': 0.24252940994063527, 'weight_decay': 0.0003283692218451411}.\n",
      "100%|████████████████████████████████████████████████████████████████████████████████████████████████████████████████████████████████████████████████████████| 50/50 [02:24<00:00,  2.89s/it]\n",
      "[I 2025-08-05 12:50:50,018] Trial 220 finished with values: [16.940438354492187, 2395958.0] and parameters: {'lr': 0.0015300985286786637, 'latent_dim': 2048, 'hidden_dim': 256, 'dropout': 0.08472091738406912, 'weight_decay': 0.00019209117987345635}.\n",
      "100%|████████████████████████████████████████████████████████████████████████████████████████████████████████████████████████████████████████████████████████| 50/50 [02:27<00:00,  2.95s/it]\n",
      "[I 2025-08-05 12:53:17,733] Trial 221 finished with values: [7.5435648498535155, 14352950.0] and parameters: {'lr': 0.0014252468088628316, 'latent_dim': 1024, 'hidden_dim': 2048, 'dropout': 0.13178114095177973, 'weight_decay': 4.159421007371049e-05}.\n",
      "100%|████████████████████████████████████████████████████████████████████████████████████████████████████████████████████████████████████████████████████████| 50/50 [02:24<00:00,  2.89s/it]\n",
      "[I 2025-08-05 12:55:42,323] Trial 222 finished with values: [30.9757646484375, 2395958.0] and parameters: {'lr': 0.00997994356687238, 'latent_dim': 2048, 'hidden_dim': 256, 'dropout': 0.28795176405752276, 'weight_decay': 0.0002329494150601253}.\n",
      "100%|████████████████████████████████████████████████████████████████████████████████████████████████████████████████████████████████████████████████████████| 50/50 [02:19<00:00,  2.79s/it]\n",
      "[I 2025-08-05 12:58:01,692] Trial 223 finished with values: [59.27087182617188, 319478.0] and parameters: {'lr': 0.00480225481685459, 'latent_dim': 32, 'hidden_dim': 256, 'dropout': 0.08472091738406912, 'weight_decay': 0.008442202581361823}.\n"
     ]
    },
    {
     "name": "stderr",
     "output_type": "stream",
     "text": [
      "100%|████████████████████████████████████████████████████████████████████████████████████████████████████████████████████████████████████████████████████████| 50/50 [02:20<00:00,  2.81s/it]\n",
      "[I 2025-08-05 13:00:22,274] Trial 224 finished with values: [79.390046875, 769270.0] and parameters: {'lr': 0.00480225481685459, 'latent_dim': 32, 'hidden_dim': 512, 'dropout': 0.3224489162018722, 'weight_decay': 0.0003283692218451411}.\n",
      "100%|████████████████████████████████████████████████████████████████████████████████████████████████████████████████████████████████████████████████████████| 50/50 [02:18<00:00,  2.78s/it]\n",
      "[I 2025-08-05 13:02:41,123] Trial 225 finished with values: [63.75527319335937, 769270.0] and parameters: {'lr': 0.0007130032960533752, 'latent_dim': 32, 'hidden_dim': 512, 'dropout': 0.08472091738406912, 'weight_decay': 0.002637988639896617}.\n",
      "100%|████████████████████████████████████████████████████████████████████████████████████████████████████████████████████████████████████████████████████████| 50/50 [02:20<00:00,  2.81s/it]\n",
      "[I 2025-08-05 13:05:01,488] Trial 226 finished with values: [39.760774291992185, 550198.0] and parameters: {'lr': 0.00997994356687238, 'latent_dim': 256, 'hidden_dim': 256, 'dropout': 0.18910371724667396, 'weight_decay': 0.0015366121690271357}.\n",
      "100%|████████████████████████████████████████████████████████████████████████████████████████████████████████████████████████████████████████████████████████| 50/50 [02:21<00:00,  2.82s/it]\n",
      "[I 2025-08-05 13:07:22,660] Trial 227 finished with values: [39.69296179199219, 550198.0] and parameters: {'lr': 0.00997994356687238, 'latent_dim': 256, 'hidden_dim': 256, 'dropout': 0.18910371724667396, 'weight_decay': 1.4404897779392952e-05}.\n",
      "100%|████████████████████████████████████████████████████████████████████████████████████████████████████████████████████████████████████████████████████████| 50/50 [02:26<00:00,  2.94s/it]\n",
      "[I 2025-08-05 13:09:49,620] Trial 228 finished with values: [7.238762939453125, 22747702.0] and parameters: {'lr': 0.0014252468088628316, 'latent_dim': 2048, 'hidden_dim': 2048, 'dropout': 0.05947120720739868, 'weight_decay': 0.006645948103900642}.\n",
      "100%|████████████████████████████████████████████████████████████████████████████████████████████████████████████████████████████████████████████████████████| 50/50 [02:26<00:00,  2.92s/it]\n",
      "[I 2025-08-05 13:12:15,867] Trial 229 finished with values: [46.58060009765625, 4505398.0] and parameters: {'lr': 9.704875690175051e-05, 'latent_dim': 4096, 'hidden_dim': 256, 'dropout': 0.1096046099745216, 'weight_decay': 0.0015172760186444626}.\n",
      "100%|████████████████████████████████████████████████████████████████████████████████████████████████████████████████████████████████████████████████████████| 50/50 [02:22<00:00,  2.85s/it]\n",
      "[I 2025-08-05 13:14:38,342] Trial 230 finished with values: [22.034921325683595, 813878.0] and parameters: {'lr': 0.00480225481685459, 'latent_dim': 512, 'hidden_dim': 256, 'dropout': 0.08472091738406912, 'weight_decay': 0.008442202581361823}.\n",
      "100%|████████████████████████████████████████████████████████████████████████████████████████████████████████████████████████████████████████████████████████| 50/50 [02:30<00:00,  3.01s/it]\n",
      "[I 2025-08-05 13:17:09,048] Trial 231 finished with values: [10.723732879638671, 18732598.0] and parameters: {'lr': 0.007528214912764185, 'latent_dim': 4096, 'hidden_dim': 1024, 'dropout': 0.1096046099745216, 'weight_decay': 0.0026276886987540733}.\n",
      "100%|████████████████████████████████████████████████████████████████████████████████████████████████████████████████████████████████████████████████████████| 50/50 [02:21<00:00,  2.82s/it]\n",
      "[I 2025-08-05 13:19:30,265] Trial 232 finished with values: [49.70258349609375, 550198.0] and parameters: {'lr': 0.00480225481685459, 'latent_dim': 256, 'hidden_dim': 256, 'dropout': 0.28795176405752276, 'weight_decay': 0.008328420702504986}.\n",
      "100%|████████████████████████████████████████████████████████████████████████████████████████████████████████████████████████████████████████████████████████| 50/50 [02:32<00:00,  3.04s/it]\n",
      "[I 2025-08-05 13:22:02,705] Trial 233 finished with values: [2.8203153457641603, 39537206.0] and parameters: {'lr': 0.0003824211765240525, 'latent_dim': 4096, 'hidden_dim': 2048, 'dropout': 0.02899844490761616, 'weight_decay': 0.0003283692218451411}.\n",
      "100%|████████████████████████████████████████████████████████████████████████████████████████████████████████████████████████████████████████████████████████| 50/50 [02:22<00:00,  2.84s/it]\n",
      "[I 2025-08-05 13:24:24,884] Trial 234 finished with values: [28.751429077148437, 966454.0] and parameters: {'lr': 0.0032460033071005276, 'latent_dim': 128, 'hidden_dim': 512, 'dropout': 0.043713156041100265, 'weight_decay': 0.008442202581361823}.\n",
      "100%|████████████████████████████████████████████████████████████████████████████████████████████████████████████████████████████████████████████████████████| 50/50 [02:26<00:00,  2.92s/it]\n",
      "[I 2025-08-05 13:26:50,959] Trial 235 finished with values: [28.50789001464844, 4505398.0] and parameters: {'lr': 0.0011008762161190224, 'latent_dim': 4096, 'hidden_dim': 256, 'dropout': 0.26971423183248716, 'weight_decay': 4.114589066021446e-05}.\n",
      "100%|████████████████████████████████████████████████████████████████████████████████████████████████████████████████████████████████████████████████████████| 50/50 [02:25<00:00,  2.91s/it]\n",
      "[I 2025-08-05 13:29:16,593] Trial 236 finished with values: [12.4584189453125, 4031030.0] and parameters: {'lr': 0.0005386060664441708, 'latent_dim': 512, 'hidden_dim': 1024, 'dropout': 0.1096046099745216, 'weight_decay': 3.449294873159359e-05}.\n",
      "100%|████████████████████████████████████████████████████████████████████████████████████████████████████████████████████████████████████████████████████████| 50/50 [02:25<00:00,  2.91s/it]\n",
      "[I 2025-08-05 13:31:41,947] Trial 237 finished with values: [13.938207397460937, 2806838.0] and parameters: {'lr': 0.0014252468088628316, 'latent_dim': 1024, 'hidden_dim': 512, 'dropout': 0.13178114095177973, 'weight_decay': 0.008442202581361823}.\n",
      "100%|████████████████████████████████████████████████████████████████████████████████████████████████████████████████████████████████████████████████████████| 50/50 [02:25<00:00,  2.91s/it]\n",
      "[I 2025-08-05 13:34:07,421] Trial 238 finished with values: [52.15590380859375, 2980918.0] and parameters: {'lr': 0.0014252468088628316, 'latent_dim': 256, 'hidden_dim': 1024, 'dropout': 0.4871198720708883, 'weight_decay': 0.00013331416547713863}.\n",
      "100%|████████████████████████████████████████████████████████████████████████████████████████████████████████████████████████████████████████████████████████| 50/50 [02:28<00:00,  2.96s/it]\n",
      "[I 2025-08-05 13:36:35,631] Trial 239 finished with values: [6.138009948730469, 14352950.0] and parameters: {'lr': 0.0014252468088628316, 'latent_dim': 1024, 'hidden_dim': 2048, 'dropout': 0.13178114095177973, 'weight_decay': 8.881782970120371e-05}.\n",
      "100%|████████████████████████████████████████████████████████████████████████████████████████████████████████████████████████████████████████████████████████| 50/50 [02:34<00:00,  3.09s/it]\n",
      "[I 2025-08-05 13:39:10,295] Trial 240 finished with values: [54.40097314453125, 24500278.0] and parameters: {'lr': 0.00997994356687238, 'latent_dim': 256, 'hidden_dim': 4096, 'dropout': 0.1181956743666866, 'weight_decay': 0.0015366121690271357}.\n",
      "100%|████████████████████████████████████████████████████████████████████████████████████████████████████████████████████████████████████████████████████████| 50/50 [02:45<00:00,  3.32s/it]\n",
      "[I 2025-08-05 13:41:56,497] Trial 241 finished with values: [7.023506683349609, 87437878.0] and parameters: {'lr': 0.0014252468088628316, 'latent_dim': 4096, 'hidden_dim': 4096, 'dropout': 0.08472091738406912, 'weight_decay': 0.008442202581361823}.\n",
      "100%|████████████████████████████████████████████████████████████████████████████████████████████████████████████████████████████████████████████████████████| 50/50 [02:22<00:00,  2.84s/it]\n",
      "[I 2025-08-05 13:44:18,537] Trial 242 finished with values: [29.25020910644531, 813878.0] and parameters: {'lr': 0.0005386060664441708, 'latent_dim': 512, 'hidden_dim': 256, 'dropout': 0.05947120720739868, 'weight_decay': 3.383148245330149e-05}.\n"
     ]
    },
    {
     "name": "stderr",
     "output_type": "stream",
     "text": [
      "100%|████████████████████████████████████████████████████████████████████████████████████████████████████████████████████████████████████████████████████████| 50/50 [02:26<00:00,  2.93s/it]\n",
      "[I 2025-08-05 13:46:45,248] Trial 243 finished with values: [11.489020935058594, 18732598.0] and parameters: {'lr': 0.00997994356687238, 'latent_dim': 4096, 'hidden_dim': 1024, 'dropout': 0.18910371724667396, 'weight_decay': 0.00011347444411615583}.\n",
      "100%|████████████████████████████████████████████████████████████████████████████████████████████████████████████████████████████████████████████████████████| 50/50 [02:24<00:00,  2.90s/it]\n",
      "[I 2025-08-05 13:49:10,052] Trial 244 finished with values: [34.0215263671875, 4505398.0] and parameters: {'lr': 0.00018247603895800608, 'latent_dim': 4096, 'hidden_dim': 256, 'dropout': 0.09693029342683362, 'weight_decay': 0.00043040099309224743}.\n",
      "100%|████████████████████████████████████████████████████████████████████████████████████████████████████████████████████████████████████████████████████████| 50/50 [02:36<00:00,  3.13s/it]\n",
      "[I 2025-08-05 13:51:46,476] Trial 245 finished with values: [52.238123046875, 21353398.0] and parameters: {'lr': 0.0011008762161190224, 'latent_dim': 64, 'hidden_dim': 4096, 'dropout': 0.09693029342683362, 'weight_decay': 4.114589066021446e-05}.\n",
      "100%|████████████████████████████████████████████████████████████████████████████████████████████████████████████████████████████████████████████████████████| 50/50 [02:22<00:00,  2.85s/it]\n",
      "[I 2025-08-05 13:54:08,841] Trial 246 finished with values: [40.727260864257815, 813878.0] and parameters: {'lr': 0.0005386060664441708, 'latent_dim': 512, 'hidden_dim': 256, 'dropout': 0.18233688417825944, 'weight_decay': 0.008870806042554445}.\n",
      "100%|████████████████████████████████████████████████████████████████████████████████████████████████████████████████████████████████████████████████████████| 50/50 [02:26<00:00,  2.92s/it]\n",
      "[I 2025-08-05 13:56:35,072] Trial 247 finished with values: [19.327299621582032, 4031030.0] and parameters: {'lr': 0.002845869663226317, 'latent_dim': 512, 'hidden_dim': 1024, 'dropout': 0.24252940994063527, 'weight_decay': 0.00046250584785774353}.\n",
      "100%|████████████████████████████████████████████████████████████████████████████████████████████████████████████████████████████████████████████████████████| 50/50 [02:20<00:00,  2.81s/it]\n",
      "[I 2025-08-05 13:58:55,405] Trial 248 finished with values: [58.73343310546875, 550198.0] and parameters: {'lr': 0.00997994356687238, 'latent_dim': 256, 'hidden_dim': 256, 'dropout': 0.41898540048216737, 'weight_decay': 0.00037630635296852444}.\n",
      "100%|████████████████████████████████████████████████████████████████████████████████████████████████████████████████████████████████████████████████████████| 50/50 [02:27<00:00,  2.95s/it]\n",
      "[I 2025-08-05 14:01:23,010] Trial 249 finished with values: [21.878022521972657, 10155574.0] and parameters: {'lr': 0.0061782789903827495, 'latent_dim': 512, 'hidden_dim': 2048, 'dropout': 0.24252940994063527, 'weight_decay': 0.004430472533482179}.\n"
     ]
    }
   ],
   "source": [
    "p_data=\"../../data/orig_Species_filtered_10000.pt\"\n",
    "#p_output=\"../models/orig_Species_10000_trained_AE.pt\"\n",
    "\n",
    "\n",
    "X_train_scaled, X_test_scaled, y_train_scaled, y_test_scaled, annotations = load_filtered_data(p_data)\n",
    "spc_names = annotations[\"spcs\"]\n",
    "class CustomDataset(Dataset):\n",
    "    def __init__(self, features, labels, device=None):\n",
    "        self.labels = labels\n",
    "        self.features = features\n",
    "    def __len__(self):\n",
    "        return len(self.labels)\n",
    "    def __getitem__(self, idx):\n",
    "        label = self.labels[idx]\n",
    "        data = self.features[idx]\n",
    "        return {\"Features\": data, \"Labels\": label}\n",
    "Train = CustomDataset(X_train_scaled, y_train_scaled)\n",
    "Test = CustomDataset(X_test_scaled, y_test_scaled)\n",
    "\n",
    "def count_parameters(model):\n",
    "    return sum(p.numel() for p in model.parameters() if p.requires_grad)\n",
    "\n",
    "def objective(trial):\n",
    "    # Suggest hyperparameters\n",
    "    input_dim = len(spc_names)\n",
    "    lr = trial.suggest_loguniform('lr', 1e-5, 1e-2)\n",
    "    latent_dim = trial.suggest_categorical('latent_dim', [32, 64, 128, 256, 512, 1024, 2048, 4096])\n",
    "    hidden_dim = trial.suggest_categorical('hidden_dim', [256, 512, 1024, 2048, 4096])\n",
    "    dropout = trial.suggest_float('dropout', 0.0, 0.5)\n",
    "    weight_decay = trial.suggest_loguniform('weight_decay', 1e-5, 1e-2)\n",
    "    \n",
    "    #w1 = trial.suggest_float('w1', 0.0, 1.0)\n",
    "    #w2 = trial.suggest_float('w2', 0.0, 1.0)\n",
    "    #w3 = trial.suggest_float('w3', 0.0, 1.0)\n",
    "    \n",
    "    weights=[1.0, 1.0, 0]\n",
    "    \n",
    "    zero_thr = -0.8\n",
    "    epochs = 50\n",
    "    \n",
    "    # Build and train your VAE with these hyperparameters\n",
    "    model = VAE_2(input_dim=input_dim, latent_dim=latent_dim, hidden_dim=hidden_dim, dropout_rate=dropout).to(device)\n",
    "    optimizer = torch.optim.AdamW(\n",
    "        model.parameters(), \n",
    "        lr=lr,\n",
    "        weight_decay=weight_decay\n",
    "    )\n",
    "    \n",
    "    # Train the model and return the validation loss\n",
    "    ## create batch spits of data\n",
    "    kwargs = {'num_workers': 4, 'pin_memory': True} if use_cuda else {}\n",
    "    train_DS = DataLoader(Train, batch_size=100, shuffle=True, drop_last=False, **kwargs)\n",
    "    test_DS = DataLoader(Test, batch_size=100, shuffle=True, drop_last=False, **kwargs)\n",
    "\n",
    "    trainer = VAETrainer(model, train_DS, test_DS, optimizer, weights, device)\n",
    "\n",
    "    train_losses = []\n",
    "    test_losses = []\n",
    "    train_acc = []\n",
    "    test_acc = []\n",
    "    MSEs, BCEs, KLDs = [], [], []\n",
    "    for epoch in tqdm(range(epochs)):\n",
    "        train_loss, MSE, BCE, KLD, acc = trainer.train_one_epoch(zero_thr)\n",
    "        train_losses.append(train_loss)\n",
    "        train_acc.append(acc)\n",
    "\n",
    "        test_loss, MSE, BCE, KLD, acc = trainer.test_one_epoch(zero_thr)\n",
    "        test_losses.append(test_loss)\n",
    "        test_acc.append(acc)\n",
    "        MSEs.append(MSE)\n",
    "        BCEs.append(BCE)\n",
    "        KLDs.append(KLD)\n",
    "    \n",
    "    # Compute model size\n",
    "    model_size = count_parameters(model)\n",
    "    \n",
    "    return test_loss, model_size\n",
    "\n",
    "study = optuna.create_study(directions=[\"minimize\", \"minimize\"])\n",
    "study.optimize(objective, n_trials=250)\n",
    "#print(study.best_params) ### if we optimize just one direction"
   ]
  },
  {
   "cell_type": "code",
   "execution_count": 6,
   "id": "33f4a7d0",
   "metadata": {},
   "outputs": [],
   "source": [
    "### save the study\n",
    "import pickle\n",
    "\n",
    "with open(\"optuna_study_250.pkl\", \"wb\") as f:\n",
    "    pickle.dump(study, f)"
   ]
  },
  {
   "cell_type": "code",
   "execution_count": 7,
   "id": "fe02602b",
   "metadata": {},
   "outputs": [
    {
     "data": {
      "application/vnd.plotly.v1+json": {
       "config": {
        "plotlyServerURL": "https://plot.ly"
       },
       "data": [
        {
         "hovertemplate": "%{text}<extra>Trial</extra>",
         "marker": {
          "color": [
           0,
           1,
           2,
           3,
           4,
           5,
           6,
           7,
           8,
           9,
           10,
           11,
           12,
           13,
           14,
           15,
           16,
           17,
           18,
           19,
           20,
           21,
           22,
           23,
           24,
           25,
           26,
           27,
           28,
           29,
           30,
           31,
           32,
           33,
           34,
           35,
           36,
           37,
           38,
           39,
           40,
           41,
           42,
           43,
           44,
           45,
           46,
           47,
           48,
           49,
           50,
           51,
           52,
           53,
           54,
           55,
           56,
           57,
           58,
           59,
           60,
           61,
           62,
           63,
           64,
           65,
           66,
           67,
           68,
           69,
           70,
           71,
           72,
           73,
           74,
           75,
           76,
           77,
           78,
           79,
           80,
           81,
           82,
           83,
           84,
           85,
           86,
           87,
           88,
           89,
           90,
           91,
           92,
           93,
           94,
           95,
           96,
           97,
           98,
           100,
           101,
           103,
           104,
           105,
           106,
           107,
           108,
           109,
           110,
           111,
           112,
           113,
           114,
           115,
           116,
           117,
           118,
           120,
           121,
           122,
           123,
           124,
           125,
           126,
           127,
           128,
           129,
           130,
           131,
           132,
           133,
           134,
           135,
           136,
           138,
           139,
           140,
           141,
           142,
           143,
           144,
           145,
           146,
           147,
           148,
           149,
           150,
           151,
           152,
           153,
           154,
           155,
           156,
           157,
           158,
           159,
           160,
           161,
           162,
           163,
           164,
           165,
           166,
           167,
           168,
           170,
           171,
           172,
           173,
           174,
           175,
           177,
           178,
           179,
           180,
           181,
           182,
           183,
           184,
           185,
           186,
           187,
           188,
           189,
           190,
           191,
           192,
           193,
           194,
           195,
           196,
           197,
           198,
           199,
           200,
           201,
           203,
           205,
           206,
           207,
           208,
           209,
           210,
           211,
           212,
           213,
           215,
           216,
           217,
           218,
           219,
           220,
           221,
           222,
           224,
           225,
           226,
           227,
           228,
           229,
           231,
           232,
           234,
           235,
           236,
           237,
           238,
           239,
           240,
           241,
           242,
           243,
           244,
           245,
           246,
           247,
           248,
           249
          ],
          "colorbar": {
           "title": {
            "text": "Trial"
           }
          },
          "colorscale": [
           [
            0,
            "rgb(247,251,255)"
           ],
           [
            0.125,
            "rgb(222,235,247)"
           ],
           [
            0.25,
            "rgb(198,219,239)"
           ],
           [
            0.375,
            "rgb(158,202,225)"
           ],
           [
            0.5,
            "rgb(107,174,214)"
           ],
           [
            0.625,
            "rgb(66,146,198)"
           ],
           [
            0.75,
            "rgb(33,113,181)"
           ],
           [
            0.875,
            "rgb(8,81,156)"
           ],
           [
            1,
            "rgb(8,48,107)"
           ]
          ],
          "line": {
           "color": "Grey",
           "width": 0.5
          }
         },
         "mode": "markers",
         "showlegend": false,
         "text": [
          "{<br>  \"number\": 0,<br>  \"values\": [<br>    24.3918974609375,<br>    18732598.0<br>  ],<br>  \"params\": {<br>    \"lr\": 0.00010785134724752663,<br>    \"latent_dim\": 4096,<br>    \"hidden_dim\": 1024,<br>    \"dropout\": 0.41119345545959174,<br>    \"weight_decay\": 0.00043040099309224743<br>  }<br>}",
          "{<br>  \"number\": 1,<br>  \"values\": [<br>    71.1558623046875,<br>    2062070.0<br>  ],<br>  \"params\": {<br>    \"lr\": 0.00023484734950391024,<br>    \"latent_dim\": 32,<br>    \"hidden_dim\": 1024,<br>    \"dropout\": 0.0845156785389703,<br>    \"weight_decay\": 0.005388540242918989<br>  }<br>}",
          "{<br>  \"number\": 2,<br>  \"values\": [<br>    18.21088427734375,<br>    10155574.0<br>  ],<br>  \"params\": {<br>    \"lr\": 0.0011008762161190224,<br>    \"latent_dim\": 512,<br>    \"hidden_dim\": 2048,<br>    \"dropout\": 0.326767855461615,<br>    \"weight_decay\": 4.114589066021446e-05<br>  }<br>}",
          "{<br>  \"number\": 3,<br>  \"values\": [<br>    3.870225341796875,<br>    39537206.0<br>  ],<br>  \"params\": {<br>    \"lr\": 0.00016528583402939097,<br>    \"latent_dim\": 4096,<br>    \"hidden_dim\": 2048,<br>    \"dropout\": 0.13178114095177973,<br>    \"weight_decay\": 4.159421007371049e-05<br>  }<br>}",
          "{<br>  \"number\": 4,<br>  \"values\": [<br>    27.733541625976564,<br>    87437878.0<br>  ],<br>  \"params\": {<br>    \"lr\": 2.084715674622574e-05,<br>    \"latent_dim\": 4096,<br>    \"hidden_dim\": 4096,<br>    \"dropout\": 0.3845826833444743,<br>    \"weight_decay\": 4.2229775059256025e-05<br>  }<br>}",
          "{<br>  \"number\": 5,<br>  \"values\": [<br>    69.8643310546875,<br>    2806838.0<br>  ],<br>  \"params\": {<br>    \"lr\": 2.5503697949416814e-05,<br>    \"latent_dim\": 1024,<br>    \"hidden_dim\": 512,<br>    \"dropout\": 0.20893498022702855,<br>    \"weight_decay\": 0.0028547423002642978<br>  }<br>}",
          "{<br>  \"number\": 6,<br>  \"values\": [<br>    63.12978686523437,<br>    10331702.0<br>  ],<br>  \"params\": {<br>    \"lr\": 1.2288583844900364e-05,<br>    \"latent_dim\": 2048,<br>    \"hidden_dim\": 1024,<br>    \"dropout\": 0.08341145881078971,<br>    \"weight_decay\": 4.2157839808831644e-05<br>  }<br>}",
          "{<br>  \"number\": 7,<br>  \"values\": [<br>    4.522628814697265,<br>    87437878.0<br>  ],<br>  \"params\": {<br>    \"lr\": 0.0014252468088628316,<br>    \"latent_dim\": 4096,<br>    \"hidden_dim\": 4096,<br>    \"dropout\": 0.24252940994063527,<br>    \"weight_decay\": 0.00046250584785774353<br>  }<br>}",
          "{<br>  \"number\": 8,<br>  \"values\": [<br>    11.077814819335938,<br>    14352950.0<br>  ],<br>  \"params\": {<br>    \"lr\": 0.0032460033071005276,<br>    \"latent_dim\": 1024,<br>    \"hidden_dim\": 2048,<br>    \"dropout\": 0.24536246988683824,<br>    \"weight_decay\": 0.002633734421784717<br>  }<br>}",
          "{<br>  \"number\": 9,<br>  \"values\": [<br>    100.98467919921875,<br>    319478.0<br>  ],<br>  \"params\": {<br>    \"lr\": 1.099380403778416e-05,<br>    \"latent_dim\": 32,<br>    \"hidden_dim\": 256,<br>    \"dropout\": 0.23292994848892645,<br>    \"weight_decay\": 1.8299668034957276e-05<br>  }<br>}",
          "{<br>  \"number\": 10,<br>  \"values\": [<br>    5.921243041992187,<br>    22747702.0<br>  ],<br>  \"params\": {<br>    \"lr\": 0.001173537533484823,<br>    \"latent_dim\": 2048,<br>    \"hidden_dim\": 2048,<br>    \"dropout\": 0.28795176405752276,<br>    \"weight_decay\": 0.0036483632945337446<br>  }<br>}",
          "{<br>  \"number\": 11,<br>  \"values\": [<br>    41.93558642578125,<br>    4505398.0<br>  ],<br>  \"params\": {<br>    \"lr\": 0.0041134950771249,<br>    \"latent_dim\": 4096,<br>    \"hidden_dim\": 256,<br>    \"dropout\": 0.4445983679734694,<br>    \"weight_decay\": 2.4786625804889595e-05<br>  }<br>}",
          "{<br>  \"number\": 12,<br>  \"values\": [<br>    28.1509287109375,<br>    2980918.0<br>  ],<br>  \"params\": {<br>    \"lr\": 0.0007284686798354398,<br>    \"latent_dim\": 256,<br>    \"hidden_dim\": 1024,<br>    \"dropout\": 0.2142223334457568,<br>    \"weight_decay\": 3.246054399532003e-05<br>  }<br>}",
          "{<br>  \"number\": 13,<br>  \"values\": [<br>    12.416393005371093,<br>    53871158.0<br>  ],<br>  \"params\": {<br>    \"lr\": 5.2018370863115095e-05,<br>    \"latent_dim\": 2048,<br>    \"hidden_dim\": 4096,<br>    \"dropout\": 0.1532432834663467,<br>    \"weight_decay\": 0.00016930412236605558<br>  }<br>}",
          "{<br>  \"number\": 14,<br>  \"values\": [<br>    72.62789721679688,<br>    1341238.0<br>  ],<br>  \"params\": {<br>    \"lr\": 3.026891765757079e-05,<br>    \"latent_dim\": 1024,<br>    \"hidden_dim\": 256,<br>    \"dropout\": 0.043713156041100265,<br>    \"weight_decay\": 0.00021077261660615494<br>  }<br>}",
          "{<br>  \"number\": 15,<br>  \"values\": [<br>    73.65799462890625,<br>    21353398.0<br>  ],<br>  \"params\": {<br>    \"lr\": 0.00029022738889763794,<br>    \"latent_dim\": 64,<br>    \"hidden_dim\": 4096,<br>    \"dropout\": 0.4276063951121375,<br>    \"weight_decay\": 0.0029709676007061633<br>  }<br>}",
          "{<br>  \"number\": 16,<br>  \"values\": [<br>    13.358580688476563,<br>    14352950.0<br>  ],<br>  \"params\": {<br>    \"lr\": 0.0016556254953436524,<br>    \"latent_dim\": 1024,<br>    \"hidden_dim\": 2048,<br>    \"dropout\": 0.38073091521271313,<br>    \"weight_decay\": 4.141087624383497e-05<br>  }<br>}",
          "{<br>  \"number\": 17,<br>  \"values\": [<br>    53.78364526367187,<br>    7007542.0<br>  ],<br>  \"params\": {<br>    \"lr\": 0.00012719801143486962,<br>    \"latent_dim\": 128,<br>    \"hidden_dim\": 2048,<br>    \"dropout\": 0.050578654314106686,<br>    \"weight_decay\": 0.00044281134124735274<br>  }<br>}",
          "{<br>  \"number\": 18,<br>  \"values\": [<br>    38.20540283203125,<br>    22402358.0<br>  ],<br>  \"params\": {<br>    \"lr\": 0.009023803398180366,<br>    \"latent_dim\": 128,<br>    \"hidden_dim\": 4096,<br>    \"dropout\": 0.09671369122812307,<br>    \"weight_decay\": 0.006431104788574216<br>  }<br>}",
          "{<br>  \"number\": 19,<br>  \"values\": [<br>    14.108665649414062,<br>    18732598.0<br>  ],<br>  \"params\": {<br>    \"lr\": 9.704875690175051e-05,<br>    \"latent_dim\": 4096,<br>    \"hidden_dim\": 1024,<br>    \"dropout\": 0.1096046099745216,<br>    \"weight_decay\": 0.0015172760186444626<br>  }<br>}",
          "{<br>  \"number\": 20,<br>  \"values\": [<br>    24.168392700195312,<br>    1229366.0<br>  ],<br>  \"params\": {<br>    \"lr\": 0.0006503387425582593,<br>    \"latent_dim\": 256,<br>    \"hidden_dim\": 512,<br>    \"dropout\": 0.06474944400305116,<br>    \"weight_decay\": 0.0026276886987540733<br>  }<br>}",
          "{<br>  \"number\": 21,<br>  \"values\": [<br>    73.4008681640625,<br>    2193334.0<br>  ],<br>  \"params\": {<br>    \"lr\": 0.00019186975309080912,<br>    \"latent_dim\": 64,<br>    \"hidden_dim\": 1024,<br>    \"dropout\": 0.3791960285153942,<br>    \"weight_decay\": 0.0014972391882395327<br>  }<br>}",
          "{<br>  \"number\": 22,<br>  \"values\": [<br>    27.07305822753906,<br>    28696118.0<br>  ],<br>  \"params\": {<br>    \"lr\": 0.004585095570614617,<br>    \"latent_dim\": 512,<br>    \"hidden_dim\": 4096,<br>    \"dropout\": 0.33516432412994407,<br>    \"weight_decay\": 0.0049533032624960215<br>  }<br>}",
          "{<br>  \"number\": 23,<br>  \"values\": [<br>    61.11719995117188,<br>    6131254.0<br>  ],<br>  \"params\": {<br>    \"lr\": 2.7036049701527995e-05,<br>    \"latent_dim\": 1024,<br>    \"hidden_dim\": 1024,<br>    \"dropout\": 0.25189132895712135,<br>    \"weight_decay\": 0.0017127515021237308<br>  }<br>}",
          "{<br>  \"number\": 24,<br>  \"values\": [<br>    58.93609326171875,<br>    24500278.0<br>  ],<br>  \"params\": {<br>    \"lr\": 0.005598388960659753,<br>    \"latent_dim\": 256,<br>    \"hidden_dim\": 4096,<br>    \"dropout\": 0.17683539038263552,<br>    \"weight_decay\": 0.00016682977468556953<br>  }<br>}",
          "{<br>  \"number\": 25,<br>  \"values\": [<br>    71.03535107421875,<br>    6220534.0<br>  ],<br>  \"params\": {<br>    \"lr\": 0.0015899814941898456,<br>    \"latent_dim\": 32,<br>    \"hidden_dim\": 2048,<br>    \"dropout\": 0.2736236282153374,<br>    \"weight_decay\": 3.929455851105183e-05<br>  }<br>}",
          "{<br>  \"number\": 26,<br>  \"values\": [<br>    21.833085693359376,<br>    28696118.0<br>  ],<br>  \"params\": {<br>    \"lr\": 0.0009659195365318864,<br>    \"latent_dim\": 512,<br>    \"hidden_dim\": 4096,<br>    \"dropout\": 0.41671964113350124,<br>    \"weight_decay\": 0.00043070486427324657<br>  }<br>}",
          "{<br>  \"number\": 27,<br>  \"values\": [<br>    39.7351884765625,<br>    24500278.0<br>  ],<br>  \"params\": {<br>    \"lr\": 0.0003673331963378173,<br>    \"latent_dim\": 256,<br>    \"hidden_dim\": 4096,<br>    \"dropout\": 0.39834468628617725,<br>    \"weight_decay\": 0.0002063764449903771<br>  }<br>}",
          "{<br>  \"number\": 28,<br>  \"values\": [<br>    15.407927490234375,<br>    2980918.0<br>  ],<br>  \"params\": {<br>    \"lr\": 0.002845869663226317,<br>    \"latent_dim\": 256,<br>    \"hidden_dim\": 1024,<br>    \"dropout\": 0.00937026146829295,<br>    \"weight_decay\": 3.7784678590189794e-05<br>  }<br>}",
          "{<br>  \"number\": 29,<br>  \"values\": [<br>    33.506222778320314,<br>    8056886.0<br>  ],<br>  \"params\": {<br>    \"lr\": 0.0014459595982129476,<br>    \"latent_dim\": 256,<br>    \"hidden_dim\": 2048,<br>    \"dropout\": 0.32861936784305623,<br>    \"weight_decay\": 0.002637988639896617<br>  }<br>}",
          "{<br>  \"number\": 30,<br>  \"values\": [<br>    15.429127288818359,<br>    1755190.0<br>  ],<br>  \"params\": {<br>    \"lr\": 0.00480225481685459,<br>    \"latent_dim\": 512,<br>    \"hidden_dim\": 512,<br>    \"dropout\": 0.08472091738406912,<br>    \"weight_decay\": 0.008442202581361823<br>  }<br>}",
          "{<br>  \"number\": 31,<br>  \"values\": [<br>    39.900393432617186,<br>    550198.0<br>  ],<br>  \"params\": {<br>    \"lr\": 0.00997994356687238,<br>    \"latent_dim\": 256,<br>    \"hidden_dim\": 256,<br>    \"dropout\": 0.18910371724667396,<br>    \"weight_decay\": 0.0015366121690271357<br>  }<br>}",
          "{<br>  \"number\": 32,<br>  \"values\": [<br>    44.87510498046875,<br>    10155574.0<br>  ],<br>  \"params\": {<br>    \"lr\": 5.077775506327688e-05,<br>    \"latent_dim\": 512,<br>    \"hidden_dim\": 2048,<br>    \"dropout\": 0.12847272087453165,<br>    \"weight_decay\": 0.000373603804728804<br>  }<br>}",
          "{<br>  \"number\": 33,<br>  \"values\": [<br>    54.45549780273438,<br>    21353398.0<br>  ],<br>  \"params\": {<br>    \"lr\": 0.0030989413994944376,<br>    \"latent_dim\": 64,<br>    \"hidden_dim\": 4096,<br>    \"dropout\": 0.1549391819242662,<br>    \"weight_decay\": 0.00012114089556470953<br>  }<br>}",
          "{<br>  \"number\": 34,<br>  \"values\": [<br>    79.58945336914063,<br>    418358.0<br>  ],<br>  \"params\": {<br>    \"lr\": 4.087619707783087e-05,<br>    \"latent_dim\": 128,<br>    \"hidden_dim\": 256,<br>    \"dropout\": 0.06009278365529991,<br>    \"weight_decay\": 6.226346644100608e-05<br>  }<br>}",
          "{<br>  \"number\": 35,<br>  \"values\": [<br>    55.548109375,<br>    2980918.0<br>  ],<br>  \"params\": {<br>    \"lr\": 9.57013506601575e-05,<br>    \"latent_dim\": 256,<br>    \"hidden_dim\": 1024,<br>    \"dropout\": 0.19652847497271092,<br>    \"weight_decay\": 0.00023303967268901074<br>  }<br>}",
          "{<br>  \"number\": 36,<br>  \"values\": [<br>    52.2667998046875,<br>    1229366.0<br>  ],<br>  \"params\": {<br>    \"lr\": 0.0007717544454516151,<br>    \"latent_dim\": 256,<br>    \"hidden_dim\": 512,<br>    \"dropout\": 0.3960883943526267,<br>    \"weight_decay\": 1.1829693903474744e-05<br>  }<br>}",
          "{<br>  \"number\": 37,<br>  \"values\": [<br>    71.61621752929688,<br>    6131254.0<br>  ],<br>  \"params\": {<br>    \"lr\": 1.790237729735196e-05,<br>    \"latent_dim\": 1024,<br>    \"hidden_dim\": 1024,<br>    \"dropout\": 0.38833576724692453,<br>    \"weight_decay\": 0.001311863777299815<br>  }<br>}",
          "{<br>  \"number\": 38,<br>  \"values\": [<br>    16.804427978515626,<br>    8056886.0<br>  ],<br>  \"params\": {<br>    \"lr\": 0.00044504869715686015,<br>    \"latent_dim\": 256,<br>    \"hidden_dim\": 2048,<br>    \"dropout\": 0.05947120720739868,<br>    \"weight_decay\": 0.0005970133549973363<br>  }<br>}",
          "{<br>  \"number\": 39,<br>  \"values\": [<br>    77.2425205078125,<br>    352438.0<br>  ],<br>  \"params\": {<br>    \"lr\": 0.0003824211765240525,<br>    \"latent_dim\": 64,<br>    \"hidden_dim\": 256,<br>    \"dropout\": 0.4685153941569599,<br>    \"weight_decay\": 0.0003283692218451411<br>  }<br>}",
          "{<br>  \"number\": 40,<br>  \"values\": [<br>    73.43883520507812,<br>    21353398.0<br>  ],<br>  \"params\": {<br>    \"lr\": 5.350122888388513e-05,<br>    \"latent_dim\": 64,<br>    \"hidden_dim\": 4096,<br>    \"dropout\": 0.14485175854823246,<br>    \"weight_decay\": 0.0002643584396187115<br>  }<br>}",
          "{<br>  \"number\": 41,<br>  \"values\": [<br>    3.1559088134765627,<br>    39537206.0<br>  ],<br>  \"params\": {<br>    \"lr\": 0.0006305359855059955,<br>    \"latent_dim\": 4096,<br>    \"hidden_dim\": 2048,<br>    \"dropout\": 0.24023400600912903,<br>    \"weight_decay\": 8.822367002515846e-05<br>  }<br>}",
          "{<br>  \"number\": 42,<br>  \"values\": [<br>    7.956449432373047,<br>    39537206.0<br>  ],<br>  \"params\": {<br>    \"lr\": 0.0021385832722501034,<br>    \"latent_dim\": 4096,<br>    \"hidden_dim\": 2048,<br>    \"dropout\": 0.04765636700655207,<br>    \"weight_decay\": 0.00034198745653704144<br>  }<br>}",
          "{<br>  \"number\": 43,<br>  \"values\": [<br>    65.48446142578125,<br>    6131254.0<br>  ],<br>  \"params\": {<br>    \"lr\": 2.0999935182880865e-05,<br>    \"latent_dim\": 1024,<br>    \"hidden_dim\": 1024,<br>    \"dropout\": 0.2525347972501927,<br>    \"weight_decay\": 0.0001757488398219512<br>  }<br>}",
          "{<br>  \"number\": 44,<br>  \"values\": [<br>    89.40011669921876,<br>    2062070.0<br>  ],<br>  \"params\": {<br>    \"lr\": 2.3552416588147327e-05,<br>    \"latent_dim\": 32,<br>    \"hidden_dim\": 1024,<br>    \"dropout\": 0.2645324308151394,<br>    \"weight_decay\": 0.009811588348974568<br>  }<br>}",
          "{<br>  \"number\": 45,<br>  \"values\": [<br>    50.33899096679688,<br>    2980918.0<br>  ],<br>  \"params\": {<br>    \"lr\": 0.0002634687844321477,<br>    \"latent_dim\": 256,<br>    \"hidden_dim\": 1024,<br>    \"dropout\": 0.3759645591046875,<br>    \"weight_decay\": 3.383148245330149e-05<br>  }<br>}",
          "{<br>  \"number\": 46,<br>  \"values\": [<br>    70.7906552734375,<br>    20828918.0<br>  ],<br>  \"params\": {<br>    \"lr\": 0.0003967207031382916,<br>    \"latent_dim\": 32,<br>    \"hidden_dim\": 4096,<br>    \"dropout\": 0.19511102769295668,<br>    \"weight_decay\": 0.006605631798486008<br>  }<br>}",
          "{<br>  \"number\": 47,<br>  \"values\": [<br>    14.003587127685547,<br>    22747702.0<br>  ],<br>  \"params\": {<br>    \"lr\": 0.006973867630130568,<br>    \"latent_dim\": 2048,<br>    \"hidden_dim\": 2048,<br>    \"dropout\": 0.031727539704485885,<br>    \"weight_decay\": 0.002115660576592712<br>  }<br>}",
          "{<br>  \"number\": 48,<br>  \"values\": [<br>    32.46679284667969,<br>    2455862.0<br>  ],<br>  \"params\": {<br>    \"lr\": 0.000579143129754614,<br>    \"latent_dim\": 128,<br>    \"hidden_dim\": 1024,<br>    \"dropout\": 0.015359191241134107,<br>    \"weight_decay\": 1.98797961942729e-05<br>  }<br>}",
          "{<br>  \"number\": 49,<br>  \"values\": [<br>    70.86833984375,<br>    966454.0<br>  ],<br>  \"params\": {<br>    \"lr\": 7.128977581111499e-05,<br>    \"latent_dim\": 128,<br>    \"hidden_dim\": 512,<br>    \"dropout\": 0.07912890031204944,<br>    \"weight_decay\": 1.4404897779392952e-05<br>  }<br>}",
          "{<br>  \"number\": 50,<br>  \"values\": [<br>    10.659562286376953,<br>    22747702.0<br>  ],<br>  \"params\": {<br>    \"lr\": 0.0003824211765240525,<br>    \"latent_dim\": 2048,<br>    \"hidden_dim\": 2048,<br>    \"dropout\": 0.4685153941569599,<br>    \"weight_decay\": 0.0003283692218451411<br>  }<br>}",
          "{<br>  \"number\": 51,<br>  \"values\": [<br>    93.49336279296875,<br>    834998.0<br>  ],<br>  \"params\": {<br>    \"lr\": 0.0030989413994944376,<br>    \"latent_dim\": 64,<br>    \"hidden_dim\": 512,<br>    \"dropout\": 0.4703321522227195,<br>    \"weight_decay\": 0.00012114089556470953<br>  }<br>}",
          "{<br>  \"number\": 52,<br>  \"values\": [<br>    36.791175537109375,<br>    28696118.0<br>  ],<br>  \"params\": {<br>    \"lr\": 7.128977581111499e-05,<br>    \"latent_dim\": 512,<br>    \"hidden_dim\": 4096,<br>    \"dropout\": 0.29846930130792565,<br>    \"weight_decay\": 0.00043070486427324657<br>  }<br>}",
          "{<br>  \"number\": 53,<br>  \"values\": [<br>    3.225720245361328,<br>    87437878.0<br>  ],<br>  \"params\": {<br>    \"lr\": 0.00010785134724752663,<br>    \"latent_dim\": 4096,<br>    \"hidden_dim\": 4096,<br>    \"dropout\": 0.043713156041100265,<br>    \"weight_decay\": 0.00021077261660615494<br>  }<br>}",
          "{<br>  \"number\": 54,<br>  \"values\": [<br>    87.56761254882812,<br>    1341238.0<br>  ],<br>  \"params\": {<br>    \"lr\": 1.1753833461309116e-05,<br>    \"latent_dim\": 1024,<br>    \"hidden_dim\": 256,<br>    \"dropout\": 0.23292994848892645,<br>    \"weight_decay\": 1.8299668034957276e-05<br>  }<br>}",
          "{<br>  \"number\": 55,<br>  \"values\": [<br>    79.39849731445312,<br>    1341238.0<br>  ],<br>  \"params\": {<br>    \"lr\": 1.790237729735196e-05,<br>    \"latent_dim\": 1024,<br>    \"hidden_dim\": 256,<br>    \"dropout\": 0.043713156041100265,<br>    \"weight_decay\": 0.00026456034771726243<br>  }<br>}",
          "{<br>  \"number\": 56,<br>  \"values\": [<br>    32.948640502929685,<br>    2806838.0<br>  ],<br>  \"params\": {<br>    \"lr\": 0.0032460033071005276,<br>    \"latent_dim\": 1024,<br>    \"hidden_dim\": 512,<br>    \"dropout\": 0.3960883943526267,<br>    \"weight_decay\": 1.1829693903474744e-05<br>  }<br>}",
          "{<br>  \"number\": 57,<br>  \"values\": [<br>    80.88316064453124,<br>    813878.0<br>  ],<br>  \"params\": {<br>    \"lr\": 3.404041532865818e-05,<br>    \"latent_dim\": 512,<br>    \"hidden_dim\": 256,<br>    \"dropout\": 0.41671964113350124,<br>    \"weight_decay\": 0.00043070486427324657<br>  }<br>}",
          "{<br>  \"number\": 58,<br>  \"values\": [<br>    32.71655944824219,<br>    2455862.0<br>  ],<br>  \"params\": {<br>    \"lr\": 0.000579143129754614,<br>    \"latent_dim\": 128,<br>    \"hidden_dim\": 1024,<br>    \"dropout\": 0.015359191241134107,<br>    \"weight_decay\": 1.98797961942729e-05<br>  }<br>}",
          "{<br>  \"number\": 59,<br>  \"values\": [<br>    46.31617907714844,<br>    7007542.0<br>  ],<br>  \"params\": {<br>    \"lr\": 0.004770702525038839,<br>    \"latent_dim\": 128,<br>    \"hidden_dim\": 2048,<br>    \"dropout\": 0.2349785259147486,<br>    \"weight_decay\": 1.4404897779392952e-05<br>  }<br>}",
          "{<br>  \"number\": 60,<br>  \"values\": [<br>    13.553231811523437,<br>    18732598.0<br>  ],<br>  \"params\": {<br>    \"lr\": 9.704875690175051e-05,<br>    \"latent_dim\": 4096,<br>    \"hidden_dim\": 1024,<br>    \"dropout\": 0.1096046099745216,<br>    \"weight_decay\": 0.0015172760186444626<br>  }<br>}",
          "{<br>  \"number\": 61,<br>  \"values\": [<br>    76.55157299804688,<br>    352438.0<br>  ],<br>  \"params\": {<br>    \"lr\": 9.704875690175051e-05,<br>    \"latent_dim\": 64,<br>    \"hidden_dim\": 256,<br>    \"dropout\": 0.1096046099745216,<br>    \"weight_decay\": 0.0015172760186444626<br>  }<br>}",
          "{<br>  \"number\": 62,<br>  \"values\": [<br>    74.646857421875,<br>    21353398.0<br>  ],<br>  \"params\": {<br>    \"lr\": 5.350122888388513e-05,<br>    \"latent_dim\": 64,<br>    \"hidden_dim\": 4096,<br>    \"dropout\": 0.20230105058479508,<br>    \"weight_decay\": 0.0002643584396187115<br>  }<br>}",
          "{<br>  \"number\": 63,<br>  \"values\": [<br>    66.50331201171875,<br>    2455862.0<br>  ],<br>  \"params\": {<br>    \"lr\": 7.128977581111499e-05,<br>    \"latent_dim\": 128,<br>    \"hidden_dim\": 1024,<br>    \"dropout\": 0.07912890031204944,<br>    \"weight_decay\": 0.0014972391882395327<br>  }<br>}",
          "{<br>  \"number\": 64,<br>  \"values\": [<br>    34.08242663574219,<br>    24500278.0<br>  ],<br>  \"params\": {<br>    \"lr\": 0.0014459595982129476,<br>    \"latent_dim\": 256,<br>    \"hidden_dim\": 4096,<br>    \"dropout\": 0.33516432412994407,<br>    \"weight_decay\": 0.0049533032624960215<br>  }<br>}",
          "{<br>  \"number\": 65,<br>  \"values\": [<br>    83.8940400390625,<br>    22402358.0<br>  ],<br>  \"params\": {<br>    \"lr\": 0.007403244717080373,<br>    \"latent_dim\": 128,<br>    \"hidden_dim\": 4096,<br>    \"dropout\": 0.36471929113114754,<br>    \"weight_decay\": 0.00046250584785774353<br>  }<br>}",
          "{<br>  \"number\": 66,<br>  \"values\": [<br>    82.90783911132813,<br>    4505398.0<br>  ],<br>  \"params\": {<br>    \"lr\": 1.099380403778416e-05,<br>    \"latent_dim\": 4096,<br>    \"hidden_dim\": 256,<br>    \"dropout\": 0.23292994848892645,<br>    \"weight_decay\": 0.00043040099309224743<br>  }<br>}",
          "{<br>  \"number\": 67,<br>  \"values\": [<br>    70.86476611328125,<br>    20828918.0<br>  ],<br>  \"params\": {<br>    \"lr\": 0.0003967207031382916,<br>    \"latent_dim\": 32,<br>    \"hidden_dim\": 4096,<br>    \"dropout\": 0.19511102769295668,<br>    \"weight_decay\": 0.006605631798486008<br>  }<br>}",
          "{<br>  \"number\": 68,<br>  \"values\": [<br>    60.65336059570313,<br>    2062070.0<br>  ],<br>  \"params\": {<br>    \"lr\": 0.002845869663226317,<br>    \"latent_dim\": 32,<br>    \"hidden_dim\": 1024,<br>    \"dropout\": 0.00937026146829295,<br>    \"weight_decay\": 0.009811588348974568<br>  }<br>}",
          "{<br>  \"number\": 69,<br>  \"values\": [<br>    32.967264038085936,<br>    2455862.0<br>  ],<br>  \"params\": {<br>    \"lr\": 0.000579143129754614,<br>    \"latent_dim\": 128,<br>    \"hidden_dim\": 1024,<br>    \"dropout\": 0.015359191241134107,<br>    \"weight_decay\": 1.98797961942729e-05<br>  }<br>}",
          "{<br>  \"number\": 70,<br>  \"values\": [<br>    86.06990161132812,<br>    1341238.0<br>  ],<br>  \"params\": {<br>    \"lr\": 1.2288583844900364e-05,<br>    \"latent_dim\": 1024,<br>    \"hidden_dim\": 256,<br>    \"dropout\": 0.18910371724667396,<br>    \"weight_decay\": 4.2157839808831644e-05<br>  }<br>}",
          "{<br>  \"number\": 71,<br>  \"values\": [<br>    12.770924621582031,<br>    10331702.0<br>  ],<br>  \"params\": {<br>    \"lr\": 0.0002634687844321477,<br>    \"latent_dim\": 2048,<br>    \"hidden_dim\": 1024,<br>    \"dropout\": 0.28795176405752276,<br>    \"weight_decay\": 3.383148245330149e-05<br>  }<br>}",
          "{<br>  \"number\": 72,<br>  \"values\": [<br>    57.6904462890625,<br>    418358.0<br>  ],<br>  \"params\": {<br>    \"lr\": 0.0011008762161190224,<br>    \"latent_dim\": 128,<br>    \"hidden_dim\": 256,<br>    \"dropout\": 0.26971423183248716,<br>    \"weight_decay\": 4.114589066021446e-05<br>  }<br>}",
          "{<br>  \"number\": 73,<br>  \"values\": [<br>    82.97096484375,<br>    1341238.0<br>  ],<br>  \"params\": {<br>    \"lr\": 2.5503697949416814e-05,<br>    \"latent_dim\": 1024,<br>    \"hidden_dim\": 256,<br>    \"dropout\": 0.4685153941569599,<br>    \"weight_decay\": 0.0028547423002642978<br>  }<br>}",
          "{<br>  \"number\": 74,<br>  \"values\": [<br>    18.667601196289063,<br>    87437878.0<br>  ],<br>  \"params\": {<br>    \"lr\": 2.084715674622574e-05,<br>    \"latent_dim\": 4096,<br>    \"hidden_dim\": 4096,<br>    \"dropout\": 0.1096046099745216,<br>    \"weight_decay\": 4.2229775059256025e-05<br>  }<br>}",
          "{<br>  \"number\": 75,<br>  \"values\": [<br>    55.977438232421875,<br>    1755190.0<br>  ],<br>  \"params\": {<br>    \"lr\": 7.128977581111499e-05,<br>    \"latent_dim\": 512,<br>    \"hidden_dim\": 512,<br>    \"dropout\": 0.07912890031204944,<br>    \"weight_decay\": 1.4404897779392952e-05<br>  }<br>}",
          "{<br>  \"number\": 76,<br>  \"values\": [<br>    39.58521069335937,<br>    813878.0<br>  ],<br>  \"params\": {<br>    \"lr\": 0.0003824211765240525,<br>    \"latent_dim\": 512,<br>    \"hidden_dim\": 256,<br>    \"dropout\": 0.12847272087453165,<br>    \"weight_decay\": 0.0003283692218451411<br>  }<br>}",
          "{<br>  \"number\": 77,<br>  \"values\": [<br>    24.850081604003908,<br>    1229366.0<br>  ],<br>  \"params\": {<br>    \"lr\": 0.0006503387425582593,<br>    \"latent_dim\": 256,<br>    \"hidden_dim\": 512,<br>    \"dropout\": 0.06474944400305116,<br>    \"weight_decay\": 0.0026276886987540733<br>  }<br>}",
          "{<br>  \"number\": 78,<br>  \"values\": [<br>    16.914957885742187,<br>    18732598.0<br>  ],<br>  \"params\": {<br>    \"lr\": 0.00016249668330785852,<br>    \"latent_dim\": 4096,<br>    \"hidden_dim\": 1024,<br>    \"dropout\": 0.3759645591046875,<br>    \"weight_decay\": 0.0007109701842735433<br>  }<br>}",
          "{<br>  \"number\": 79,<br>  \"values\": [<br>    4.829578521728515,<br>    39537206.0<br>  ],<br>  \"params\": {<br>    \"lr\": 0.0014252468088628316,<br>    \"latent_dim\": 4096,<br>    \"hidden_dim\": 2048,<br>    \"dropout\": 0.24252940994063527,<br>    \"weight_decay\": 0.00046250584785774353<br>  }<br>}",
          "{<br>  \"number\": 80,<br>  \"values\": [<br>    69.05376513671875,<br>    6220534.0<br>  ],<br>  \"params\": {<br>    \"lr\": 0.0003674156734309753,<br>    \"latent_dim\": 32,<br>    \"hidden_dim\": 2048,<br>    \"dropout\": 0.13178114095177973,<br>    \"weight_decay\": 1.377321801397118e-05<br>  }<br>}",
          "{<br>  \"number\": 81,<br>  \"values\": [<br>    39.56751013183594,<br>    10155574.0<br>  ],<br>  \"params\": {<br>    \"lr\": 9.704875690175051e-05,<br>    \"latent_dim\": 512,<br>    \"hidden_dim\": 2048,<br>    \"dropout\": 0.326767855461615,<br>    \"weight_decay\": 0.0015172760186444626<br>  }<br>}",
          "{<br>  \"number\": 82,<br>  \"values\": [<br>    67.31856567382812,<br>    21353398.0<br>  ],<br>  \"params\": {<br>    \"lr\": 0.00027828124687918535,<br>    \"latent_dim\": 64,<br>    \"hidden_dim\": 4096,<br>    \"dropout\": 0.31636883373248514,<br>    \"weight_decay\": 0.0002643584396187115<br>  }<br>}",
          "{<br>  \"number\": 83,<br>  \"values\": [<br>    33.092306518554686,<br>    7007542.0<br>  ],<br>  \"params\": {<br>    \"lr\": 0.002674784114675279,<br>    \"latent_dim\": 128,<br>    \"hidden_dim\": 2048,<br>    \"dropout\": 0.031727539704485885,<br>    \"weight_decay\": 0.0028547423002642978<br>  }<br>}",
          "{<br>  \"number\": 84,<br>  \"values\": [<br>    61.2461728515625,<br>    6131254.0<br>  ],<br>  \"params\": {<br>    \"lr\": 2.7036049701527995e-05,<br>    \"latent_dim\": 1024,<br>    \"hidden_dim\": 1024,<br>    \"dropout\": 0.2525347972501927,<br>    \"weight_decay\": 0.0001757488398219512<br>  }<br>}",
          "{<br>  \"number\": 85,<br>  \"values\": [<br>    56.409008544921875,<br>    1229366.0<br>  ],<br>  \"params\": {<br>    \"lr\": 0.00011105432690562609,<br>    \"latent_dim\": 256,<br>    \"hidden_dim\": 512,<br>    \"dropout\": 0.08472091738406912,<br>    \"weight_decay\": 0.002637988639896617<br>  }<br>}",
          "{<br>  \"number\": 86,<br>  \"values\": [<br>    14.2412138671875,<br>    18732598.0<br>  ],<br>  \"params\": {<br>    \"lr\": 9.704875690175051e-05,<br>    \"latent_dim\": 4096,<br>    \"hidden_dim\": 1024,<br>    \"dropout\": 0.1096046099745216,<br>    \"weight_decay\": 3.929455851105183e-05<br>  }<br>}",
          "{<br>  \"number\": 87,<br>  \"values\": [<br>    16.72262829589844,<br>    2980918.0<br>  ],<br>  \"params\": {<br>    \"lr\": 0.0007130032960533752,<br>    \"latent_dim\": 256,<br>    \"hidden_dim\": 1024,<br>    \"dropout\": 0.05947120720739868,<br>    \"weight_decay\": 3.383148245330149e-05<br>  }<br>}",
          "{<br>  \"number\": 88,<br>  \"values\": [<br>    21.108282836914064,<br>    6131254.0<br>  ],<br>  \"params\": {<br>    \"lr\": 0.0006503387425582593,<br>    \"latent_dim\": 1024,<br>    \"hidden_dim\": 1024,<br>    \"dropout\": 0.38833576724692453,<br>    \"weight_decay\": 0.0026276886987540733<br>  }<br>}",
          "{<br>  \"number\": 89,<br>  \"values\": [<br>    16.742340637207032,<br>    8056886.0<br>  ],<br>  \"params\": {<br>    \"lr\": 0.00044504869715686015,<br>    \"latent_dim\": 256,<br>    \"hidden_dim\": 2048,<br>    \"dropout\": 0.05947120720739868,<br>    \"weight_decay\": 0.0005970133549973363<br>  }<br>}",
          "{<br>  \"number\": 90,<br>  \"values\": [<br>    18.477657897949218,<br>    53871158.0<br>  ],<br>  \"params\": {<br>    \"lr\": 5.2018370863115095e-05,<br>    \"latent_dim\": 2048,<br>    \"hidden_dim\": 4096,<br>    \"dropout\": 0.37759964938182883,<br>    \"weight_decay\": 0.006674039241723513<br>  }<br>}",
          "{<br>  \"number\": 91,<br>  \"values\": [<br>    49.2493798828125,<br>    1229366.0<br>  ],<br>  \"params\": {<br>    \"lr\": 0.00997994356687238,<br>    \"latent_dim\": 256,<br>    \"hidden_dim\": 512,<br>    \"dropout\": 0.36906074052850624,<br>    \"weight_decay\": 0.0015366121690271357<br>  }<br>}",
          "{<br>  \"number\": 92,<br>  \"values\": [<br>    33.43113427734375,<br>    8056886.0<br>  ],<br>  \"params\": {<br>    \"lr\": 0.0014459595982129476,<br>    \"latent_dim\": 256,<br>    \"hidden_dim\": 2048,<br>    \"dropout\": 0.32861936784305623,<br>    \"weight_decay\": 2.1481392150053203e-05<br>  }<br>}",
          "{<br>  \"number\": 93,<br>  \"values\": [<br>    10.976962097167968,<br>    39537206.0<br>  ],<br>  \"params\": {<br>    \"lr\": 0.0041134950771249,<br>    \"latent_dim\": 4096,<br>    \"hidden_dim\": 2048,<br>    \"dropout\": 0.4445983679734694,<br>    \"weight_decay\": 2.4786625804889595e-05<br>  }<br>}",
          "{<br>  \"number\": 94,<br>  \"values\": [<br>    10.549066436767578,<br>    6131254.0<br>  ],<br>  \"params\": {<br>    \"lr\": 0.0032460033071005276,<br>    \"latent_dim\": 1024,<br>    \"hidden_dim\": 1024,<br>    \"dropout\": 0.1096046099745216,<br>    \"weight_decay\": 0.002633734421784717<br>  }<br>}",
          "{<br>  \"number\": 95,<br>  \"values\": [<br>    83.54554443359375,<br>    2193334.0<br>  ],<br>  \"params\": {<br>    \"lr\": 2.0999935182880865e-05,<br>    \"latent_dim\": 64,<br>    \"hidden_dim\": 1024,<br>    \"dropout\": 0.1549391819242662,<br>    \"weight_decay\": 0.0001757488398219512<br>  }<br>}",
          "{<br>  \"number\": 96,<br>  \"values\": [<br>    18.172796508789062,<br>    10155574.0<br>  ],<br>  \"params\": {<br>    \"lr\": 0.0032460033071005276,<br>    \"latent_dim\": 512,<br>    \"hidden_dim\": 2048,<br>    \"dropout\": 0.24536246988683824,<br>    \"weight_decay\": 0.007445946810551773<br>  }<br>}",
          "{<br>  \"number\": 97,<br>  \"values\": [<br>    81.91354125976562,<br>    319478.0<br>  ],<br>  \"params\": {<br>    \"lr\": 0.00010785134724752663,<br>    \"latent_dim\": 32,<br>    \"hidden_dim\": 256,<br>    \"dropout\": 0.23292994848892645,<br>    \"weight_decay\": 0.00043040099309224743<br>  }<br>}",
          "{<br>  \"number\": 98,<br>  \"values\": [<br>    66.28863208007813,<br>    319478.0<br>  ],<br>  \"params\": {<br>    \"lr\": 0.0005386060664441708,<br>    \"latent_dim\": 32,<br>    \"hidden_dim\": 256,<br>    \"dropout\": 0.06474944400305116,<br>    \"weight_decay\": 0.0026276886987540733<br>  }<br>}",
          "{<br>  \"number\": 100,<br>  \"values\": [<br>    75.044029296875,<br>    2806838.0<br>  ],<br>  \"params\": {<br>    \"lr\": 1.452002580140755e-05,<br>    \"latent_dim\": 1024,<br>    \"hidden_dim\": 512,<br>    \"dropout\": 0.1096046099745216,<br>    \"weight_decay\": 0.0015172760186444626<br>  }<br>}",
          "{<br>  \"number\": 101,<br>  \"values\": [<br>    40.25176489257812,<br>    8056886.0<br>  ],<br>  \"params\": {<br>    \"lr\": 0.0016556254953436524,<br>    \"latent_dim\": 256,<br>    \"hidden_dim\": 2048,<br>    \"dropout\": 0.38073091521271313,<br>    \"weight_decay\": 0.0003283692218451411<br>  }<br>}",
          "{<br>  \"number\": 103,<br>  \"values\": [<br>    26.51881707763672,<br>    1755190.0<br>  ],<br>  \"params\": {<br>    \"lr\": 0.00480225481685459,<br>    \"latent_dim\": 512,<br>    \"hidden_dim\": 512,<br>    \"dropout\": 0.2369027764783707,<br>    \"weight_decay\": 0.0005970133549973363<br>  }<br>}",
          "{<br>  \"number\": 104,<br>  \"values\": [<br>    87.31011181640625,<br>    352438.0<br>  ],<br>  \"params\": {<br>    \"lr\": 0.0030989413994944376,<br>    \"latent_dim\": 64,<br>    \"hidden_dim\": 256,<br>    \"dropout\": 0.4703321522227195,<br>    \"weight_decay\": 4.114589066021446e-05<br>  }<br>}",
          "{<br>  \"number\": 105,<br>  \"values\": [<br>    9.366346313476562,<br>    39537206.0<br>  ],<br>  \"params\": {<br>    \"lr\": 0.0041134950771249,<br>    \"latent_dim\": 4096,<br>    \"hidden_dim\": 2048,<br>    \"dropout\": 0.08472091738406912,<br>    \"weight_decay\": 0.002637988639896617<br>  }<br>}",
          "{<br>  \"number\": 106,<br>  \"values\": [<br>    67.87395556640625,<br>    4505398.0<br>  ],<br>  \"params\": {<br>    \"lr\": 3.404041532865818e-05,<br>    \"latent_dim\": 4096,<br>    \"hidden_dim\": 256,<br>    \"dropout\": 0.24252940994063527,<br>    \"weight_decay\": 0.00046250584785774353<br>  }<br>}",
          "{<br>  \"number\": 107,<br>  \"values\": [<br>    7.9955715026855465,<br>    14352950.0<br>  ],<br>  \"params\": {<br>    \"lr\": 0.0014252468088628316,<br>    \"latent_dim\": 1024,<br>    \"hidden_dim\": 2048,<br>    \"dropout\": 0.24252940994063527,<br>    \"weight_decay\": 4.141087624383497e-05<br>  }<br>}",
          "{<br>  \"number\": 108,<br>  \"values\": [<br>    16.302955139160158,<br>    2806838.0<br>  ],<br>  \"params\": {<br>    \"lr\": 0.0007717544454516151,<br>    \"latent_dim\": 1024,<br>    \"hidden_dim\": 512,<br>    \"dropout\": 0.1712727960053662,<br>    \"weight_decay\": 1.1829693903474744e-05<br>  }<br>}",
          "{<br>  \"number\": 109,<br>  \"values\": [<br>    16.752141723632814,<br>    2980918.0<br>  ],<br>  \"params\": {<br>    \"lr\": 0.0007130032960533752,<br>    \"latent_dim\": 256,<br>    \"hidden_dim\": 1024,<br>    \"dropout\": 0.05947120720739868,<br>    \"weight_decay\": 0.0008737011721729141<br>  }<br>}",
          "{<br>  \"number\": 110,<br>  \"values\": [<br>    18.807907897949217,<br>    14352950.0<br>  ],<br>  \"params\": {<br>    \"lr\": 0.0003824211765240525,<br>    \"latent_dim\": 1024,<br>    \"hidden_dim\": 2048,<br>    \"dropout\": 0.4685153941569599,<br>    \"weight_decay\": 0.002633734421784717<br>  }<br>}",
          "{<br>  \"number\": 111,<br>  \"values\": [<br>    32.49474169921875,<br>    2455862.0<br>  ],<br>  \"params\": {<br>    \"lr\": 0.000579143129754614,<br>    \"latent_dim\": 128,<br>    \"hidden_dim\": 1024,<br>    \"dropout\": 0.015359191241134107,<br>    \"weight_decay\": 1.98797961942729e-05<br>  }<br>}",
          "{<br>  \"number\": 112,<br>  \"values\": [<br>    65.77433203125,<br>    813878.0<br>  ],<br>  \"params\": {<br>    \"lr\": 7.128977581111499e-05,<br>    \"latent_dim\": 512,<br>    \"hidden_dim\": 256,<br>    \"dropout\": 0.07912890031204944,<br>    \"weight_decay\": 1.4404897779392952e-05<br>  }<br>}",
          "{<br>  \"number\": 113,<br>  \"values\": [<br>    66.51398583984376,<br>    21353398.0<br>  ],<br>  \"params\": {<br>    \"lr\": 0.0002634687844321477,<br>    \"latent_dim\": 64,<br>    \"hidden_dim\": 4096,<br>    \"dropout\": 0.28795176405752276,<br>    \"weight_decay\": 0.008442202581361823<br>  }<br>}",
          "{<br>  \"number\": 114,<br>  \"values\": [<br>    12.199475250244141,<br>    14352950.0<br>  ],<br>  \"params\": {<br>    \"lr\": 0.0007284686798354398,<br>    \"latent_dim\": 1024,<br>    \"hidden_dim\": 2048,<br>    \"dropout\": 0.38073091521271313,<br>    \"weight_decay\": 4.141087624383497e-05<br>  }<br>}",
          "{<br>  \"number\": 115,<br>  \"values\": [<br>    78.2488544921875,<br>    1229366.0<br>  ],<br>  \"params\": {<br>    \"lr\": 3.404041532865818e-05,<br>    \"latent_dim\": 256,<br>    \"hidden_dim\": 512,<br>    \"dropout\": 0.37137308513401124,<br>    \"weight_decay\": 0.00043070486427324657<br>  }<br>}",
          "{<br>  \"number\": 116,<br>  \"values\": [<br>    68.87929272460937,<br>    2062070.0<br>  ],<br>  \"params\": {<br>    \"lr\": 0.000579143129754614,<br>    \"latent_dim\": 32,<br>    \"hidden_dim\": 1024,<br>    \"dropout\": 0.20242356756899582,<br>    \"weight_decay\": 1.98797961942729e-05<br>  }<br>}",
          "{<br>  \"number\": 117,<br>  \"values\": [<br>    6.898258575439453,<br>    39537206.0<br>  ],<br>  \"params\": {<br>    \"lr\": 0.00010785134724752663,<br>    \"latent_dim\": 4096,<br>    \"hidden_dim\": 2048,<br>    \"dropout\": 0.23292994848892645,<br>    \"weight_decay\": 0.00043040099309224743<br>  }<br>}",
          "{<br>  \"number\": 118,<br>  \"values\": [<br>    5.3819029388427735,<br>    53871158.0<br>  ],<br>  \"params\": {<br>    \"lr\": 0.00011105432690562609,<br>    \"latent_dim\": 2048,<br>    \"hidden_dim\": 4096,<br>    \"dropout\": 0.08472091738406912,<br>    \"weight_decay\": 0.002637988639896617<br>  }<br>}",
          "{<br>  \"number\": 120,<br>  \"values\": [<br>    44.33961401367188,<br>    7007542.0<br>  ],<br>  \"params\": {<br>    \"lr\": 0.000579143129754614,<br>    \"latent_dim\": 128,<br>    \"hidden_dim\": 2048,<br>    \"dropout\": 0.24155202943327037,<br>    \"weight_decay\": 0.0015172760186444626<br>  }<br>}",
          "{<br>  \"number\": 121,<br>  \"values\": [<br>    37.689398193359374,<br>    2455862.0<br>  ],<br>  \"params\": {<br>    \"lr\": 0.0007130032960533752,<br>    \"latent_dim\": 128,<br>    \"hidden_dim\": 1024,<br>    \"dropout\": 0.14962082678604982,<br>    \"weight_decay\": 4.114589066021446e-05<br>  }<br>}",
          "{<br>  \"number\": 122,<br>  \"values\": [<br>    48.12016943359375,<br>    2980918.0<br>  ],<br>  \"params\": {<br>    \"lr\": 0.00011105432690562609,<br>    \"latent_dim\": 256,<br>    \"hidden_dim\": 1024,<br>    \"dropout\": 0.08472091738406912,<br>    \"weight_decay\": 1.98797961942729e-05<br>  }<br>}",
          "{<br>  \"number\": 123,<br>  \"values\": [<br>    16.720128173828126,<br>    8056886.0<br>  ],<br>  \"params\": {<br>    \"lr\": 0.00044504869715686015,<br>    \"latent_dim\": 256,<br>    \"hidden_dim\": 2048,<br>    \"dropout\": 0.05947120720739868,<br>    \"weight_decay\": 0.00710649854443494<br>  }<br>}",
          "{<br>  \"number\": 124,<br>  \"values\": [<br>    43.627111206054686,<br>    2980918.0<br>  ],<br>  \"params\": {<br>    \"lr\": 0.0007717544454516151,<br>    \"latent_dim\": 256,<br>    \"hidden_dim\": 1024,<br>    \"dropout\": 0.3759645591046875,<br>    \"weight_decay\": 0.0010426142820943848<br>  }<br>}",
          "{<br>  \"number\": 125,<br>  \"values\": [<br>    9.721529418945313,<br>    18732598.0<br>  ],<br>  \"params\": {<br>    \"lr\": 0.0007717544454516151,<br>    \"latent_dim\": 4096,<br>    \"hidden_dim\": 1024,<br>    \"dropout\": 0.3759645591046875,<br>    \"weight_decay\": 0.0007109701842735433<br>  }<br>}",
          "{<br>  \"number\": 126,<br>  \"values\": [<br>    20.0746826171875,<br>    6131254.0<br>  ],<br>  \"params\": {<br>    \"lr\": 0.0006503387425582593,<br>    \"latent_dim\": 1024,<br>    \"hidden_dim\": 1024,<br>    \"dropout\": 0.38073091521271313,<br>    \"weight_decay\": 0.0026276886987540733<br>  }<br>}",
          "{<br>  \"number\": 127,<br>  \"values\": [<br>    57.562273681640626,<br>    6482870.0<br>  ],<br>  \"params\": {<br>    \"lr\": 0.0003824211765240525,<br>    \"latent_dim\": 64,<br>    \"hidden_dim\": 2048,<br>    \"dropout\": 0.13038291714484795,<br>    \"weight_decay\": 0.0036483632945337446<br>  }<br>}",
          "{<br>  \"number\": 128,<br>  \"values\": [<br>    95.28749951171875,<br>    2193334.0<br>  ],<br>  \"params\": {<br>    \"lr\": 0.0032460033071005276,<br>    \"latent_dim\": 64,<br>    \"hidden_dim\": 1024,<br>    \"dropout\": 0.4685153941569599,<br>    \"weight_decay\": 0.002633734421784717<br>  }<br>}",
          "{<br>  \"number\": 129,<br>  \"values\": [<br>    21.391282592773436,<br>    2980918.0<br>  ],<br>  \"params\": {<br>    \"lr\": 0.0003686508818065022,<br>    \"latent_dim\": 256,<br>    \"hidden_dim\": 1024,<br>    \"dropout\": 0.00937026146829295,<br>    \"weight_decay\": 3.7784678590189794e-05<br>  }<br>}",
          "{<br>  \"number\": 130,<br>  \"values\": [<br>    7.110903503417969,<br>    18732598.0<br>  ],<br>  \"params\": {<br>    \"lr\": 0.0021385832722501034,<br>    \"latent_dim\": 4096,<br>    \"hidden_dim\": 1024,<br>    \"dropout\": 0.04765636700655207,<br>    \"weight_decay\": 4.159421007371049e-05<br>  }<br>}",
          "{<br>  \"number\": 131,<br>  \"values\": [<br>    19.887266540527342,<br>    18732598.0<br>  ],<br>  \"params\": {<br>    \"lr\": 9.704875690175051e-05,<br>    \"latent_dim\": 4096,<br>    \"hidden_dim\": 1024,<br>    \"dropout\": 0.28795176405752276,<br>    \"weight_decay\": 3.383148245330149e-05<br>  }<br>}",
          "{<br>  \"number\": 132,<br>  \"values\": [<br>    6.1800157165527345,<br>    14352950.0<br>  ],<br>  \"params\": {<br>    \"lr\": 0.0003001770988458421,<br>    \"latent_dim\": 1024,<br>    \"hidden_dim\": 2048,<br>    \"dropout\": 0.06474944400305116,<br>    \"weight_decay\": 0.002633734421784717<br>  }<br>}",
          "{<br>  \"number\": 133,<br>  \"values\": [<br>    37.13212243652344,<br>    2395958.0<br>  ],<br>  \"params\": {<br>    \"lr\": 0.0005386060664441708,<br>    \"latent_dim\": 2048,<br>    \"hidden_dim\": 256,<br>    \"dropout\": 0.29054064416230313,<br>    \"weight_decay\": 0.0026276886987540733<br>  }<br>}",
          "{<br>  \"number\": 134,<br>  \"values\": [<br>    67.09595629882813,<br>    2455862.0<br>  ],<br>  \"params\": {<br>    \"lr\": 0.00016249668330785852,<br>    \"latent_dim\": 128,<br>    \"hidden_dim\": 1024,<br>    \"dropout\": 0.3759645591046875,<br>    \"weight_decay\": 0.004489414324547479<br>  }<br>}",
          "{<br>  \"number\": 135,<br>  \"values\": [<br>    26.66438537597656,<br>    1229366.0<br>  ],<br>  \"params\": {<br>    \"lr\": 0.0006503387425582593,<br>    \"latent_dim\": 256,<br>    \"hidden_dim\": 512,<br>    \"dropout\": 0.08472091738406912,<br>    \"weight_decay\": 0.002637988639896617<br>  }<br>}",
          "{<br>  \"number\": 136,<br>  \"values\": [<br>    59.244166015625,<br>    769270.0<br>  ],<br>  \"params\": {<br>    \"lr\": 0.00480225481685459,<br>    \"latent_dim\": 32,<br>    \"hidden_dim\": 512,<br>    \"dropout\": 0.08472091738406912,<br>    \"weight_decay\": 0.0003283692218451411<br>  }<br>}",
          "{<br>  \"number\": 138,<br>  \"values\": [<br>    11.625259246826172,<br>    18732598.0<br>  ],<br>  \"params\": {<br>    \"lr\": 0.00997994356687238,<br>    \"latent_dim\": 4096,<br>    \"hidden_dim\": 1024,<br>    \"dropout\": 0.1096046099745216,<br>    \"weight_decay\": 3.929455851105183e-05<br>  }<br>}",
          "{<br>  \"number\": 139,<br>  \"values\": [<br>    67.48597900390625,<br>    1341238.0<br>  ],<br>  \"params\": {<br>    \"lr\": 4.087619707783087e-05,<br>    \"latent_dim\": 1024,<br>    \"hidden_dim\": 256,<br>    \"dropout\": 0.00937026146829295,<br>    \"weight_decay\": 6.226346644100608e-05<br>  }<br>}",
          "{<br>  \"number\": 140,<br>  \"values\": [<br>    8.666222106933594,<br>    10155574.0<br>  ],<br>  \"params\": {<br>    \"lr\": 0.0006305359855059955,<br>    \"latent_dim\": 512,<br>    \"hidden_dim\": 2048,<br>    \"dropout\": 0.12847272087453165,<br>    \"weight_decay\": 0.0003283692218451411<br>  }<br>}",
          "{<br>  \"number\": 141,<br>  \"values\": [<br>    25.14990979003906,<br>    4505398.0<br>  ],<br>  \"params\": {<br>    \"lr\": 0.0003824211765240525,<br>    \"latent_dim\": 4096,<br>    \"hidden_dim\": 256,<br>    \"dropout\": 0.13178114095177973,<br>    \"weight_decay\": 0.0003283692218451411<br>  }<br>}",
          "{<br>  \"number\": 142,<br>  \"values\": [<br>    79.49504931640625,<br>    418358.0<br>  ],<br>  \"params\": {<br>    \"lr\": 4.087619707783087e-05,<br>    \"latent_dim\": 128,<br>    \"hidden_dim\": 256,<br>    \"dropout\": 0.05947120720739868,<br>    \"weight_decay\": 0.0004487511325685188<br>  }<br>}",
          "{<br>  \"number\": 143,<br>  \"values\": [<br>    44.03124560546875,<br>    813878.0<br>  ],<br>  \"params\": {<br>    \"lr\": 0.0003824211765240525,<br>    \"latent_dim\": 512,<br>    \"hidden_dim\": 256,<br>    \"dropout\": 0.18233688417825944,<br>    \"weight_decay\": 0.0003283692218451411<br>  }<br>}",
          "{<br>  \"number\": 144,<br>  \"values\": [<br>    54.35163696289062,<br>    6482870.0<br>  ],<br>  \"params\": {<br>    \"lr\": 0.006973867630130568,<br>    \"latent_dim\": 64,<br>    \"hidden_dim\": 2048,<br>    \"dropout\": 0.06568182528569805,<br>    \"weight_decay\": 0.002115660576592712<br>  }<br>}",
          "{<br>  \"number\": 145,<br>  \"values\": [<br>    52.6226689453125,<br>    2395958.0<br>  ],<br>  \"params\": {<br>    \"lr\": 0.0003824211765240525,<br>    \"latent_dim\": 2048,<br>    \"hidden_dim\": 256,<br>    \"dropout\": 0.4685153941569599,<br>    \"weight_decay\": 0.0003283692218451411<br>  }<br>}",
          "{<br>  \"number\": 146,<br>  \"values\": [<br>    89.7557197265625,<br>    813878.0<br>  ],<br>  \"params\": {<br>    \"lr\": 1.1711076891005075e-05,<br>    \"latent_dim\": 512,<br>    \"hidden_dim\": 256,<br>    \"dropout\": 0.2035139540555015,<br>    \"weight_decay\": 0.008442202581361823<br>  }<br>}",
          "{<br>  \"number\": 147,<br>  \"values\": [<br>    6.362725891113281,<br>    53871158.0<br>  ],<br>  \"params\": {<br>    \"lr\": 0.0003824211765240525,<br>    \"latent_dim\": 2048,<br>    \"hidden_dim\": 4096,<br>    \"dropout\": 0.4685153941569599,<br>    \"weight_decay\": 4.2843557738485126e-05<br>  }<br>}",
          "{<br>  \"number\": 148,<br>  \"values\": [<br>    75.9213271484375,<br>    1755190.0<br>  ],<br>  \"params\": {<br>    \"lr\": 3.404041532865818e-05,<br>    \"latent_dim\": 512,<br>    \"hidden_dim\": 512,<br>    \"dropout\": 0.41671964113350124,<br>    \"weight_decay\": 0.00043070486427324657<br>  }<br>}",
          "{<br>  \"number\": 149,<br>  \"values\": [<br>    28.84944287109375,<br>    2980918.0<br>  ],<br>  \"params\": {<br>    \"lr\": 0.0003824211765240525,<br>    \"latent_dim\": 256,<br>    \"hidden_dim\": 1024,<br>    \"dropout\": 0.1511037678875582,<br>    \"weight_decay\": 0.0010419703218403865<br>  }<br>}",
          "{<br>  \"number\": 150,<br>  \"values\": [<br>    58.99200219726563,<br>    769270.0<br>  ],<br>  \"params\": {<br>    \"lr\": 0.00480225481685459,<br>    \"latent_dim\": 32,<br>    \"hidden_dim\": 512,<br>    \"dropout\": 0.08472091738406912,<br>    \"weight_decay\": 0.0003283692218451411<br>  }<br>}",
          "{<br>  \"number\": 151,<br>  \"values\": [<br>    13.868053161621093,<br>    10331702.0<br>  ],<br>  \"params\": {<br>    \"lr\": 0.0005386060664441708,<br>    \"latent_dim\": 2048,<br>    \"hidden_dim\": 1024,<br>    \"dropout\": 0.3759645591046875,<br>    \"weight_decay\": 0.0026276886987540733<br>  }<br>}",
          "{<br>  \"number\": 152,<br>  \"values\": [<br>    10.499285552978515,<br>    22747702.0<br>  ],<br>  \"params\": {<br>    \"lr\": 0.0003824211765240525,<br>    \"latent_dim\": 2048,<br>    \"hidden_dim\": 2048,<br>    \"dropout\": 0.4685153941569599,<br>    \"weight_decay\": 0.0003283692218451411<br>  }<br>}",
          "{<br>  \"number\": 153,<br>  \"values\": [<br>    45.60917358398437,<br>    2395958.0<br>  ],<br>  \"params\": {<br>    \"lr\": 0.0007130032960533752,<br>    \"latent_dim\": 2048,<br>    \"hidden_dim\": 256,<br>    \"dropout\": 0.4226787127608297,<br>    \"weight_decay\": 3.383148245330149e-05<br>  }<br>}",
          "{<br>  \"number\": 154,<br>  \"values\": [<br>    8.374563659667968,<br>    18732598.0<br>  ],<br>  \"params\": {<br>    \"lr\": 0.0007717544454516151,<br>    \"latent_dim\": 4096,<br>    \"hidden_dim\": 1024,<br>    \"dropout\": 0.3389340705605122,<br>    \"weight_decay\": 1.1829693903474744e-05<br>  }<br>}",
          "{<br>  \"number\": 155,<br>  \"values\": [<br>    5.783182830810547,<br>    87437878.0<br>  ],<br>  \"params\": {<br>    \"lr\": 0.00010785134724752663,<br>    \"latent_dim\": 4096,<br>    \"hidden_dim\": 4096,<br>    \"dropout\": 0.44676560082525624,<br>    \"weight_decay\": 3.383148245330149e-05<br>  }<br>}",
          "{<br>  \"number\": 156,<br>  \"values\": [<br>    44.41268505859375,<br>    18732598.0<br>  ],<br>  \"params\": {<br>    \"lr\": 2.138680986026346e-05,<br>    \"latent_dim\": 4096,<br>    \"hidden_dim\": 1024,<br>    \"dropout\": 0.05947120720739868,<br>    \"weight_decay\": 0.0015161669276398105<br>  }<br>}",
          "{<br>  \"number\": 157,<br>  \"values\": [<br>    15.584971618652343,<br>    1755190.0<br>  ],<br>  \"params\": {<br>    \"lr\": 0.00480225481685459,<br>    \"latent_dim\": 512,<br>    \"hidden_dim\": 512,<br>    \"dropout\": 0.08472091738406912,<br>    \"weight_decay\": 0.008442202581361823<br>  }<br>}",
          "{<br>  \"number\": 158,<br>  \"values\": [<br>    35.9374306640625,<br>    87437878.0<br>  ],<br>  \"params\": {<br>    \"lr\": 1.099380403778416e-05,<br>    \"latent_dim\": 4096,<br>    \"hidden_dim\": 4096,<br>    \"dropout\": 0.23292994848892645,<br>    \"weight_decay\": 1.8299668034957276e-05<br>  }<br>}",
          "{<br>  \"number\": 159,<br>  \"values\": [<br>    13.157180786132812,<br>    9116726.0<br>  ],<br>  \"params\": {<br>    \"lr\": 0.0014252468088628316,<br>    \"latent_dim\": 4096,<br>    \"hidden_dim\": 512,<br>    \"dropout\": 0.2369027764783707,<br>    \"weight_decay\": 8.90156514651382e-05<br>  }<br>}",
          "{<br>  \"number\": 160,<br>  \"values\": [<br>    6.891475372314453,<br>    14352950.0<br>  ],<br>  \"params\": {<br>    \"lr\": 0.0003001770988458421,<br>    \"latent_dim\": 1024,<br>    \"hidden_dim\": 2048,<br>    \"dropout\": 0.13178114095177973,<br>    \"weight_decay\": 0.002633734421784717<br>  }<br>}",
          "{<br>  \"number\": 161,<br>  \"values\": [<br>    40.167801513671876,<br>    550198.0<br>  ],<br>  \"params\": {<br>    \"lr\": 0.00997994356687238,<br>    \"latent_dim\": 256,<br>    \"hidden_dim\": 256,<br>    \"dropout\": 0.18910371724667396,<br>    \"weight_decay\": 0.00037630635296852444<br>  }<br>}",
          "{<br>  \"number\": 162,<br>  \"values\": [<br>    11.595342468261718,<br>    10155574.0<br>  ],<br>  \"params\": {<br>    \"lr\": 0.0014252468088628316,<br>    \"latent_dim\": 512,<br>    \"hidden_dim\": 2048,<br>    \"dropout\": 0.18233688417825944,<br>    \"weight_decay\": 0.0003283692218451411<br>  }<br>}",
          "{<br>  \"number\": 163,<br>  \"values\": [<br>    79.38975830078125,<br>    418358.0<br>  ],<br>  \"params\": {<br>    \"lr\": 4.087619707783087e-05,<br>    \"latent_dim\": 128,<br>    \"hidden_dim\": 256,<br>    \"dropout\": 0.06009278365529991,<br>    \"weight_decay\": 0.0015366121690271357<br>  }<br>}",
          "{<br>  \"number\": 164,<br>  \"values\": [<br>    70.28841723632813,<br>    319478.0<br>  ],<br>  \"params\": {<br>    \"lr\": 0.0005386060664441708,<br>    \"latent_dim\": 32,<br>    \"hidden_dim\": 256,<br>    \"dropout\": 0.18233688417825944,<br>    \"weight_decay\": 0.0026276886987540733<br>  }<br>}",
          "{<br>  \"number\": 165,<br>  \"values\": [<br>    4.888861160278321,<br>    87437878.0<br>  ],<br>  \"params\": {<br>    \"lr\": 0.0014252468088628316,<br>    \"latent_dim\": 4096,<br>    \"hidden_dim\": 4096,<br>    \"dropout\": 0.24252940994063527,<br>    \"weight_decay\": 0.00046250584785774353<br>  }<br>}",
          "{<br>  \"number\": 166,<br>  \"values\": [<br>    8.918535217285156,<br>    10155574.0<br>  ],<br>  \"params\": {<br>    \"lr\": 0.001519052643451676,<br>    \"latent_dim\": 512,<br>    \"hidden_dim\": 2048,<br>    \"dropout\": 0.00937026146829295,<br>    \"weight_decay\": 0.0003283692218451411<br>  }<br>}",
          "{<br>  \"number\": 167,<br>  \"values\": [<br>    12.899189270019532,<br>    18732598.0<br>  ],<br>  \"params\": {<br>    \"lr\": 0.00480225481685459,<br>    \"latent_dim\": 4096,<br>    \"hidden_dim\": 1024,<br>    \"dropout\": 0.3759645591046875,<br>    \"weight_decay\": 0.0007109701842735433<br>  }<br>}",
          "{<br>  \"number\": 168,<br>  \"values\": [<br>    81.54136938476563,<br>    6482870.0<br>  ],<br>  \"params\": {<br>    \"lr\": 0.0006305359855059955,<br>    \"latent_dim\": 64,<br>    \"hidden_dim\": 2048,<br>    \"dropout\": 0.4703321522227195,<br>    \"weight_decay\": 4.114589066021446e-05<br>  }<br>}",
          "{<br>  \"number\": 170,<br>  \"values\": [<br>    66.33263330078125,<br>    319478.0<br>  ],<br>  \"params\": {<br>    \"lr\": 0.0005386060664441708,<br>    \"latent_dim\": 32,<br>    \"hidden_dim\": 256,<br>    \"dropout\": 0.06474944400305116,<br>    \"weight_decay\": 0.0026276886987540733<br>  }<br>}",
          "{<br>  \"number\": 171,<br>  \"values\": [<br>    34.76978466796875,<br>    813878.0<br>  ],<br>  \"params\": {<br>    \"lr\": 0.0003824211765240525,<br>    \"latent_dim\": 512,<br>    \"hidden_dim\": 256,<br>    \"dropout\": 0.06474944400305116,<br>    \"weight_decay\": 0.002633734421784717<br>  }<br>}",
          "{<br>  \"number\": 172,<br>  \"values\": [<br>    5.87472331237793,<br>    22747702.0<br>  ],<br>  \"params\": {<br>    \"lr\": 0.0014252468088628316,<br>    \"latent_dim\": 2048,<br>    \"hidden_dim\": 2048,<br>    \"dropout\": 0.24252940994063527,<br>    \"weight_decay\": 0.006645948103900642<br>  }<br>}",
          "{<br>  \"number\": 173,<br>  \"values\": [<br>    7.698598815917968,<br>    10331702.0<br>  ],<br>  \"params\": {<br>    \"lr\": 0.0021385832722501034,<br>    \"latent_dim\": 2048,<br>    \"hidden_dim\": 1024,<br>    \"dropout\": 0.04765636700655207,<br>    \"weight_decay\": 0.00046966816659184434<br>  }<br>}",
          "{<br>  \"number\": 174,<br>  \"values\": [<br>    10.323311157226563,<br>    22747702.0<br>  ],<br>  \"params\": {<br>    \"lr\": 0.0003824211765240525,<br>    \"latent_dim\": 2048,<br>    \"hidden_dim\": 2048,<br>    \"dropout\": 0.4685153941569599,<br>    \"weight_decay\": 0.0003283692218451411<br>  }<br>}",
          "{<br>  \"number\": 175,<br>  \"values\": [<br>    56.720513916015626,<br>    1755190.0<br>  ],<br>  \"params\": {<br>    \"lr\": 5.936828778773333e-05,<br>    \"latent_dim\": 512,<br>    \"hidden_dim\": 512,<br>    \"dropout\": 0.0013576464421722334,<br>    \"weight_decay\": 3.854930109567687e-05<br>  }<br>}",
          "{<br>  \"number\": 177,<br>  \"values\": [<br>    90.92468212890626,<br>    352438.0<br>  ],<br>  \"params\": {<br>    \"lr\": 0.0030989413994944376,<br>    \"latent_dim\": 64,<br>    \"hidden_dim\": 256,<br>    \"dropout\": 0.48833937612665207,<br>    \"weight_decay\": 4.114589066021446e-05<br>  }<br>}",
          "{<br>  \"number\": 178,<br>  \"values\": [<br>    21.422420959472657,<br>    39537206.0<br>  ],<br>  \"params\": {<br>    \"lr\": 3.3535797373558874e-05,<br>    \"latent_dim\": 4096,<br>    \"hidden_dim\": 2048,<br>    \"dropout\": 0.13178114095177973,<br>    \"weight_decay\": 0.002482703685686565<br>  }<br>}",
          "{<br>  \"number\": 179,<br>  \"values\": [<br>    91.20891455078124,<br>    769270.0<br>  ],<br>  \"params\": {<br>    \"lr\": 1.890942931675339e-05,<br>    \"latent_dim\": 32,<br>    \"hidden_dim\": 512,<br>    \"dropout\": 0.08472091738406912,<br>    \"weight_decay\": 0.002637988639896617<br>  }<br>}",
          "{<br>  \"number\": 180,<br>  \"values\": [<br>    20.79722314453125,<br>    2980918.0<br>  ],<br>  \"params\": {<br>    \"lr\": 0.00044504869715686015,<br>    \"latent_dim\": 256,<br>    \"hidden_dim\": 1024,<br>    \"dropout\": 0.05947120720739868,<br>    \"weight_decay\": 3.383148245330149e-05<br>  }<br>}",
          "{<br>  \"number\": 181,<br>  \"values\": [<br>    29.514495971679686,<br>    813878.0<br>  ],<br>  \"params\": {<br>    \"lr\": 0.0006503387425582593,<br>    \"latent_dim\": 512,<br>    \"hidden_dim\": 256,<br>    \"dropout\": 0.08472091738406912,<br>    \"weight_decay\": 2.9571063134441758e-05<br>  }<br>}",
          "{<br>  \"number\": 182,<br>  \"values\": [<br>    50.449399169921875,<br>    2806838.0<br>  ],<br>  \"params\": {<br>    \"lr\": 6.238351014649994e-05,<br>    \"latent_dim\": 1024,<br>    \"hidden_dim\": 512,<br>    \"dropout\": 0.07912890031204944,<br>    \"weight_decay\": 1.0778776476879712e-05<br>  }<br>}",
          "{<br>  \"number\": 183,<br>  \"values\": [<br>    51.25880859375,<br>    8056886.0<br>  ],<br>  \"params\": {<br>    \"lr\": 0.00997994356687238,<br>    \"latent_dim\": 256,<br>    \"hidden_dim\": 2048,<br>    \"dropout\": 0.4685153941569599,<br>    \"weight_decay\": 0.0003283692218451411<br>  }<br>}",
          "{<br>  \"number\": 184,<br>  \"values\": [<br>    5.919775604248047,<br>    87437878.0<br>  ],<br>  \"params\": {<br>    \"lr\": 0.00010785134724752663,<br>    \"latent_dim\": 4096,<br>    \"hidden_dim\": 4096,<br>    \"dropout\": 0.4685153941569599,<br>    \"weight_decay\": 0.00021077261660615494<br>  }<br>}",
          "{<br>  \"number\": 185,<br>  \"values\": [<br>    79.61700732421875,<br>    418358.0<br>  ],<br>  \"params\": {<br>    \"lr\": 4.087619707783087e-05,<br>    \"latent_dim\": 128,<br>    \"hidden_dim\": 256,<br>    \"dropout\": 0.05947120720739868,<br>    \"weight_decay\": 0.0004487511325685188<br>  }<br>}",
          "{<br>  \"number\": 186,<br>  \"values\": [<br>    52.0279521484375,<br>    2980918.0<br>  ],<br>  \"params\": {<br>    \"lr\": 0.0007130032960533752,<br>    \"latent_dim\": 256,<br>    \"hidden_dim\": 1024,<br>    \"dropout\": 0.4685153941569599,<br>    \"weight_decay\": 3.383148245330149e-05<br>  }<br>}",
          "{<br>  \"number\": 187,<br>  \"values\": [<br>    3.1428294525146483,<br>    87437878.0<br>  ],<br>  \"params\": {<br>    \"lr\": 0.00010785134724752663,<br>    \"latent_dim\": 4096,<br>    \"hidden_dim\": 4096,<br>    \"dropout\": 0.09693029342683362,<br>    \"weight_decay\": 0.00043040099309224743<br>  }<br>}",
          "{<br>  \"number\": 188,<br>  \"values\": [<br>    56.8354248046875,<br>    7007542.0<br>  ],<br>  \"params\": {<br>    \"lr\": 0.00010785134724752663,<br>    \"latent_dim\": 128,<br>    \"hidden_dim\": 2048,<br>    \"dropout\": 0.07912890031204944,<br>    \"weight_decay\": 2.0848176348140125e-05<br>  }<br>}",
          "{<br>  \"number\": 189,<br>  \"values\": [<br>    79.51264086914063,<br>    319478.0<br>  ],<br>  \"params\": {<br>    \"lr\": 0.00011105432690562609,<br>    \"latent_dim\": 32,<br>    \"hidden_dim\": 256,<br>    \"dropout\": 0.08472091738406912,<br>    \"weight_decay\": 0.002637988639896617<br>  }<br>}",
          "{<br>  \"number\": 190,<br>  \"values\": [<br>    61.149696044921875,<br>    4505398.0<br>  ],<br>  \"params\": {<br>    \"lr\": 4.087619707783087e-05,<br>    \"latent_dim\": 4096,<br>    \"hidden_dim\": 256,<br>    \"dropout\": 0.06009278365529991,<br>    \"weight_decay\": 0.00046250584785774353<br>  }<br>}",
          "{<br>  \"number\": 191,<br>  \"values\": [<br>    61.67291455078125,<br>    550198.0<br>  ],<br>  \"params\": {<br>    \"lr\": 0.0002634687844321477,<br>    \"latent_dim\": 256,<br>    \"hidden_dim\": 256,<br>    \"dropout\": 0.28795176405752276,<br>    \"weight_decay\": 0.002540478154450639<br>  }<br>}",
          "{<br>  \"number\": 192,<br>  \"values\": [<br>    23.060892944335937,<br>    1229366.0<br>  ],<br>  \"params\": {<br>    \"lr\": 0.0007130032960533752,<br>    \"latent_dim\": 256,<br>    \"hidden_dim\": 512,<br>    \"dropout\": 0.05947120720739868,<br>    \"weight_decay\": 0.002637988639896617<br>  }<br>}",
          "{<br>  \"number\": 193,<br>  \"values\": [<br>    32.208408325195315,<br>    7007542.0<br>  ],<br>  \"params\": {<br>    \"lr\": 0.0006305359855059955,<br>    \"latent_dim\": 128,<br>    \"hidden_dim\": 2048,<br>    \"dropout\": 0.06009278365529991,<br>    \"weight_decay\": 0.001325022753951122<br>  }<br>}",
          "{<br>  \"number\": 194,<br>  \"values\": [<br>    6.353965316772461,<br>    14352950.0<br>  ],<br>  \"params\": {<br>    \"lr\": 0.0014252468088628316,<br>    \"latent_dim\": 1024,<br>    \"hidden_dim\": 2048,<br>    \"dropout\": 0.13178114095177973,<br>    \"weight_decay\": 4.159421007371049e-05<br>  }<br>}",
          "{<br>  \"number\": 195,<br>  \"values\": [<br>    31.145655151367187,<br>    7007542.0<br>  ],<br>  \"params\": {<br>    \"lr\": 0.0017947328741694914,<br>    \"latent_dim\": 128,<br>    \"hidden_dim\": 2048,<br>    \"dropout\": 0.06474944400305116,<br>    \"weight_decay\": 0.00017372459810550554<br>  }<br>}",
          "{<br>  \"number\": 196,<br>  \"values\": [<br>    6.115926239013672,<br>    39537206.0<br>  ],<br>  \"params\": {<br>    \"lr\": 0.00010785134724752663,<br>    \"latent_dim\": 4096,<br>    \"hidden_dim\": 2048,<br>    \"dropout\": 0.13178114095177973,<br>    \"weight_decay\": 0.00043040099309224743<br>  }<br>}",
          "{<br>  \"number\": 197,<br>  \"values\": [<br>    23.973086059570313,<br>    1229366.0<br>  ],<br>  \"params\": {<br>    \"lr\": 0.0006503387425582593,<br>    \"latent_dim\": 256,<br>    \"hidden_dim\": 512,<br>    \"dropout\": 0.06474944400305116,<br>    \"weight_decay\": 0.0026276886987540733<br>  }<br>}",
          "{<br>  \"number\": 198,<br>  \"values\": [<br>    28.451989868164063,<br>    966454.0<br>  ],<br>  \"params\": {<br>    \"lr\": 0.0032460033071005276,<br>    \"latent_dim\": 128,<br>    \"hidden_dim\": 512,<br>    \"dropout\": 0.043713156041100265,<br>    \"weight_decay\": 0.00021077261660615494<br>  }<br>}",
          "{<br>  \"number\": 199,<br>  \"values\": [<br>    42.800092041015624,<br>    4031030.0<br>  ],<br>  \"params\": {<br>    \"lr\": 7.128977581111499e-05,<br>    \"latent_dim\": 512,<br>    \"hidden_dim\": 1024,<br>    \"dropout\": 0.023291025979570168,<br>    \"weight_decay\": 0.002633734421784717<br>  }<br>}",
          "{<br>  \"number\": 200,<br>  \"values\": [<br>    11.1624033203125,<br>    18732598.0<br>  ],<br>  \"params\": {<br>    \"lr\": 0.00010785134724752663,<br>    \"latent_dim\": 4096,<br>    \"hidden_dim\": 1024,<br>    \"dropout\": 0.05947120720739868,<br>    \"weight_decay\": 3.383148245330149e-05<br>  }<br>}",
          "{<br>  \"number\": 201,<br>  \"values\": [<br>    16.4287477722168,<br>    28696118.0<br>  ],<br>  \"params\": {<br>    \"lr\": 0.00480225481685459,<br>    \"latent_dim\": 512,<br>    \"hidden_dim\": 4096,<br>    \"dropout\": 0.00937026146829295,<br>    \"weight_decay\": 0.008442202581361823<br>  }<br>}",
          "{<br>  \"number\": 203,<br>  \"values\": [<br>    6.1353930053710934,<br>    18732598.0<br>  ],<br>  \"params\": {<br>    \"lr\": 0.0005386060664441708,<br>    \"latent_dim\": 4096,<br>    \"hidden_dim\": 1024,<br>    \"dropout\": 0.24252940994063527,<br>    \"weight_decay\": 0.00046250584785774353<br>  }<br>}",
          "{<br>  \"number\": 205,<br>  \"values\": [<br>    29.9099072265625,<br>    1229366.0<br>  ],<br>  \"params\": {<br>    \"lr\": 0.0006503387425582593,<br>    \"latent_dim\": 256,<br>    \"hidden_dim\": 512,<br>    \"dropout\": 0.12847272087453165,<br>    \"weight_decay\": 0.0003283692218451411<br>  }<br>}",
          "{<br>  \"number\": 206,<br>  \"values\": [<br>    46.98244873046875,<br>    2395958.0<br>  ],<br>  \"params\": {<br>    \"lr\": 0.00011105432690562609,<br>    \"latent_dim\": 2048,<br>    \"hidden_dim\": 256,<br>    \"dropout\": 0.07912890031204944,<br>    \"weight_decay\": 1.4404897779392952e-05<br>  }<br>}",
          "{<br>  \"number\": 207,<br>  \"values\": [<br>    16.210405334472657,<br>    1755190.0<br>  ],<br>  \"params\": {<br>    \"lr\": 0.00997994356687238,<br>    \"latent_dim\": 512,<br>    \"hidden_dim\": 512,<br>    \"dropout\": 0.08472091738406912,<br>    \"weight_decay\": 0.0003283692218451411<br>  }<br>}",
          "{<br>  \"number\": 208,<br>  \"values\": [<br>    19.44272705078125,<br>    2980918.0<br>  ],<br>  \"params\": {<br>    \"lr\": 0.0005386060664441708,<br>    \"latent_dim\": 256,<br>    \"hidden_dim\": 1024,<br>    \"dropout\": 0.06474944400305116,<br>    \"weight_decay\": 0.0026276886987540733<br>  }<br>}",
          "{<br>  \"number\": 209,<br>  \"values\": [<br>    5.375077499389649,<br>    18732598.0<br>  ],<br>  \"params\": {<br>    \"lr\": 0.0005386060664441708,<br>    \"latent_dim\": 4096,<br>    \"hidden_dim\": 1024,<br>    \"dropout\": 0.075942149577157,<br>    \"weight_decay\": 0.002633734421784717<br>  }<br>}",
          "{<br>  \"number\": 210,<br>  \"values\": [<br>    13.305633880615234,<br>    18732598.0<br>  ],<br>  \"params\": {<br>    \"lr\": 0.007260370139734357,<br>    \"latent_dim\": 4096,<br>    \"hidden_dim\": 1024,<br>    \"dropout\": 0.3405489348974276,<br>    \"weight_decay\": 0.00043040099309224743<br>  }<br>}",
          "{<br>  \"number\": 211,<br>  \"values\": [<br>    48.787825927734374,<br>    1229366.0<br>  ],<br>  \"params\": {<br>    \"lr\": 0.0003001770988458421,<br>    \"latent_dim\": 256,<br>    \"hidden_dim\": 512,<br>    \"dropout\": 0.24252940994063527,<br>    \"weight_decay\": 0.0019598712400151555<br>  }<br>}",
          "{<br>  \"number\": 212,<br>  \"values\": [<br>    47.97401953125,<br>    4505398.0<br>  ],<br>  \"params\": {<br>    \"lr\": 0.00011105432690562609,<br>    \"latent_dim\": 4096,<br>    \"hidden_dim\": 256,<br>    \"dropout\": 0.1955461836898319,<br>    \"weight_decay\": 0.00966003114669972<br>  }<br>}",
          "{<br>  \"number\": 213,<br>  \"values\": [<br>    15.956037780761719,<br>    4505398.0<br>  ],<br>  \"params\": {<br>    \"lr\": 0.00997994356687238,<br>    \"latent_dim\": 4096,<br>    \"hidden_dim\": 256,<br>    \"dropout\": 0.08230861743210716,<br>    \"weight_decay\": 0.00046250584785774353<br>  }<br>}",
          "{<br>  \"number\": 215,<br>  \"values\": [<br>    69.17201513671876,<br>    6220534.0<br>  ],<br>  \"params\": {<br>    \"lr\": 0.0005386060664441708,<br>    \"latent_dim\": 32,<br>    \"hidden_dim\": 2048,<br>    \"dropout\": 0.18233688417825944,<br>    \"weight_decay\": 0.0026276886987540733<br>  }<br>}",
          "{<br>  \"number\": 216,<br>  \"values\": [<br>    35.95097180175781,<br>    1341238.0<br>  ],<br>  \"params\": {<br>    \"lr\": 0.00997994356687238,<br>    \"latent_dim\": 1024,<br>    \"hidden_dim\": 256,<br>    \"dropout\": 0.28795176405752276,<br>    \"weight_decay\": 0.002540478154450639<br>  }<br>}",
          "{<br>  \"number\": 217,<br>  \"values\": [<br>    15.457615844726563,<br>    1755190.0<br>  ],<br>  \"params\": {<br>    \"lr\": 0.00480225481685459,<br>    \"latent_dim\": 512,<br>    \"hidden_dim\": 512,<br>    \"dropout\": 0.08472091738406912,<br>    \"weight_decay\": 0.008442202581361823<br>  }<br>}",
          "{<br>  \"number\": 218,<br>  \"values\": [<br>    5.297727035522461,<br>    87437878.0<br>  ],<br>  \"params\": {<br>    \"lr\": 0.0014252468088628316,<br>    \"latent_dim\": 4096,<br>    \"hidden_dim\": 4096,<br>    \"dropout\": 0.24252940994063527,<br>    \"weight_decay\": 0.00046250584785774353<br>  }<br>}",
          "{<br>  \"number\": 219,<br>  \"values\": [<br>    66.39900341796876,<br>    4505398.0<br>  ],<br>  \"params\": {<br>    \"lr\": 3.8081281033458e-05,<br>    \"latent_dim\": 4096,<br>    \"hidden_dim\": 256,<br>    \"dropout\": 0.24252940994063527,<br>    \"weight_decay\": 0.0003283692218451411<br>  }<br>}",
          "{<br>  \"number\": 220,<br>  \"values\": [<br>    16.940438354492187,<br>    2395958.0<br>  ],<br>  \"params\": {<br>    \"lr\": 0.0015300985286786637,<br>    \"latent_dim\": 2048,<br>    \"hidden_dim\": 256,<br>    \"dropout\": 0.08472091738406912,<br>    \"weight_decay\": 0.00019209117987345635<br>  }<br>}",
          "{<br>  \"number\": 221,<br>  \"values\": [<br>    7.5435648498535155,<br>    14352950.0<br>  ],<br>  \"params\": {<br>    \"lr\": 0.0014252468088628316,<br>    \"latent_dim\": 1024,<br>    \"hidden_dim\": 2048,<br>    \"dropout\": 0.13178114095177973,<br>    \"weight_decay\": 4.159421007371049e-05<br>  }<br>}",
          "{<br>  \"number\": 222,<br>  \"values\": [<br>    30.9757646484375,<br>    2395958.0<br>  ],<br>  \"params\": {<br>    \"lr\": 0.00997994356687238,<br>    \"latent_dim\": 2048,<br>    \"hidden_dim\": 256,<br>    \"dropout\": 0.28795176405752276,<br>    \"weight_decay\": 0.0002329494150601253<br>  }<br>}",
          "{<br>  \"number\": 224,<br>  \"values\": [<br>    79.390046875,<br>    769270.0<br>  ],<br>  \"params\": {<br>    \"lr\": 0.00480225481685459,<br>    \"latent_dim\": 32,<br>    \"hidden_dim\": 512,<br>    \"dropout\": 0.3224489162018722,<br>    \"weight_decay\": 0.0003283692218451411<br>  }<br>}",
          "{<br>  \"number\": 225,<br>  \"values\": [<br>    63.75527319335937,<br>    769270.0<br>  ],<br>  \"params\": {<br>    \"lr\": 0.0007130032960533752,<br>    \"latent_dim\": 32,<br>    \"hidden_dim\": 512,<br>    \"dropout\": 0.08472091738406912,<br>    \"weight_decay\": 0.002637988639896617<br>  }<br>}",
          "{<br>  \"number\": 226,<br>  \"values\": [<br>    39.760774291992185,<br>    550198.0<br>  ],<br>  \"params\": {<br>    \"lr\": 0.00997994356687238,<br>    \"latent_dim\": 256,<br>    \"hidden_dim\": 256,<br>    \"dropout\": 0.18910371724667396,<br>    \"weight_decay\": 0.0015366121690271357<br>  }<br>}",
          "{<br>  \"number\": 227,<br>  \"values\": [<br>    39.69296179199219,<br>    550198.0<br>  ],<br>  \"params\": {<br>    \"lr\": 0.00997994356687238,<br>    \"latent_dim\": 256,<br>    \"hidden_dim\": 256,<br>    \"dropout\": 0.18910371724667396,<br>    \"weight_decay\": 1.4404897779392952e-05<br>  }<br>}",
          "{<br>  \"number\": 228,<br>  \"values\": [<br>    7.238762939453125,<br>    22747702.0<br>  ],<br>  \"params\": {<br>    \"lr\": 0.0014252468088628316,<br>    \"latent_dim\": 2048,<br>    \"hidden_dim\": 2048,<br>    \"dropout\": 0.05947120720739868,<br>    \"weight_decay\": 0.006645948103900642<br>  }<br>}",
          "{<br>  \"number\": 229,<br>  \"values\": [<br>    46.58060009765625,<br>    4505398.0<br>  ],<br>  \"params\": {<br>    \"lr\": 9.704875690175051e-05,<br>    \"latent_dim\": 4096,<br>    \"hidden_dim\": 256,<br>    \"dropout\": 0.1096046099745216,<br>    \"weight_decay\": 0.0015172760186444626<br>  }<br>}",
          "{<br>  \"number\": 231,<br>  \"values\": [<br>    10.723732879638671,<br>    18732598.0<br>  ],<br>  \"params\": {<br>    \"lr\": 0.007528214912764185,<br>    \"latent_dim\": 4096,<br>    \"hidden_dim\": 1024,<br>    \"dropout\": 0.1096046099745216,<br>    \"weight_decay\": 0.0026276886987540733<br>  }<br>}",
          "{<br>  \"number\": 232,<br>  \"values\": [<br>    49.70258349609375,<br>    550198.0<br>  ],<br>  \"params\": {<br>    \"lr\": 0.00480225481685459,<br>    \"latent_dim\": 256,<br>    \"hidden_dim\": 256,<br>    \"dropout\": 0.28795176405752276,<br>    \"weight_decay\": 0.008328420702504986<br>  }<br>}",
          "{<br>  \"number\": 234,<br>  \"values\": [<br>    28.751429077148437,<br>    966454.0<br>  ],<br>  \"params\": {<br>    \"lr\": 0.0032460033071005276,<br>    \"latent_dim\": 128,<br>    \"hidden_dim\": 512,<br>    \"dropout\": 0.043713156041100265,<br>    \"weight_decay\": 0.008442202581361823<br>  }<br>}",
          "{<br>  \"number\": 235,<br>  \"values\": [<br>    28.50789001464844,<br>    4505398.0<br>  ],<br>  \"params\": {<br>    \"lr\": 0.0011008762161190224,<br>    \"latent_dim\": 4096,<br>    \"hidden_dim\": 256,<br>    \"dropout\": 0.26971423183248716,<br>    \"weight_decay\": 4.114589066021446e-05<br>  }<br>}",
          "{<br>  \"number\": 236,<br>  \"values\": [<br>    12.4584189453125,<br>    4031030.0<br>  ],<br>  \"params\": {<br>    \"lr\": 0.0005386060664441708,<br>    \"latent_dim\": 512,<br>    \"hidden_dim\": 1024,<br>    \"dropout\": 0.1096046099745216,<br>    \"weight_decay\": 3.449294873159359e-05<br>  }<br>}",
          "{<br>  \"number\": 237,<br>  \"values\": [<br>    13.938207397460937,<br>    2806838.0<br>  ],<br>  \"params\": {<br>    \"lr\": 0.0014252468088628316,<br>    \"latent_dim\": 1024,<br>    \"hidden_dim\": 512,<br>    \"dropout\": 0.13178114095177973,<br>    \"weight_decay\": 0.008442202581361823<br>  }<br>}",
          "{<br>  \"number\": 238,<br>  \"values\": [<br>    52.15590380859375,<br>    2980918.0<br>  ],<br>  \"params\": {<br>    \"lr\": 0.0014252468088628316,<br>    \"latent_dim\": 256,<br>    \"hidden_dim\": 1024,<br>    \"dropout\": 0.4871198720708883,<br>    \"weight_decay\": 0.00013331416547713863<br>  }<br>}",
          "{<br>  \"number\": 239,<br>  \"values\": [<br>    6.138009948730469,<br>    14352950.0<br>  ],<br>  \"params\": {<br>    \"lr\": 0.0014252468088628316,<br>    \"latent_dim\": 1024,<br>    \"hidden_dim\": 2048,<br>    \"dropout\": 0.13178114095177973,<br>    \"weight_decay\": 8.881782970120371e-05<br>  }<br>}",
          "{<br>  \"number\": 240,<br>  \"values\": [<br>    54.40097314453125,<br>    24500278.0<br>  ],<br>  \"params\": {<br>    \"lr\": 0.00997994356687238,<br>    \"latent_dim\": 256,<br>    \"hidden_dim\": 4096,<br>    \"dropout\": 0.1181956743666866,<br>    \"weight_decay\": 0.0015366121690271357<br>  }<br>}",
          "{<br>  \"number\": 241,<br>  \"values\": [<br>    7.023506683349609,<br>    87437878.0<br>  ],<br>  \"params\": {<br>    \"lr\": 0.0014252468088628316,<br>    \"latent_dim\": 4096,<br>    \"hidden_dim\": 4096,<br>    \"dropout\": 0.08472091738406912,<br>    \"weight_decay\": 0.008442202581361823<br>  }<br>}",
          "{<br>  \"number\": 242,<br>  \"values\": [<br>    29.25020910644531,<br>    813878.0<br>  ],<br>  \"params\": {<br>    \"lr\": 0.0005386060664441708,<br>    \"latent_dim\": 512,<br>    \"hidden_dim\": 256,<br>    \"dropout\": 0.05947120720739868,<br>    \"weight_decay\": 3.383148245330149e-05<br>  }<br>}",
          "{<br>  \"number\": 243,<br>  \"values\": [<br>    11.489020935058594,<br>    18732598.0<br>  ],<br>  \"params\": {<br>    \"lr\": 0.00997994356687238,<br>    \"latent_dim\": 4096,<br>    \"hidden_dim\": 1024,<br>    \"dropout\": 0.18910371724667396,<br>    \"weight_decay\": 0.00011347444411615583<br>  }<br>}",
          "{<br>  \"number\": 244,<br>  \"values\": [<br>    34.0215263671875,<br>    4505398.0<br>  ],<br>  \"params\": {<br>    \"lr\": 0.00018247603895800608,<br>    \"latent_dim\": 4096,<br>    \"hidden_dim\": 256,<br>    \"dropout\": 0.09693029342683362,<br>    \"weight_decay\": 0.00043040099309224743<br>  }<br>}",
          "{<br>  \"number\": 245,<br>  \"values\": [<br>    52.238123046875,<br>    21353398.0<br>  ],<br>  \"params\": {<br>    \"lr\": 0.0011008762161190224,<br>    \"latent_dim\": 64,<br>    \"hidden_dim\": 4096,<br>    \"dropout\": 0.09693029342683362,<br>    \"weight_decay\": 4.114589066021446e-05<br>  }<br>}",
          "{<br>  \"number\": 246,<br>  \"values\": [<br>    40.727260864257815,<br>    813878.0<br>  ],<br>  \"params\": {<br>    \"lr\": 0.0005386060664441708,<br>    \"latent_dim\": 512,<br>    \"hidden_dim\": 256,<br>    \"dropout\": 0.18233688417825944,<br>    \"weight_decay\": 0.008870806042554445<br>  }<br>}",
          "{<br>  \"number\": 247,<br>  \"values\": [<br>    19.327299621582032,<br>    4031030.0<br>  ],<br>  \"params\": {<br>    \"lr\": 0.002845869663226317,<br>    \"latent_dim\": 512,<br>    \"hidden_dim\": 1024,<br>    \"dropout\": 0.24252940994063527,<br>    \"weight_decay\": 0.00046250584785774353<br>  }<br>}",
          "{<br>  \"number\": 248,<br>  \"values\": [<br>    58.73343310546875,<br>    550198.0<br>  ],<br>  \"params\": {<br>    \"lr\": 0.00997994356687238,<br>    \"latent_dim\": 256,<br>    \"hidden_dim\": 256,<br>    \"dropout\": 0.41898540048216737,<br>    \"weight_decay\": 0.00037630635296852444<br>  }<br>}",
          "{<br>  \"number\": 249,<br>  \"values\": [<br>    21.878022521972657,<br>    10155574.0<br>  ],<br>  \"params\": {<br>    \"lr\": 0.0061782789903827495,<br>    \"latent_dim\": 512,<br>    \"hidden_dim\": 2048,<br>    \"dropout\": 0.24252940994063527,<br>    \"weight_decay\": 0.004430472533482179<br>  }<br>}"
         ],
         "type": "scatter",
         "x": [
          24.3918974609375,
          71.1558623046875,
          18.21088427734375,
          3.870225341796875,
          27.733541625976564,
          69.8643310546875,
          63.12978686523437,
          4.522628814697265,
          11.077814819335938,
          100.98467919921875,
          5.921243041992187,
          41.93558642578125,
          28.1509287109375,
          12.416393005371093,
          72.62789721679688,
          73.65799462890625,
          13.358580688476563,
          53.78364526367187,
          38.20540283203125,
          14.108665649414062,
          24.168392700195312,
          73.4008681640625,
          27.07305822753906,
          61.11719995117188,
          58.93609326171875,
          71.03535107421875,
          21.833085693359376,
          39.7351884765625,
          15.407927490234375,
          33.506222778320314,
          15.429127288818359,
          39.900393432617186,
          44.87510498046875,
          54.45549780273438,
          79.58945336914063,
          55.548109375,
          52.2667998046875,
          71.61621752929688,
          16.804427978515626,
          77.2425205078125,
          73.43883520507812,
          3.1559088134765627,
          7.956449432373047,
          65.48446142578125,
          89.40011669921876,
          50.33899096679688,
          70.7906552734375,
          14.003587127685547,
          32.46679284667969,
          70.86833984375,
          10.659562286376953,
          93.49336279296875,
          36.791175537109375,
          3.225720245361328,
          87.56761254882812,
          79.39849731445312,
          32.948640502929685,
          80.88316064453124,
          32.71655944824219,
          46.31617907714844,
          13.553231811523437,
          76.55157299804688,
          74.646857421875,
          66.50331201171875,
          34.08242663574219,
          83.8940400390625,
          82.90783911132813,
          70.86476611328125,
          60.65336059570313,
          32.967264038085936,
          86.06990161132812,
          12.770924621582031,
          57.6904462890625,
          82.97096484375,
          18.667601196289063,
          55.977438232421875,
          39.58521069335937,
          24.850081604003908,
          16.914957885742187,
          4.829578521728515,
          69.05376513671875,
          39.56751013183594,
          67.31856567382812,
          33.092306518554686,
          61.2461728515625,
          56.409008544921875,
          14.2412138671875,
          16.72262829589844,
          21.108282836914064,
          16.742340637207032,
          18.477657897949218,
          49.2493798828125,
          33.43113427734375,
          10.976962097167968,
          10.549066436767578,
          83.54554443359375,
          18.172796508789062,
          81.91354125976562,
          66.28863208007813,
          75.044029296875,
          40.25176489257812,
          26.51881707763672,
          87.31011181640625,
          9.366346313476562,
          67.87395556640625,
          7.9955715026855465,
          16.302955139160158,
          16.752141723632814,
          18.807907897949217,
          32.49474169921875,
          65.77433203125,
          66.51398583984376,
          12.199475250244141,
          78.2488544921875,
          68.87929272460937,
          6.898258575439453,
          5.3819029388427735,
          44.33961401367188,
          37.689398193359374,
          48.12016943359375,
          16.720128173828126,
          43.627111206054686,
          9.721529418945313,
          20.0746826171875,
          57.562273681640626,
          95.28749951171875,
          21.391282592773436,
          7.110903503417969,
          19.887266540527342,
          6.1800157165527345,
          37.13212243652344,
          67.09595629882813,
          26.66438537597656,
          59.244166015625,
          11.625259246826172,
          67.48597900390625,
          8.666222106933594,
          25.14990979003906,
          79.49504931640625,
          44.03124560546875,
          54.35163696289062,
          52.6226689453125,
          89.7557197265625,
          6.362725891113281,
          75.9213271484375,
          28.84944287109375,
          58.99200219726563,
          13.868053161621093,
          10.499285552978515,
          45.60917358398437,
          8.374563659667968,
          5.783182830810547,
          44.41268505859375,
          15.584971618652343,
          35.9374306640625,
          13.157180786132812,
          6.891475372314453,
          40.167801513671876,
          11.595342468261718,
          79.38975830078125,
          70.28841723632813,
          4.888861160278321,
          8.918535217285156,
          12.899189270019532,
          81.54136938476563,
          66.33263330078125,
          34.76978466796875,
          5.87472331237793,
          7.698598815917968,
          10.323311157226563,
          56.720513916015626,
          90.92468212890626,
          21.422420959472657,
          91.20891455078124,
          20.79722314453125,
          29.514495971679686,
          50.449399169921875,
          51.25880859375,
          5.919775604248047,
          79.61700732421875,
          52.0279521484375,
          3.1428294525146483,
          56.8354248046875,
          79.51264086914063,
          61.149696044921875,
          61.67291455078125,
          23.060892944335937,
          32.208408325195315,
          6.353965316772461,
          31.145655151367187,
          6.115926239013672,
          23.973086059570313,
          28.451989868164063,
          42.800092041015624,
          11.1624033203125,
          16.4287477722168,
          6.1353930053710934,
          29.9099072265625,
          46.98244873046875,
          16.210405334472657,
          19.44272705078125,
          5.375077499389649,
          13.305633880615234,
          48.787825927734374,
          47.97401953125,
          15.956037780761719,
          69.17201513671876,
          35.95097180175781,
          15.457615844726563,
          5.297727035522461,
          66.39900341796876,
          16.940438354492187,
          7.5435648498535155,
          30.9757646484375,
          79.390046875,
          63.75527319335937,
          39.760774291992185,
          39.69296179199219,
          7.238762939453125,
          46.58060009765625,
          10.723732879638671,
          49.70258349609375,
          28.751429077148437,
          28.50789001464844,
          12.4584189453125,
          13.938207397460937,
          52.15590380859375,
          6.138009948730469,
          54.40097314453125,
          7.023506683349609,
          29.25020910644531,
          11.489020935058594,
          34.0215263671875,
          52.238123046875,
          40.727260864257815,
          19.327299621582032,
          58.73343310546875,
          21.878022521972657
         ],
         "y": [
          18732598,
          2062070,
          10155574,
          39537206,
          87437878,
          2806838,
          10331702,
          87437878,
          14352950,
          319478,
          22747702,
          4505398,
          2980918,
          53871158,
          1341238,
          21353398,
          14352950,
          7007542,
          22402358,
          18732598,
          1229366,
          2193334,
          28696118,
          6131254,
          24500278,
          6220534,
          28696118,
          24500278,
          2980918,
          8056886,
          1755190,
          550198,
          10155574,
          21353398,
          418358,
          2980918,
          1229366,
          6131254,
          8056886,
          352438,
          21353398,
          39537206,
          39537206,
          6131254,
          2062070,
          2980918,
          20828918,
          22747702,
          2455862,
          966454,
          22747702,
          834998,
          28696118,
          87437878,
          1341238,
          1341238,
          2806838,
          813878,
          2455862,
          7007542,
          18732598,
          352438,
          21353398,
          2455862,
          24500278,
          22402358,
          4505398,
          20828918,
          2062070,
          2455862,
          1341238,
          10331702,
          418358,
          1341238,
          87437878,
          1755190,
          813878,
          1229366,
          18732598,
          39537206,
          6220534,
          10155574,
          21353398,
          7007542,
          6131254,
          1229366,
          18732598,
          2980918,
          6131254,
          8056886,
          53871158,
          1229366,
          8056886,
          39537206,
          6131254,
          2193334,
          10155574,
          319478,
          319478,
          2806838,
          8056886,
          1755190,
          352438,
          39537206,
          4505398,
          14352950,
          2806838,
          2980918,
          14352950,
          2455862,
          813878,
          21353398,
          14352950,
          1229366,
          2062070,
          39537206,
          53871158,
          7007542,
          2455862,
          2980918,
          8056886,
          2980918,
          18732598,
          6131254,
          6482870,
          2193334,
          2980918,
          18732598,
          18732598,
          14352950,
          2395958,
          2455862,
          1229366,
          769270,
          18732598,
          1341238,
          10155574,
          4505398,
          418358,
          813878,
          6482870,
          2395958,
          813878,
          53871158,
          1755190,
          2980918,
          769270,
          10331702,
          22747702,
          2395958,
          18732598,
          87437878,
          18732598,
          1755190,
          87437878,
          9116726,
          14352950,
          550198,
          10155574,
          418358,
          319478,
          87437878,
          10155574,
          18732598,
          6482870,
          319478,
          813878,
          22747702,
          10331702,
          22747702,
          1755190,
          352438,
          39537206,
          769270,
          2980918,
          813878,
          2806838,
          8056886,
          87437878,
          418358,
          2980918,
          87437878,
          7007542,
          319478,
          4505398,
          550198,
          1229366,
          7007542,
          14352950,
          7007542,
          39537206,
          1229366,
          966454,
          4031030,
          18732598,
          28696118,
          18732598,
          1229366,
          2395958,
          1755190,
          2980918,
          18732598,
          18732598,
          1229366,
          4505398,
          4505398,
          6220534,
          1341238,
          1755190,
          87437878,
          4505398,
          2395958,
          14352950,
          2395958,
          769270,
          769270,
          550198,
          550198,
          22747702,
          4505398,
          18732598,
          550198,
          966454,
          4505398,
          4031030,
          2806838,
          2980918,
          14352950,
          24500278,
          87437878,
          813878,
          18732598,
          4505398,
          21353398,
          813878,
          4031030,
          550198,
          10155574
         ]
        },
        {
         "hovertemplate": "%{text}<extra>Best Trial</extra>",
         "marker": {
          "color": [
           99,
           102,
           119,
           137,
           169,
           176,
           202,
           204,
           214,
           223,
           230,
           233
          ],
          "colorbar": {
           "title": {
            "text": "Best Trial"
           },
           "x": 1.1,
           "xpad": 40
          },
          "colorscale": [
           [
            0,
            "rgb(255,245,240)"
           ],
           [
            0.125,
            "rgb(254,224,210)"
           ],
           [
            0.25,
            "rgb(252,187,161)"
           ],
           [
            0.375,
            "rgb(252,146,114)"
           ],
           [
            0.5,
            "rgb(251,106,74)"
           ],
           [
            0.625,
            "rgb(239,59,44)"
           ],
           [
            0.75,
            "rgb(203,24,29)"
           ],
           [
            0.875,
            "rgb(165,15,21)"
           ],
           [
            1,
            "rgb(103,0,13)"
           ]
          ],
          "line": {
           "color": "Grey",
           "width": 0.5
          }
         },
         "mode": "markers",
         "showlegend": false,
         "text": [
          "{<br>  \"number\": 99,<br>  \"values\": [<br>    15.17159161376953,<br>    1229366.0<br>  ],<br>  \"params\": {<br>    \"lr\": 0.002845869663226317,<br>    \"latent_dim\": 256,<br>    \"hidden_dim\": 512,<br>    \"dropout\": 0.00937026146829295,<br>    \"weight_decay\": 3.7784678590189794e-05<br>  }<br>}",
          "{<br>  \"number\": 102,<br>  \"values\": [<br>    11.994559539794922,<br>    2806838.0<br>  ],<br>  \"params\": {<br>    \"lr\": 0.0032460033071005276,<br>    \"latent_dim\": 1024,<br>    \"hidden_dim\": 512,<br>    \"dropout\": 0.00937026146829295,<br>    \"weight_decay\": 1.1829693903474744e-05<br>  }<br>}",
          "{<br>  \"number\": 119,<br>  \"values\": [<br>    5.392251373291016,<br>    10331702.0<br>  ],<br>  \"params\": {<br>    \"lr\": 0.0007130032960533752,<br>    \"latent_dim\": 2048,<br>    \"hidden_dim\": 1024,<br>    \"dropout\": 0.05947120720739868,<br>    \"weight_decay\": 3.383148245330149e-05<br>  }<br>}",
          "{<br>  \"number\": 137,<br>  \"values\": [<br>    4.445593185424805,<br>    18732598.0<br>  ],<br>  \"params\": {<br>    \"lr\": 0.0005386060664441708,<br>    \"latent_dim\": 4096,<br>    \"hidden_dim\": 1024,<br>    \"dropout\": 0.1096046099745216,<br>    \"weight_decay\": 0.0026276886987540733<br>  }<br>}",
          "{<br>  \"number\": 169,<br>  \"values\": [<br>    14.109542541503906,<br>    1755190.0<br>  ],<br>  \"params\": {<br>    \"lr\": 0.00480225481685459,<br>    \"latent_dim\": 512,<br>    \"hidden_dim\": 512,<br>    \"dropout\": 0.00937026146829295,<br>    \"weight_decay\": 0.008442202581361823<br>  }<br>}",
          "{<br>  \"number\": 176,<br>  \"values\": [<br>    34.106224609375,<br>    418358.0<br>  ],<br>  \"params\": {<br>    \"lr\": 0.00997994356687238,<br>    \"latent_dim\": 128,<br>    \"hidden_dim\": 256,<br>    \"dropout\": 0.07912890031204944,<br>    \"weight_decay\": 1.4404897779392952e-05<br>  }<br>}",
          "{<br>  \"number\": 202,<br>  \"values\": [<br>    30.199758422851563,<br>    550198.0<br>  ],<br>  \"params\": {<br>    \"lr\": 0.002030820127212753,<br>    \"latent_dim\": 256,<br>    \"hidden_dim\": 256,<br>    \"dropout\": 0.09693029342683362,<br>    \"weight_decay\": 0.00010608039852090302<br>  }<br>}",
          "{<br>  \"number\": 204,<br>  \"values\": [<br>    10.78721713256836,<br>    4031030.0<br>  ],<br>  \"params\": {<br>    \"lr\": 0.0006853851557760242,<br>    \"latent_dim\": 512,<br>    \"hidden_dim\": 1024,<br>    \"dropout\": 0.08472091738406912,<br>    \"weight_decay\": 0.008442202581361823<br>  }<br>}",
          "{<br>  \"number\": 214,<br>  \"values\": [<br>    8.560082550048827,<br>    4910134.0<br>  ],<br>  \"params\": {<br>    \"lr\": 0.0007130032960533752,<br>    \"latent_dim\": 2048,<br>    \"hidden_dim\": 512,<br>    \"dropout\": 0.05947120720739868,<br>    \"weight_decay\": 3.383148245330149e-05<br>  }<br>}",
          "{<br>  \"number\": 223,<br>  \"values\": [<br>    59.27087182617188,<br>    319478.0<br>  ],<br>  \"params\": {<br>    \"lr\": 0.00480225481685459,<br>    \"latent_dim\": 32,<br>    \"hidden_dim\": 256,<br>    \"dropout\": 0.08472091738406912,<br>    \"weight_decay\": 0.008442202581361823<br>  }<br>}",
          "{<br>  \"number\": 230,<br>  \"values\": [<br>    22.034921325683595,<br>    813878.0<br>  ],<br>  \"params\": {<br>    \"lr\": 0.00480225481685459,<br>    \"latent_dim\": 512,<br>    \"hidden_dim\": 256,<br>    \"dropout\": 0.08472091738406912,<br>    \"weight_decay\": 0.008442202581361823<br>  }<br>}",
          "{<br>  \"number\": 233,<br>  \"values\": [<br>    2.8203153457641603,<br>    39537206.0<br>  ],<br>  \"params\": {<br>    \"lr\": 0.0003824211765240525,<br>    \"latent_dim\": 4096,<br>    \"hidden_dim\": 2048,<br>    \"dropout\": 0.02899844490761616,<br>    \"weight_decay\": 0.0003283692218451411<br>  }<br>}"
         ],
         "type": "scatter",
         "x": [
          15.17159161376953,
          11.994559539794922,
          5.392251373291016,
          4.445593185424805,
          14.109542541503906,
          34.106224609375,
          30.199758422851563,
          10.78721713256836,
          8.560082550048827,
          59.27087182617188,
          22.034921325683595,
          2.8203153457641603
         ],
         "y": [
          1229366,
          2806838,
          10331702,
          18732598,
          1755190,
          418358,
          550198,
          4031030,
          4910134,
          319478,
          813878,
          39537206
         ]
        }
       ],
       "layout": {
        "template": {
         "data": {
          "bar": [
           {
            "error_x": {
             "color": "#2a3f5f"
            },
            "error_y": {
             "color": "#2a3f5f"
            },
            "marker": {
             "line": {
              "color": "#E5ECF6",
              "width": 0.5
             },
             "pattern": {
              "fillmode": "overlay",
              "size": 10,
              "solidity": 0.2
             }
            },
            "type": "bar"
           }
          ],
          "barpolar": [
           {
            "marker": {
             "line": {
              "color": "#E5ECF6",
              "width": 0.5
             },
             "pattern": {
              "fillmode": "overlay",
              "size": 10,
              "solidity": 0.2
             }
            },
            "type": "barpolar"
           }
          ],
          "carpet": [
           {
            "aaxis": {
             "endlinecolor": "#2a3f5f",
             "gridcolor": "white",
             "linecolor": "white",
             "minorgridcolor": "white",
             "startlinecolor": "#2a3f5f"
            },
            "baxis": {
             "endlinecolor": "#2a3f5f",
             "gridcolor": "white",
             "linecolor": "white",
             "minorgridcolor": "white",
             "startlinecolor": "#2a3f5f"
            },
            "type": "carpet"
           }
          ],
          "choropleth": [
           {
            "colorbar": {
             "outlinewidth": 0,
             "ticks": ""
            },
            "type": "choropleth"
           }
          ],
          "contour": [
           {
            "colorbar": {
             "outlinewidth": 0,
             "ticks": ""
            },
            "colorscale": [
             [
              0,
              "#0d0887"
             ],
             [
              0.1111111111111111,
              "#46039f"
             ],
             [
              0.2222222222222222,
              "#7201a8"
             ],
             [
              0.3333333333333333,
              "#9c179e"
             ],
             [
              0.4444444444444444,
              "#bd3786"
             ],
             [
              0.5555555555555556,
              "#d8576b"
             ],
             [
              0.6666666666666666,
              "#ed7953"
             ],
             [
              0.7777777777777778,
              "#fb9f3a"
             ],
             [
              0.8888888888888888,
              "#fdca26"
             ],
             [
              1,
              "#f0f921"
             ]
            ],
            "type": "contour"
           }
          ],
          "contourcarpet": [
           {
            "colorbar": {
             "outlinewidth": 0,
             "ticks": ""
            },
            "type": "contourcarpet"
           }
          ],
          "heatmap": [
           {
            "colorbar": {
             "outlinewidth": 0,
             "ticks": ""
            },
            "colorscale": [
             [
              0,
              "#0d0887"
             ],
             [
              0.1111111111111111,
              "#46039f"
             ],
             [
              0.2222222222222222,
              "#7201a8"
             ],
             [
              0.3333333333333333,
              "#9c179e"
             ],
             [
              0.4444444444444444,
              "#bd3786"
             ],
             [
              0.5555555555555556,
              "#d8576b"
             ],
             [
              0.6666666666666666,
              "#ed7953"
             ],
             [
              0.7777777777777778,
              "#fb9f3a"
             ],
             [
              0.8888888888888888,
              "#fdca26"
             ],
             [
              1,
              "#f0f921"
             ]
            ],
            "type": "heatmap"
           }
          ],
          "histogram": [
           {
            "marker": {
             "pattern": {
              "fillmode": "overlay",
              "size": 10,
              "solidity": 0.2
             }
            },
            "type": "histogram"
           }
          ],
          "histogram2d": [
           {
            "colorbar": {
             "outlinewidth": 0,
             "ticks": ""
            },
            "colorscale": [
             [
              0,
              "#0d0887"
             ],
             [
              0.1111111111111111,
              "#46039f"
             ],
             [
              0.2222222222222222,
              "#7201a8"
             ],
             [
              0.3333333333333333,
              "#9c179e"
             ],
             [
              0.4444444444444444,
              "#bd3786"
             ],
             [
              0.5555555555555556,
              "#d8576b"
             ],
             [
              0.6666666666666666,
              "#ed7953"
             ],
             [
              0.7777777777777778,
              "#fb9f3a"
             ],
             [
              0.8888888888888888,
              "#fdca26"
             ],
             [
              1,
              "#f0f921"
             ]
            ],
            "type": "histogram2d"
           }
          ],
          "histogram2dcontour": [
           {
            "colorbar": {
             "outlinewidth": 0,
             "ticks": ""
            },
            "colorscale": [
             [
              0,
              "#0d0887"
             ],
             [
              0.1111111111111111,
              "#46039f"
             ],
             [
              0.2222222222222222,
              "#7201a8"
             ],
             [
              0.3333333333333333,
              "#9c179e"
             ],
             [
              0.4444444444444444,
              "#bd3786"
             ],
             [
              0.5555555555555556,
              "#d8576b"
             ],
             [
              0.6666666666666666,
              "#ed7953"
             ],
             [
              0.7777777777777778,
              "#fb9f3a"
             ],
             [
              0.8888888888888888,
              "#fdca26"
             ],
             [
              1,
              "#f0f921"
             ]
            ],
            "type": "histogram2dcontour"
           }
          ],
          "mesh3d": [
           {
            "colorbar": {
             "outlinewidth": 0,
             "ticks": ""
            },
            "type": "mesh3d"
           }
          ],
          "parcoords": [
           {
            "line": {
             "colorbar": {
              "outlinewidth": 0,
              "ticks": ""
             }
            },
            "type": "parcoords"
           }
          ],
          "pie": [
           {
            "automargin": true,
            "type": "pie"
           }
          ],
          "scatter": [
           {
            "fillpattern": {
             "fillmode": "overlay",
             "size": 10,
             "solidity": 0.2
            },
            "type": "scatter"
           }
          ],
          "scatter3d": [
           {
            "line": {
             "colorbar": {
              "outlinewidth": 0,
              "ticks": ""
             }
            },
            "marker": {
             "colorbar": {
              "outlinewidth": 0,
              "ticks": ""
             }
            },
            "type": "scatter3d"
           }
          ],
          "scattercarpet": [
           {
            "marker": {
             "colorbar": {
              "outlinewidth": 0,
              "ticks": ""
             }
            },
            "type": "scattercarpet"
           }
          ],
          "scattergeo": [
           {
            "marker": {
             "colorbar": {
              "outlinewidth": 0,
              "ticks": ""
             }
            },
            "type": "scattergeo"
           }
          ],
          "scattergl": [
           {
            "marker": {
             "colorbar": {
              "outlinewidth": 0,
              "ticks": ""
             }
            },
            "type": "scattergl"
           }
          ],
          "scattermap": [
           {
            "marker": {
             "colorbar": {
              "outlinewidth": 0,
              "ticks": ""
             }
            },
            "type": "scattermap"
           }
          ],
          "scattermapbox": [
           {
            "marker": {
             "colorbar": {
              "outlinewidth": 0,
              "ticks": ""
             }
            },
            "type": "scattermapbox"
           }
          ],
          "scatterpolar": [
           {
            "marker": {
             "colorbar": {
              "outlinewidth": 0,
              "ticks": ""
             }
            },
            "type": "scatterpolar"
           }
          ],
          "scatterpolargl": [
           {
            "marker": {
             "colorbar": {
              "outlinewidth": 0,
              "ticks": ""
             }
            },
            "type": "scatterpolargl"
           }
          ],
          "scatterternary": [
           {
            "marker": {
             "colorbar": {
              "outlinewidth": 0,
              "ticks": ""
             }
            },
            "type": "scatterternary"
           }
          ],
          "surface": [
           {
            "colorbar": {
             "outlinewidth": 0,
             "ticks": ""
            },
            "colorscale": [
             [
              0,
              "#0d0887"
             ],
             [
              0.1111111111111111,
              "#46039f"
             ],
             [
              0.2222222222222222,
              "#7201a8"
             ],
             [
              0.3333333333333333,
              "#9c179e"
             ],
             [
              0.4444444444444444,
              "#bd3786"
             ],
             [
              0.5555555555555556,
              "#d8576b"
             ],
             [
              0.6666666666666666,
              "#ed7953"
             ],
             [
              0.7777777777777778,
              "#fb9f3a"
             ],
             [
              0.8888888888888888,
              "#fdca26"
             ],
             [
              1,
              "#f0f921"
             ]
            ],
            "type": "surface"
           }
          ],
          "table": [
           {
            "cells": {
             "fill": {
              "color": "#EBF0F8"
             },
             "line": {
              "color": "white"
             }
            },
            "header": {
             "fill": {
              "color": "#C8D4E3"
             },
             "line": {
              "color": "white"
             }
            },
            "type": "table"
           }
          ]
         },
         "layout": {
          "annotationdefaults": {
           "arrowcolor": "#2a3f5f",
           "arrowhead": 0,
           "arrowwidth": 1
          },
          "autotypenumbers": "strict",
          "coloraxis": {
           "colorbar": {
            "outlinewidth": 0,
            "ticks": ""
           }
          },
          "colorscale": {
           "diverging": [
            [
             0,
             "#8e0152"
            ],
            [
             0.1,
             "#c51b7d"
            ],
            [
             0.2,
             "#de77ae"
            ],
            [
             0.3,
             "#f1b6da"
            ],
            [
             0.4,
             "#fde0ef"
            ],
            [
             0.5,
             "#f7f7f7"
            ],
            [
             0.6,
             "#e6f5d0"
            ],
            [
             0.7,
             "#b8e186"
            ],
            [
             0.8,
             "#7fbc41"
            ],
            [
             0.9,
             "#4d9221"
            ],
            [
             1,
             "#276419"
            ]
           ],
           "sequential": [
            [
             0,
             "#0d0887"
            ],
            [
             0.1111111111111111,
             "#46039f"
            ],
            [
             0.2222222222222222,
             "#7201a8"
            ],
            [
             0.3333333333333333,
             "#9c179e"
            ],
            [
             0.4444444444444444,
             "#bd3786"
            ],
            [
             0.5555555555555556,
             "#d8576b"
            ],
            [
             0.6666666666666666,
             "#ed7953"
            ],
            [
             0.7777777777777778,
             "#fb9f3a"
            ],
            [
             0.8888888888888888,
             "#fdca26"
            ],
            [
             1,
             "#f0f921"
            ]
           ],
           "sequentialminus": [
            [
             0,
             "#0d0887"
            ],
            [
             0.1111111111111111,
             "#46039f"
            ],
            [
             0.2222222222222222,
             "#7201a8"
            ],
            [
             0.3333333333333333,
             "#9c179e"
            ],
            [
             0.4444444444444444,
             "#bd3786"
            ],
            [
             0.5555555555555556,
             "#d8576b"
            ],
            [
             0.6666666666666666,
             "#ed7953"
            ],
            [
             0.7777777777777778,
             "#fb9f3a"
            ],
            [
             0.8888888888888888,
             "#fdca26"
            ],
            [
             1,
             "#f0f921"
            ]
           ]
          },
          "colorway": [
           "#636efa",
           "#EF553B",
           "#00cc96",
           "#ab63fa",
           "#FFA15A",
           "#19d3f3",
           "#FF6692",
           "#B6E880",
           "#FF97FF",
           "#FECB52"
          ],
          "font": {
           "color": "#2a3f5f"
          },
          "geo": {
           "bgcolor": "white",
           "lakecolor": "white",
           "landcolor": "#E5ECF6",
           "showlakes": true,
           "showland": true,
           "subunitcolor": "white"
          },
          "hoverlabel": {
           "align": "left"
          },
          "hovermode": "closest",
          "mapbox": {
           "style": "light"
          },
          "paper_bgcolor": "white",
          "plot_bgcolor": "#E5ECF6",
          "polar": {
           "angularaxis": {
            "gridcolor": "white",
            "linecolor": "white",
            "ticks": ""
           },
           "bgcolor": "#E5ECF6",
           "radialaxis": {
            "gridcolor": "white",
            "linecolor": "white",
            "ticks": ""
           }
          },
          "scene": {
           "xaxis": {
            "backgroundcolor": "#E5ECF6",
            "gridcolor": "white",
            "gridwidth": 2,
            "linecolor": "white",
            "showbackground": true,
            "ticks": "",
            "zerolinecolor": "white"
           },
           "yaxis": {
            "backgroundcolor": "#E5ECF6",
            "gridcolor": "white",
            "gridwidth": 2,
            "linecolor": "white",
            "showbackground": true,
            "ticks": "",
            "zerolinecolor": "white"
           },
           "zaxis": {
            "backgroundcolor": "#E5ECF6",
            "gridcolor": "white",
            "gridwidth": 2,
            "linecolor": "white",
            "showbackground": true,
            "ticks": "",
            "zerolinecolor": "white"
           }
          },
          "shapedefaults": {
           "line": {
            "color": "#2a3f5f"
           }
          },
          "ternary": {
           "aaxis": {
            "gridcolor": "white",
            "linecolor": "white",
            "ticks": ""
           },
           "baxis": {
            "gridcolor": "white",
            "linecolor": "white",
            "ticks": ""
           },
           "bgcolor": "#E5ECF6",
           "caxis": {
            "gridcolor": "white",
            "linecolor": "white",
            "ticks": ""
           }
          },
          "title": {
           "x": 0.05
          },
          "xaxis": {
           "automargin": true,
           "gridcolor": "white",
           "linecolor": "white",
           "ticks": "",
           "title": {
            "standoff": 15
           },
           "zerolinecolor": "white",
           "zerolinewidth": 2
          },
          "yaxis": {
           "automargin": true,
           "gridcolor": "white",
           "linecolor": "white",
           "ticks": "",
           "title": {
            "standoff": 15
           },
           "zerolinecolor": "white",
           "zerolinewidth": 2
          }
         }
        },
        "title": {
         "text": "Pareto-front Plot"
        },
        "xaxis": {
         "title": {
          "text": "test_loss"
         }
        },
        "yaxis": {
         "title": {
          "text": "model_size"
         }
        }
       }
      }
     },
     "metadata": {},
     "output_type": "display_data"
    }
   ],
   "source": [
    "### load the study and plot pareto\n",
    "with open(\"optuna_study_250.pkl\", \"rb\") as f:\n",
    "    study = pickle.load(f)\n",
    "    \n",
    "fig = optuna.visualization.plot_pareto_front(\n",
    "    study,\n",
    "    targets=lambda t: (t.values[0], t.values[1]),\n",
    "    target_names=[\"test_loss\", \"model_size\"]\n",
    ")\n",
    "\n",
    "fig.show()"
   ]
  },
  {
   "cell_type": "code",
   "execution_count": 8,
   "id": "c4cfce93",
   "metadata": {},
   "outputs": [
    {
     "data": {
      "image/png": "[encoded data removed]",
      "text/plain": [
       "<Figure size 500x300 with 1 Axes>"
      ]
     },
     "metadata": {},
     "output_type": "display_data"
    }
   ],
   "source": [
    "%matplotlib inline\n",
    "import matplotlib.pyplot as plt\n",
    "\n",
    "plt.figure(figsize=(5, 3))\n",
    "trials = [(t.values[0], t.values[1]) for t in study.trials if t.values is not None]\n",
    "x, y = zip(*trials)\n",
    "plt.scatter(x, y)\n",
    "plt.xlabel(\"test_loss\")\n",
    "plt.ylabel(\"model_size\")\n",
    "plt.title(\"Pareto Front (Test Loss vs Model Size)\")\n",
    "\n",
    "plt.show()"
   ]
  },
  {
   "cell_type": "code",
   "execution_count": 9,
   "id": "05ccfd70",
   "metadata": {},
   "outputs": [
    {
     "data": {
      "image/png": "[encoded data removed]",
      "text/plain": [
       "<Figure size 500x500 with 1 Axes>"
      ]
     },
     "metadata": {},
     "output_type": "display_data"
    }
   ],
   "source": [
    "import matplotlib.pyplot as plt\n",
    "\n",
    "# Extract all trials with valid values\n",
    "all_trials = [(t.values[0], t.values[1]) for t in study.trials if t.values is not None]\n",
    "\n",
    "# Extract Pareto front trials\n",
    "pareto_trials = study.best_trials\n",
    "pareto_points = [(t.values[0], t.values[1]) for t in pareto_trials]\n",
    "\n",
    "# Sort Pareto points by test_loss for plotting\n",
    "pareto_points = sorted(pareto_points, key=lambda p: p[0])\n",
    "\n",
    "# Plot\n",
    "plt.figure(figsize=(5, 5))\n",
    "x_all, y_all = zip(*all_trials)\n",
    "plt.scatter(x_all, y_all, label='All Trials', alpha=0.5)\n",
    "\n",
    "x_pareto, y_pareto = zip(*pareto_points)\n",
    "plt.plot(x_pareto, y_pareto, color='red', linewidth=2, marker='o', label='Pareto Front')\n",
    "\n",
    "plt.xlabel(\"Test loss\")\n",
    "plt.ylabel(\"Model size\")\n",
    "plt.title(\"Pareto Front (Test Loss vs Model Size)\")\n",
    "plt.legend()\n",
    "plt.tight_layout()\n",
    "plt.savefig(f\"../figures/pareto_model_param_optimization_upd.pdf\", bbox_inches=\"tight\")\n",
    "   \n",
    "plt.show()"
   ]
  },
  {
   "cell_type": "code",
   "execution_count": 11,
   "id": "8a674049",
   "metadata": {},
   "outputs": [
    {
     "data": {
      "text/plain": [
       "[FrozenTrial(number=99, state=TrialState.COMPLETE, values=[15.17159161376953, 1229366.0], datetime_start=datetime.datetime(2025, 8, 5, 7, 49, 2, 915605), datetime_complete=datetime.datetime(2025, 8, 5, 7, 51, 28, 869347), params={'lr': 0.002845869663226317, 'latent_dim': 256, 'hidden_dim': 512, 'dropout': 0.00937026146829295, 'weight_decay': 3.7784678590189794e-05}, user_attrs={}, system_attrs={'NSGAIISampler:generation': 1}, intermediate_values={}, distributions={'lr': FloatDistribution(high=0.01, log=True, low=1e-05, step=None), 'latent_dim': CategoricalDistribution(choices=(32, 64, 128, 256, 512, 1024, 2048, 4096)), 'hidden_dim': CategoricalDistribution(choices=(256, 512, 1024, 2048, 4096)), 'dropout': FloatDistribution(high=0.5, log=False, low=0.0, step=None), 'weight_decay': FloatDistribution(high=0.01, log=True, low=1e-05, step=None)}, trial_id=99, value=None),\n",
       " FrozenTrial(number=102, state=TrialState.COMPLETE, values=[11.994559539794922, 2806838.0], datetime_start=datetime.datetime(2025, 8, 5, 7, 56, 24, 620938), datetime_complete=datetime.datetime(2025, 8, 5, 7, 58, 51, 970660), params={'lr': 0.0032460033071005276, 'latent_dim': 1024, 'hidden_dim': 512, 'dropout': 0.00937026146829295, 'weight_decay': 1.1829693903474744e-05}, user_attrs={}, system_attrs={'NSGAIISampler:generation': 2}, intermediate_values={}, distributions={'lr': FloatDistribution(high=0.01, log=True, low=1e-05, step=None), 'latent_dim': CategoricalDistribution(choices=(32, 64, 128, 256, 512, 1024, 2048, 4096)), 'hidden_dim': CategoricalDistribution(choices=(256, 512, 1024, 2048, 4096)), 'dropout': FloatDistribution(high=0.5, log=False, low=0.0, step=None), 'weight_decay': FloatDistribution(high=0.01, log=True, low=1e-05, step=None)}, trial_id=102, value=None),\n",
       " FrozenTrial(number=119, state=TrialState.COMPLETE, values=[5.392251373291016, 10331702.0], datetime_start=datetime.datetime(2025, 8, 5, 8, 38, 41, 165139), datetime_complete=datetime.datetime(2025, 8, 5, 8, 41, 10, 623972), params={'lr': 0.0007130032960533752, 'latent_dim': 2048, 'hidden_dim': 1024, 'dropout': 0.05947120720739868, 'weight_decay': 3.383148245330149e-05}, user_attrs={}, system_attrs={'NSGAIISampler:generation': 2}, intermediate_values={}, distributions={'lr': FloatDistribution(high=0.01, log=True, low=1e-05, step=None), 'latent_dim': CategoricalDistribution(choices=(32, 64, 128, 256, 512, 1024, 2048, 4096)), 'hidden_dim': CategoricalDistribution(choices=(256, 512, 1024, 2048, 4096)), 'dropout': FloatDistribution(high=0.5, log=False, low=0.0, step=None), 'weight_decay': FloatDistribution(high=0.01, log=True, low=1e-05, step=None)}, trial_id=119, value=None),\n",
       " FrozenTrial(number=137, state=TrialState.COMPLETE, values=[4.445593185424805, 18732598.0], datetime_start=datetime.datetime(2025, 8, 5, 9, 23, 21, 957923), datetime_complete=datetime.datetime(2025, 8, 5, 9, 25, 55, 147452), params={'lr': 0.0005386060664441708, 'latent_dim': 4096, 'hidden_dim': 1024, 'dropout': 0.1096046099745216, 'weight_decay': 0.0026276886987540733}, user_attrs={}, system_attrs={'NSGAIISampler:generation': 2}, intermediate_values={}, distributions={'lr': FloatDistribution(high=0.01, log=True, low=1e-05, step=None), 'latent_dim': CategoricalDistribution(choices=(32, 64, 128, 256, 512, 1024, 2048, 4096)), 'hidden_dim': CategoricalDistribution(choices=(256, 512, 1024, 2048, 4096)), 'dropout': FloatDistribution(high=0.5, log=False, low=0.0, step=None), 'weight_decay': FloatDistribution(high=0.01, log=True, low=1e-05, step=None)}, trial_id=137, value=None),\n",
       " FrozenTrial(number=169, state=TrialState.COMPLETE, values=[14.109542541503906, 1755190.0], datetime_start=datetime.datetime(2025, 8, 5, 10, 42, 50, 489220), datetime_complete=datetime.datetime(2025, 8, 5, 10, 45, 12, 492885), params={'lr': 0.00480225481685459, 'latent_dim': 512, 'hidden_dim': 512, 'dropout': 0.00937026146829295, 'weight_decay': 0.008442202581361823}, user_attrs={}, system_attrs={'NSGAIISampler:generation': 3}, intermediate_values={}, distributions={'lr': FloatDistribution(high=0.01, log=True, low=1e-05, step=None), 'latent_dim': CategoricalDistribution(choices=(32, 64, 128, 256, 512, 1024, 2048, 4096)), 'hidden_dim': CategoricalDistribution(choices=(256, 512, 1024, 2048, 4096)), 'dropout': FloatDistribution(high=0.5, log=False, low=0.0, step=None), 'weight_decay': FloatDistribution(high=0.01, log=True, low=1e-05, step=None)}, trial_id=169, value=None),\n",
       " FrozenTrial(number=176, state=TrialState.COMPLETE, values=[34.106224609375, 418358.0], datetime_start=datetime.datetime(2025, 8, 5, 10, 59, 37, 122005), datetime_complete=datetime.datetime(2025, 8, 5, 11, 1, 57, 321840), params={'lr': 0.00997994356687238, 'latent_dim': 128, 'hidden_dim': 256, 'dropout': 0.07912890031204944, 'weight_decay': 1.4404897779392952e-05}, user_attrs={}, system_attrs={'NSGAIISampler:generation': 3}, intermediate_values={}, distributions={'lr': FloatDistribution(high=0.01, log=True, low=1e-05, step=None), 'latent_dim': CategoricalDistribution(choices=(32, 64, 128, 256, 512, 1024, 2048, 4096)), 'hidden_dim': CategoricalDistribution(choices=(256, 512, 1024, 2048, 4096)), 'dropout': FloatDistribution(high=0.5, log=False, low=0.0, step=None), 'weight_decay': FloatDistribution(high=0.01, log=True, low=1e-05, step=None)}, trial_id=176, value=None),\n",
       " FrozenTrial(number=202, state=TrialState.COMPLETE, values=[30.199758422851563, 550198.0], datetime_start=datetime.datetime(2025, 8, 5, 12, 3, 20, 724698), datetime_complete=datetime.datetime(2025, 8, 5, 12, 5, 47, 361928), params={'lr': 0.002030820127212753, 'latent_dim': 256, 'hidden_dim': 256, 'dropout': 0.09693029342683362, 'weight_decay': 0.00010608039852090302}, user_attrs={}, system_attrs={'NSGAIISampler:generation': 4}, intermediate_values={}, distributions={'lr': FloatDistribution(high=0.01, log=True, low=1e-05, step=None), 'latent_dim': CategoricalDistribution(choices=(32, 64, 128, 256, 512, 1024, 2048, 4096)), 'hidden_dim': CategoricalDistribution(choices=(256, 512, 1024, 2048, 4096)), 'dropout': FloatDistribution(high=0.5, log=False, low=0.0, step=None), 'weight_decay': FloatDistribution(high=0.01, log=True, low=1e-05, step=None)}, trial_id=202, value=None),\n",
       " FrozenTrial(number=204, state=TrialState.COMPLETE, values=[10.78721713256836, 4031030.0], datetime_start=datetime.datetime(2025, 8, 5, 12, 8, 19, 958363), datetime_complete=datetime.datetime(2025, 8, 5, 12, 10, 49, 516589), params={'lr': 0.0006853851557760242, 'latent_dim': 512, 'hidden_dim': 1024, 'dropout': 0.08472091738406912, 'weight_decay': 0.008442202581361823}, user_attrs={}, system_attrs={'NSGAIISampler:generation': 4}, intermediate_values={}, distributions={'lr': FloatDistribution(high=0.01, log=True, low=1e-05, step=None), 'latent_dim': CategoricalDistribution(choices=(32, 64, 128, 256, 512, 1024, 2048, 4096)), 'hidden_dim': CategoricalDistribution(choices=(256, 512, 1024, 2048, 4096)), 'dropout': FloatDistribution(high=0.5, log=False, low=0.0, step=None), 'weight_decay': FloatDistribution(high=0.01, log=True, low=1e-05, step=None)}, trial_id=204, value=None),\n",
       " FrozenTrial(number=214, state=TrialState.COMPLETE, values=[8.560082550048827, 4910134.0], datetime_start=datetime.datetime(2025, 8, 5, 12, 33, 15, 960917), datetime_complete=datetime.datetime(2025, 8, 5, 12, 35, 46, 399125), params={'lr': 0.0007130032960533752, 'latent_dim': 2048, 'hidden_dim': 512, 'dropout': 0.05947120720739868, 'weight_decay': 3.383148245330149e-05}, user_attrs={}, system_attrs={'NSGAIISampler:generation': 4}, intermediate_values={}, distributions={'lr': FloatDistribution(high=0.01, log=True, low=1e-05, step=None), 'latent_dim': CategoricalDistribution(choices=(32, 64, 128, 256, 512, 1024, 2048, 4096)), 'hidden_dim': CategoricalDistribution(choices=(256, 512, 1024, 2048, 4096)), 'dropout': FloatDistribution(high=0.5, log=False, low=0.0, step=None), 'weight_decay': FloatDistribution(high=0.01, log=True, low=1e-05, step=None)}, trial_id=214, value=None),\n",
       " FrozenTrial(number=223, state=TrialState.COMPLETE, values=[59.27087182617188, 319478.0], datetime_start=datetime.datetime(2025, 8, 5, 12, 55, 42, 324106), datetime_complete=datetime.datetime(2025, 8, 5, 12, 58, 1, 692701), params={'lr': 0.00480225481685459, 'latent_dim': 32, 'hidden_dim': 256, 'dropout': 0.08472091738406912, 'weight_decay': 0.008442202581361823}, user_attrs={}, system_attrs={'NSGAIISampler:generation': 4}, intermediate_values={}, distributions={'lr': FloatDistribution(high=0.01, log=True, low=1e-05, step=None), 'latent_dim': CategoricalDistribution(choices=(32, 64, 128, 256, 512, 1024, 2048, 4096)), 'hidden_dim': CategoricalDistribution(choices=(256, 512, 1024, 2048, 4096)), 'dropout': FloatDistribution(high=0.5, log=False, low=0.0, step=None), 'weight_decay': FloatDistribution(high=0.01, log=True, low=1e-05, step=None)}, trial_id=223, value=None),\n",
       " FrozenTrial(number=230, state=TrialState.COMPLETE, values=[22.034921325683595, 813878.0], datetime_start=datetime.datetime(2025, 8, 5, 13, 12, 15, 868179), datetime_complete=datetime.datetime(2025, 8, 5, 13, 14, 38, 342117), params={'lr': 0.00480225481685459, 'latent_dim': 512, 'hidden_dim': 256, 'dropout': 0.08472091738406912, 'weight_decay': 0.008442202581361823}, user_attrs={}, system_attrs={'NSGAIISampler:generation': 4}, intermediate_values={}, distributions={'lr': FloatDistribution(high=0.01, log=True, low=1e-05, step=None), 'latent_dim': CategoricalDistribution(choices=(32, 64, 128, 256, 512, 1024, 2048, 4096)), 'hidden_dim': CategoricalDistribution(choices=(256, 512, 1024, 2048, 4096)), 'dropout': FloatDistribution(high=0.5, log=False, low=0.0, step=None), 'weight_decay': FloatDistribution(high=0.01, log=True, low=1e-05, step=None)}, trial_id=230, value=None),\n",
       " FrozenTrial(number=233, state=TrialState.COMPLETE, values=[2.8203153457641603, 39537206.0], datetime_start=datetime.datetime(2025, 8, 5, 13, 19, 30, 265919), datetime_complete=datetime.datetime(2025, 8, 5, 13, 22, 2, 705325), params={'lr': 0.0003824211765240525, 'latent_dim': 4096, 'hidden_dim': 2048, 'dropout': 0.02899844490761616, 'weight_decay': 0.0003283692218451411}, user_attrs={}, system_attrs={'NSGAIISampler:generation': 4}, intermediate_values={}, distributions={'lr': FloatDistribution(high=0.01, log=True, low=1e-05, step=None), 'latent_dim': CategoricalDistribution(choices=(32, 64, 128, 256, 512, 1024, 2048, 4096)), 'hidden_dim': CategoricalDistribution(choices=(256, 512, 1024, 2048, 4096)), 'dropout': FloatDistribution(high=0.5, log=False, low=0.0, step=None), 'weight_decay': FloatDistribution(high=0.01, log=True, low=1e-05, step=None)}, trial_id=233, value=None)]"
      ]
     },
     "execution_count": 11,
     "metadata": {},
     "output_type": "execute_result"
    }
   ],
   "source": [
    "pareto_trials"
   ]
  },
  {
   "cell_type": "code",
   "execution_count": 20,
   "id": "bb4b39ff",
   "metadata": {},
   "outputs": [
    {
     "name": "stdout",
     "output_type": "stream",
     "text": [
      "Lowest test_loss trial (#24):\n",
      "  test_loss: 4.068532836914063\n",
      "  model_size: 18732598.0\n",
      "  Params: {'lr': 0.0004082266590989396, 'latent_dim': 4096, 'hidden_dim': 1024, 'dropout': 0.06788556680507996, 'weight_decay': 4.7012425746663086e-05}\n"
     ]
    }
   ],
   "source": [
    "best_loss_trial = min(study.best_trials, key=lambda t: t.values[0])\n",
    "print(f\"Lowest test_loss trial (#{best_loss_trial.number}):\")\n",
    "print(f\"  test_loss: {best_loss_trial.values[0]}\")\n",
    "print(f\"  model_size: {best_loss_trial.values[1]}\")\n",
    "print(f\"  Params: {best_loss_trial.params}\")\n"
   ]
  },
  {
   "cell_type": "code",
   "execution_count": 13,
   "id": "f5d5b373",
   "metadata": {},
   "outputs": [],
   "source": []
  },
  {
   "cell_type": "code",
   "execution_count": null,
   "id": "dd475cfc",
   "metadata": {},
   "outputs": [],
   "source": []
  }
 ],
 "metadata": {
  "kernelspec": {
   "display_name": "Python 3 (ipykernel)",
   "language": "python",
   "name": "python3"
  },
  "language_info": {
   "codemirror_mode": {
    "name": "ipython",
    "version": 3
   },
   "file_extension": ".py",
   "mimetype": "text/x-python",
   "name": "python",
   "nbconvert_exporter": "python",
   "pygments_lexer": "ipython3",
   "version": "3.10.14"
  }
 },
 "nbformat": 4,
 "nbformat_minor": 5
}
