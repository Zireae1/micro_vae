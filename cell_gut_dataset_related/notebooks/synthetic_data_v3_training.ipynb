{
 "cells": [
  {
   "cell_type": "code",
   "execution_count": 1,
   "id": "7dee9be4",
   "metadata": {},
   "outputs": [
    {
     "name": "stdout",
     "output_type": "stream",
     "text": [
      "cuda:0\n"
     ]
    }
   ],
   "source": [
    "import torch\n",
    "import torch.nn as nn\n",
    "import torch.nn.functional as F\n",
    "from torch.distributions import Categorical\n",
    "import matplotlib.pyplot as plt\n",
    "import matplotlib\n",
    "import pandas as pd\n",
    "import numpy as np\n",
    "import pickle\n",
    "from torch.utils.data import Dataset, TensorDataset, DataLoader\n",
    "from sklearn.model_selection import train_test_split\n",
    "from sklearn import preprocessing\n",
    "from sklearn.preprocessing import StandardScaler, RobustScaler, MaxAbsScaler\n",
    "from scipy import stats\n",
    "from tqdm import tqdm\n",
    "# from skbio.stats.composition import clr\n",
    "use_cuda = torch.cuda.is_available()\n",
    "device = torch.device('cuda:0' if use_cuda else 'mps')\n",
    "print(device)\n",
    "\n",
    "from utils import *\n",
    "\n",
    "import matplotlib as mpl\n",
    "mpl.rcParams['font.family'] = 'Arial'\n",
    "mpl.rcParams['font.size'] = 14"
   ]
  },
  {
   "cell_type": "markdown",
   "id": "2a6a9a17",
   "metadata": {},
   "source": [
    "#### Preprocess synthetic data"
   ]
  },
  {
   "cell_type": "code",
   "execution_count": 2,
   "id": "8d9c0d2e",
   "metadata": {},
   "outputs": [
    {
     "name": "stdout",
     "output_type": "stream",
     "text": [
      "9723 samples, 41 families\n"
     ]
    }
   ],
   "source": [
    "def save_preprocessed(p_data, name_data):\n",
    "    data_df=pickle.load(open(p_data, \"rb\"))\n",
    "    idx, data_df = data_df.iloc[:, :1], data_df.iloc[:, 1:]\n",
    "\n",
    "    # filter the data and remove low abundance species\n",
    "    min_thres = 1e-5\n",
    "    data_df[data_df<=min_thres]=0\n",
    "    n_samples = data_df.shape[0]\n",
    "    data_df = data_df.loc[:, (data_df>0).sum(axis=0) >= 0.05*n_samples]\n",
    "    \n",
    "    idx = idx.loc[data_df.sum(axis=1) > 0]\n",
    "    data_df = data_df.loc[data_df.sum(axis=1) > 0]\n",
    "#     print(list(data_df.sum(axis=1)).count(0))\n",
    "\n",
    "    ## normalize to relative abundance\n",
    "    data_df = data_df.div(data_df.sum(axis=1), axis=0)\n",
    "    \n",
    "    ## separate train and test\n",
    "    features = (data_df>0).values.astype(float)\n",
    "    labels = data_df.values\n",
    "    print(f\"{features.shape[0]} samples, {features.shape[1]} families\") \n",
    "    \n",
    "    ## save preprocessed data\n",
    "    torch.save({\"features\":features, \"labels\":labels, \"names\":list(data_df.columns)}, f\"../data/{name_data}_filtered.pt\")\n",
    "    \n",
    "# save_preprocessed(\"../synthetic_data/data_v2/chia_all_abundances.pkl\", \"synthetic_v2_chia\")\n",
    "# save_preprocessed(\"../synthetic_data/data_v2/trophic_4_all_abundances.pkl\", \"synthetic_v2_trophic_4\")\n",
    "# save_preprocessed(\"../synthetic_data/data_v2/trophic_6_all_abundances.pkl\", \"synthetic_v2_trophic_6\")\n",
    "save_preprocessed(\"../synthetic_data/data_v3/trophic_4_all_abundances.pkl\", \"synthetic_v3_trophic_4\")"
   ]
  },
  {
   "cell_type": "markdown",
   "id": "befe379e-cb18-4916-943d-290597df8468",
   "metadata": {},
   "source": [
    "### Load, split and normalize"
   ]
  },
  {
   "cell_type": "code",
   "execution_count": 3,
   "id": "092e86dc-0bd8-4be0-92f8-f97105eec8e4",
   "metadata": {},
   "outputs": [],
   "source": [
    "def load_filtered_data(p_data):\n",
    "    features = torch.load(p_data)[\"features\"]\n",
    "    labels = torch.load(p_data)[\"labels\"]\n",
    "    spc_names = torch.load(p_data)[\"names\"]\n",
    "    \n",
    "    original_indices = np.arange(len(features))\n",
    "    train_indices, test_indices = train_test_split(\n",
    "        original_indices,\n",
    "        test_size=0.2,\n",
    "        random_state=42,\n",
    "    )\n",
    "    X_train = features[train_indices]\n",
    "    X_test = features[test_indices]\n",
    "    y_train = labels[train_indices]\n",
    "    y_test = labels[test_indices]\n",
    "#     X_train, X_test, y_train, y_test = train_test_split(features, labels, test_size=0.2, random_state=42)\n",
    "\n",
    "    ## clr transformation for outputs\n",
    "    zero_thr = 1e-8\n",
    "    gmean_train = (np.exp(np.nansum(np.log(y_train[y_train > 0]+zero_thr)) / np.size(y_train)))\n",
    "    y_train_clr = np.log((y_train+zero_thr)/gmean_train)\n",
    "    y_test_clr = np.log((y_test+zero_thr)/gmean_train)\n",
    "\n",
    "    ## rescale the data\n",
    "    scaler = preprocessing.MaxAbsScaler().fit(y_train_clr)\n",
    "    # scaler = preprocessing.RobustScaler().fit(y_train_clr)\n",
    "    y_train_scaled = scaler.transform(y_train_clr)\n",
    "    y_test_scaled = scaler.transform(y_test_clr)\n",
    "\n",
    "    ## transform to tensors\n",
    "    X_train_scaled=torch.from_numpy(X_train).float()\n",
    "    y_train_scaled=torch.from_numpy(y_train_scaled).float()\n",
    "    X_test_scaled=torch.from_numpy(X_test).float()\n",
    "    y_test_scaled=torch.from_numpy(y_test_scaled).float()\n",
    "\n",
    "#     plt.hist(y_test_scaled.numpy().flatten(), bins=40)\n",
    "#     plt.yscale(\"log\")\n",
    "#     plt.xlabel(\"Abundance score\")\n",
    "#     plt.ylabel(\"Counts\")\n",
    "#     plt.show()\n",
    "    \n",
    "    # keep the spc names and train/test split for evaluation use\n",
    "    return X_train_scaled, X_test_scaled, y_train_scaled, y_test_scaled, {\"spcs\":spc_names,\n",
    "                                                                          \"train_idx\": train_indices, \n",
    "                                                                          \"test_idx\": test_indices}"
   ]
  },
  {
   "cell_type": "markdown",
   "id": "fe319596-7739-437b-9580-dc961cc66b90",
   "metadata": {},
   "source": [
    "### Apply autoencoder"
   ]
  },
  {
   "cell_type": "code",
   "execution_count": 4,
   "id": "0956445a",
   "metadata": {},
   "outputs": [],
   "source": [
    "class VAETrainer:\n",
    "    def __init__(self, model, train_loader, test_loader, optimizer, weights, device=\"cuda:0\"):\n",
    "        self.model = model.to(device)\n",
    "        self.train_loader = train_loader\n",
    "        self.test_loader = test_loader\n",
    "        self.optimizer = optimizer\n",
    "        self.weights = weights\n",
    "        self.device = device\n",
    "\n",
    "    def train_one_epoch(self, zero_thr):\n",
    "        self.model.train()\n",
    "        total_loss, total_recon_loss, total_bce_loss, total_kl_loss = 0, 0, 0, 0\n",
    "        total_acc = 0\n",
    "        total_len = 0\n",
    "        for batch in self.train_loader:\n",
    "            batch['Features'], batch['Labels'] = batch['Features'].to(device), batch['Labels'].to(device)\n",
    "            \n",
    "            self.optimizer.zero_grad()\n",
    "#             recon_x, loss, recon_loss, kl_loss = compute_loss(self.model, batch['Features'], batch['Labels'], self.weights)\n",
    "            b, nb, loss, recon_loss, bce_loss, kl_loss = compute_loss_2(self.model, batch['Features'], batch['Labels'], self.weights)\n",
    "            loss.backward()\n",
    "            self.optimizer.step()\n",
    "            \n",
    "            total_loss += loss.item()\n",
    "            total_recon_loss += recon_loss.item()\n",
    "            total_bce_loss += bce_loss.item()\n",
    "            total_kl_loss += kl_loss.item()\n",
    "            \n",
    "#             out = ((recon_x.detach())>zero_thr).float()\n",
    "            out = (b.detach()>0.5).float()\n",
    "            total_acc += (out == batch['Features']).float().sum().item() # for binary-abundance\n",
    "            total_len += batch[\"Features\"].shape[0]\n",
    "\n",
    "        return total_loss / total_len, \\\n",
    "               total_recon_loss / total_len, \\\n",
    "               total_bce_loss / total_len, \\\n",
    "               total_kl_loss / total_len, \\\n",
    "               total_acc / total_len / batch[\"Features\"].shape[1]\n",
    "\n",
    "    @torch.no_grad()\n",
    "    def test_one_epoch(self, zero_thr):\n",
    "        self.model.eval()\n",
    "        total_loss, total_recon_loss, total_bce_loss, total_kl_loss = 0, 0, 0, 0\n",
    "        total_acc = 0\n",
    "        total_len = 0\n",
    "        for batch in self.test_loader:\n",
    "            batch['Features'], batch['Labels'] = batch['Features'].to(device), batch['Labels'].to(device)\n",
    "            \n",
    "#             recon_x, loss, recon_loss, kl_loss = compute_loss(self.model, batch['Features'], batch['Labels'], self.weights)\n",
    "            b, nb, loss, recon_loss, bce_loss, kl_loss = compute_loss_2(self.model, batch['Features'], batch['Labels'], self.weights)\n",
    "            \n",
    "            total_loss += loss.item()\n",
    "            total_recon_loss += recon_loss.item()\n",
    "            total_bce_loss += bce_loss.item()\n",
    "            total_kl_loss += kl_loss.item()\n",
    "            \n",
    "#             out = ((recon_x.detach())>zero_thr).float()\n",
    "            out = (b.detach()>0.5).float()\n",
    "            total_acc += (out == batch['Features']).float().sum().item() # for binary-abundance\n",
    "            total_len += batch[\"Features\"].shape[0]\n",
    "\n",
    "        return total_loss / total_len, \\\n",
    "               total_recon_loss / total_len, \\\n",
    "               total_bce_loss / total_len, \\\n",
    "               total_kl_loss / total_len, \\\n",
    "               total_acc / total_len / batch[\"Features\"].shape[1]"
   ]
  },
  {
   "cell_type": "code",
   "execution_count": 5,
   "id": "c73b6dda-73af-4315-8e9d-6b299cc2c150",
   "metadata": {},
   "outputs": [],
   "source": [
    "def train_VAE_on_data(p_data, p_output, weights=[1.0, 1.0, 0.0]):\n",
    "    '''\n",
    "    weights: recon abundance loss; presence bce loss; KL divergence. \n",
    "    '''\n",
    "    X_train_scaled, X_test_scaled, y_train_scaled, y_test_scaled, annotations = load_filtered_data(p_data)\n",
    "    spc_names = annotations[\"spcs\"]\n",
    "    class CustomDataset(Dataset):\n",
    "        def __init__(self, features, labels, device=None):\n",
    "            self.labels = labels\n",
    "            self.features = features\n",
    "        def __len__(self):\n",
    "            return len(self.labels)\n",
    "        def __getitem__(self, idx):\n",
    "            label = self.labels[idx]\n",
    "            data = self.features[idx]\n",
    "            return {\"Features\": data, \"Labels\": label}\n",
    "    Train = CustomDataset(X_train_scaled, y_train_scaled)\n",
    "    Test = CustomDataset(X_test_scaled, y_test_scaled)\n",
    "\n",
    "    input_dim = len(spc_names)\n",
    "    hidden_dim = 2048\n",
    "    latent_dim = 1024\n",
    "    epochs = 150\n",
    "    lr = 1e-3\n",
    "    weight_decay = 1e-4\n",
    "    zero_thr = -0.8\n",
    "    \n",
    "#     # early stopping\n",
    "#     patience = 10 \n",
    "#     min_delta = 1e-3\n",
    "#     best_loss = float('inf')\n",
    "#     epochs_no_improve = 0\n",
    "#     best_model_state = None\n",
    "\n",
    "    model = VAE_2(input_dim, latent_dim, hidden_dim).to(device)\n",
    "    optimizer = torch.optim.AdamW(\n",
    "        model.parameters(), \n",
    "        lr=lr,\n",
    "        weight_decay=weight_decay\n",
    "    )\n",
    "\n",
    "    ## create batch spits of data\n",
    "    kwargs = {'num_workers': 4, 'pin_memory': True} if use_cuda else {}\n",
    "    train_DS = DataLoader(Train, batch_size=100, shuffle=True, drop_last=False, **kwargs)\n",
    "    test_DS = DataLoader(Test, batch_size=100, shuffle=True, drop_last=False, **kwargs)\n",
    "\n",
    "    trainer = VAETrainer(model, train_DS, test_DS, optimizer, weights, device)\n",
    "\n",
    "    train_losses = []\n",
    "    test_losses = []\n",
    "    train_acc = []\n",
    "    test_acc = []\n",
    "    MSEs, BCEs, KLDs = [], [], []\n",
    "    for epoch in tqdm(range(epochs)):\n",
    "        train_loss, MSE, BCE, KLD, acc = trainer.train_one_epoch(zero_thr)\n",
    "        train_losses.append(train_loss)\n",
    "        train_acc.append(acc)\n",
    "\n",
    "        test_loss, MSE, BCE, KLD, acc = trainer.test_one_epoch(zero_thr)\n",
    "        test_losses.append(test_loss)\n",
    "        test_acc.append(acc)\n",
    "        MSEs.append(MSE)\n",
    "        BCEs.append(BCE)\n",
    "        KLDs.append(KLD)\n",
    "        \n",
    "    torch.save({\"model\":model.state_dict(), \"annotations\":annotations}, p_output)        \n",
    "        \n",
    "    ## plot the training process\n",
    "    train_acc=np.array(train_acc)\n",
    "    test_acc = np.array(test_acc)\n",
    "    plt.plot(range(train_acc.shape[0]), train_acc*100, c='blue', label = \"train_acc\")\n",
    "    plt.xlabel(\"Epoch\")\n",
    "    plt.ylabel(\"Accuracy, %\")\n",
    "    plt.ylim([0, 100])\n",
    "    #     plt.xlim([0,1000])  # adjust the right leaving left unchanged\n",
    "    plt.plot(range(test_acc.shape[0]), test_acc*100, c='red', label = \"test_acc\")\n",
    "    prevalence=np.sum(X_train_scaled.numpy(), axis=0)/X_train_scaled.shape[0]\n",
    "    prevalence[prevalence>=0.5]=1\n",
    "    prevalence[prevalence<0.5]=0\n",
    "    # horizontal line showing dumb predictions based on prevalence\n",
    "    acc=(1-np.sum(np.abs(X_test_scaled.numpy()-prevalence))/X_test_scaled.shape[0]/prevalence.shape[0])*100\n",
    "    plt.axhline(y = acc, color = 'orange', linestyle = '-.')\n",
    "    plt.legend(frameon=False)\n",
    "    handle = p_data.split(\"/\")[-1][:-3]\n",
    "    plt.savefig(f\"../figures/trainingproc_acc_{handle}.pdf\", bbox_inches=\"tight\")\n",
    "    plt.show()\n",
    "\n",
    "    # show the losses\n",
    "    lists = [MSEs, BCEs, KLDs]\n",
    "    names = [\"MSE\", \"Binary\", \"KLD\"]\n",
    "    for (yloss, loss_name) in zip(lists, names):\n",
    "        plt.plot(range(train_acc.shape[0]), yloss, label=loss_name)\n",
    "    plt.legend(frameon=False)\n",
    "    plt.xlabel(\"Epoch\")\n",
    "    plt.ylabel(\"Loss\")\n",
    "    plt.yscale(\"log\")\n",
    "    handle = p_data.split(\"/\")[-1][:-3]\n",
    "    plt.savefig(f\"../figures/trainingproc_loss_{handle}.pdf\", bbox_inches=\"tight\")\n",
    "    plt.show()"
   ]
  },
  {
   "cell_type": "code",
   "execution_count": 6,
   "id": "7b26ecc4",
   "metadata": {},
   "outputs": [
    {
     "name": "stderr",
     "output_type": "stream",
     "text": [
      "100%|██████████| 150/150 [02:58<00:00,  1.19s/it]\n",
      "findfont: Font family ['Arial'] not found. Falling back to DejaVu Sans.\n"
     ]
    },
    {
     "data": {
      "image/png": "[encoded data removed]",
      "text/plain": [
       "<Figure size 432x288 with 1 Axes>"
      ]
     },
     "metadata": {
      "needs_background": "light"
     },
     "output_type": "display_data"
    },
    {
     "data": {
      "image/png": "[encoded data removed]",
      "text/plain": [
       "<Figure size 432x288 with 1 Axes>"
      ]
     },
     "metadata": {
      "needs_background": "light"
     },
     "output_type": "display_data"
    }
   ],
   "source": [
    "# train_VAE_on_data(\"../data/synthetic_v2_chia_filtered.pt\", \"../models/synthetic_v2_chia_trained_AE.pt\", weights=[1.0, 1.0, 0.0])\n",
    "train_VAE_on_data(\"../data/synthetic_v3_trophic_4_filtered.pt\", \"../models/synthetic_v3_trophic_4_trained_AE.pt\", weights=[1.0, 1.0, 0.0])"
   ]
  },
  {
   "cell_type": "code",
   "execution_count": null,
   "id": "387300c3",
   "metadata": {},
   "outputs": [],
   "source": []
  },
  {
   "cell_type": "code",
   "execution_count": null,
   "id": "cdf87316",
   "metadata": {},
   "outputs": [],
   "source": []
  }
 ],
 "metadata": {
  "kernelspec": {
   "display_name": "custom_torch",
   "language": "python",
   "name": "torch"
  },
  "language_info": {
   "codemirror_mode": {
    "name": "ipython",
    "version": 3
   },
   "file_extension": ".py",
   "mimetype": "text/x-python",
   "name": "python",
   "nbconvert_exporter": "python",
   "pygments_lexer": "ipython3",
   "version": "3.9.12"
  }
 },
 "nbformat": 4,
 "nbformat_minor": 5
}
