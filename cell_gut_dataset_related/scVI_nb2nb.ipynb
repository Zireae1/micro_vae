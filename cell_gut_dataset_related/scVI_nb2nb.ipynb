{
 "cells": [
  {
   "cell_type": "code",
   "execution_count": 10,
   "id": "b98a177e-f13d-4eaa-ae22-9ca806dfb0fb",
   "metadata": {},
   "outputs": [
    {
     "name": "stdout",
     "output_type": "stream",
     "text": [
      "cuda:0\n"
     ]
    }
   ],
   "source": [
    "import torch\n",
    "import torch.nn as nn\n",
    "import torch.nn.functional as F\n",
    "from torch.distributions import Categorical\n",
    "import matplotlib.pyplot as plt\n",
    "import matplotlib\n",
    "import pandas as pd\n",
    "import numpy as np\n",
    "import pickle\n",
    "from torch.utils.data import Dataset, TensorDataset, DataLoader\n",
    "from sklearn.model_selection import train_test_split\n",
    "from sklearn import preprocessing\n",
    "from sklearn.preprocessing import StandardScaler, RobustScaler, MaxAbsScaler\n",
    "from scipy import stats\n",
    "from tqdm import tqdm\n",
    "# from skbio.stats.composition import clr\n",
    "use_cuda = torch.cuda.is_available()\n",
    "device = torch.device('cuda:0' if use_cuda else 'cpu')\n",
    "print(device)\n",
    "\n",
    "from utils import *"
   ]
  },
  {
   "cell_type": "code",
   "execution_count": 73,
   "id": "7fe88639-459c-4aaf-b16d-09bd3eb27c86",
   "metadata": {},
   "outputs": [],
   "source": [
    "## preprocess this subset of data\n",
    "p_data, n_data = \"data/orig_species.pkl\", \"\"\n",
    "data_df = pickle.load(open(p_data, \"rb\"))\n",
    "idx, data_df = data_df.iloc[:, :1], data_df.iloc[:, 1:]\n",
    "\n",
    "## remove the vague species (order unknown for na_thres=3)\n",
    "na_thres = 3\n",
    "col_drops = [col for col in list(data_df.columns) if(col.split(\".\").count(\"NA\")>=na_thres)]\n",
    "data_df = data_df.drop(col_drops, axis=1)\n",
    "\n",
    "# remove emtpy samples first\n",
    "idx = idx.loc[data_df.sum(axis=1) > 0]\n",
    "data_df = data_df.loc[data_df.sum(axis=1) > 0]\n",
    "'''\n",
    "remove the samples w/ low total abundance. \n",
    "I checked that total abundance ~lognormal; remove the <-2sigma (~5%) lowest samples. \n",
    "'''\n",
    "lower_bound = np.exp(np.mean(np.log(data_df.sum(axis=1)))-2*np.std(np.log(data_df.sum(axis=1))))\n",
    "idx = idx.loc[data_df.sum(axis=1) >= lower_bound]\n",
    "data_df = data_df.loc[data_df.sum(axis=1) >= lower_bound]\n",
    "\n",
    "## remove the rare species (present in <1% samples)\n",
    "n_samples = data_df.shape[0]\n",
    "data_df = data_df.loc[:, (data_df>0).sum(axis=0) >= 0.01*n_samples]\n",
    "\n",
    "idx = idx.loc[data_df.sum(axis=1) > 0]\n",
    "data_df = data_df.loc[data_df.sum(axis=1) > 0]\n",
    "\n",
    "## separate train and test\n",
    "# features = np.floor(data_df.values/20)\n",
    "features = data_df.values\n",
    "labels = data_df.values\n",
    "X_train, X_test, y_train, y_test = train_test_split(features, labels, test_size=0.1, random_state=42)\n",
    "\n",
    "## without any additional transformations\n",
    "X_train_scaled=torch.from_numpy(X_train).float()\n",
    "X_test_scaled=torch.from_numpy(X_test).float()\n",
    "\n",
    "## make dataset\n",
    "class CustomDataset(Dataset):\n",
    "    def __init__(self, x, device=None):\n",
    "        self.x = x\n",
    "    \n",
    "    def __len__(self):\n",
    "        return len(self.x)\n",
    "    \n",
    "    def __getitem__(self, idx):\n",
    "        return self.x[idx]\n",
    "    \n",
    "Train = CustomDataset(X_train_scaled)\n",
    "Test = CustomDataset(X_test_scaled)\n",
    "\n",
    "## create batch spits of data\n",
    "kwargs = {'num_workers': 4, 'pin_memory': True} if use_cuda else {}\n",
    "train_DS = DataLoader(Train, batch_size=100, shuffle=True, drop_last=True, **kwargs)\n",
    "test_DS = DataLoader(Test, batch_size=100, shuffle=True, drop_last=True, **kwargs)"
   ]
  },
  {
   "cell_type": "code",
   "execution_count": 74,
   "id": "1efa80b4-207c-475d-9738-60911264189f",
   "metadata": {},
   "outputs": [],
   "source": [
    "for data in train_DS:\n",
    "    if(torch.isnan(data).any()):\n",
    "        print(data)\n",
    "        \n",
    "for data in test_DS:\n",
    "    if(torch.isnan(data).any()):\n",
    "        print(data)"
   ]
  },
  {
   "cell_type": "code",
   "execution_count": 75,
   "id": "0cd8c933-af1b-48b8-a86c-190ae6ed27fd",
   "metadata": {},
   "outputs": [
    {
     "data": {
      "image/png": "[encoded data removed]",
      "text/plain": [
       "<Figure size 432x288 with 1 Axes>"
      ]
     },
     "metadata": {
      "needs_background": "light"
     },
     "output_type": "display_data"
    },
    {
     "name": "stdout",
     "output_type": "stream",
     "text": [
      "10.434042267085065 1.1017261618076946\n"
     ]
    }
   ],
   "source": [
    "# the sum of absolute abundances (should be reflected by learnable factor l) is lognormal\n",
    "plt.hist(np.log10(np.sum(features, axis=1)), bins=50)\n",
    "plt.xlabel(\"log10 of overall abundance\")\n",
    "plt.ylabel(\"Histogram\")\n",
    "plt.show()\n",
    "all_libsize = np.log(np.sum(features, axis=1))\n",
    "mu0_prior, sigma0_prior = np.mean(all_libsize), np.std(all_libsize)\n",
    "print(mu0_prior, sigma0_prior)"
   ]
  },
  {
   "cell_type": "code",
   "execution_count": 76,
   "id": "d27bb15e-df26-4e55-9671-6032b0998695",
   "metadata": {},
   "outputs": [],
   "source": [
    "class scviVAE(nn.Module):\n",
    "    def __init__(self, input_dim, latent_dim=128, hidden_dim=1024, dropout_rate=0.1):\n",
    "        super().__init__()\n",
    "        # Shared encoder\n",
    "        self.encoder = nn.Sequential(\n",
    "            nn.Linear(input_dim, hidden_dim),\n",
    "            nn.LayerNorm(hidden_dim),\n",
    "            nn.ReLU(),\n",
    "            nn.Dropout(dropout_rate)\n",
    "        )\n",
    "        # z encoder\n",
    "        self.fc_mu_z = nn.Linear(hidden_dim, latent_dim)\n",
    "        self.fc_logvar_z = nn.Linear(hidden_dim, latent_dim)\n",
    "        # library-size encoder (log l)\n",
    "        self.fc_mu_l = nn.Linear(hidden_dim, 1)\n",
    "        self.fc_logvar_l = nn.Linear(hidden_dim, 1)\n",
    "        # rho decoder (mean)\n",
    "        self.decoder_rho = nn.Sequential(\n",
    "            nn.Linear(latent_dim, hidden_dim),\n",
    "            nn.BatchNorm1d(hidden_dim),\n",
    "            nn.ReLU(),\n",
    "            nn.Linear(hidden_dim, input_dim),\n",
    "            nn.Softplus()\n",
    "        )\n",
    "        # dropout decoder (pi)\n",
    "        self.decoder_pi = nn.Sequential(\n",
    "            nn.Linear(latent_dim, hidden_dim),\n",
    "            nn.BatchNorm1d(hidden_dim),\n",
    "            nn.ReLU(),\n",
    "            nn.Linear(hidden_dim, input_dim),\n",
    "            nn.Sigmoid()\n",
    "        )\n",
    "        # Species-specific scale factor and dispersion\n",
    "        self.log_s = nn.Parameter(torch.zeros(input_dim))\n",
    "        self.log_theta = nn.Parameter(torch.zeros(input_dim))\n",
    "\n",
    "    def encode(self, x):\n",
    "        h = self.encoder(x)\n",
    "        if(torch.isnan(h).any()):\n",
    "            print(\"bad encoder!\", h)\n",
    "        mu_z = self.fc_mu_z(h)\n",
    "        logvar_z = self.fc_logvar_z(h)\n",
    "        mu_l = self.fc_mu_l(h)\n",
    "        logvar_l = self.fc_logvar_l(h)\n",
    "        return mu_z, logvar_z, mu_l, logvar_l\n",
    "\n",
    "    def reparameterize(self, mu, logvar):\n",
    "        std = torch.exp(0.5 * logvar)\n",
    "        eps = torch.randn_like(std)\n",
    "        return mu + eps * std\n",
    "\n",
    "    def decode(self, z, l_latent):\n",
    "        rho = self.decoder_rho(z)         # positive\n",
    "        pi = self.decoder_pi(z)           # [0,1]\n",
    "        if(torch.isnan(pi).any()):\n",
    "            print(z)\n",
    "        s = torch.exp(self.log_s)         # positive\n",
    "        theta = torch.exp(self.log_theta) # positive\n",
    "        l = torch.exp(l_latent) * s       # broadcast to (batch, features)\n",
    "        mu = rho * l\n",
    "        return mu, theta, pi\n",
    "\n",
    "    def forward(self, x):\n",
    "        # x: raw counts (batch_size, input_dim)\n",
    "        mu_z, logvar_z, mu_l, logvar_l = self.encode(x)\n",
    "        z = self.reparameterize(mu_z, logvar_z)\n",
    "        l_latent = self.reparameterize(mu_l, logvar_l)\n",
    "        mu, theta, pi = self.decode(z, l_latent)\n",
    "        return mu, theta, pi, mu_z, logvar_z, mu_l, logvar_l"
   ]
  },
  {
   "cell_type": "code",
   "execution_count": 77,
   "id": "d5586a1a-b62f-4044-a7f2-f7f50bbbdc7f",
   "metadata": {},
   "outputs": [],
   "source": [
    "# zinb loss\n",
    "def zinb_loss(x, mu, theta, pi, eps=1e-6):\n",
    "    t1 = torch.lgamma(x + theta) - torch.lgamma(theta) - torch.lgamma(x + 1)\n",
    "    t2 = theta * (torch.log(theta + eps) - torch.log(mu + theta + eps)) \\\n",
    "         + x * (torch.log(mu + eps) - torch.log(mu + theta + eps))\n",
    "    log_nb = t1 + t2\n",
    "    log_pi = torch.log(pi + eps)\n",
    "    log_1_pi = torch.log1p(-pi + eps)\n",
    "    log_prob_zero = torch.logaddexp(log_pi, log_1_pi + log_nb)\n",
    "    log_prob_nonzero = log_1_pi + log_nb\n",
    "    mask_zero = (x < 0.5).float()\n",
    "    loglik = mask_zero * log_prob_zero + (1 - mask_zero) * log_prob_nonzero\n",
    "    return -torch.sum(loglik)\n",
    "\n",
    "# full elbo\n",
    "def compute_elbo(model, x, kl_weight=1.0, mu_l_prior=0.0, sigma_l_prior=1.0):\n",
    "    # when using the model, do a log transform on x\n",
    "    mu, theta, pi, mu_z, logvar_z, mu_l, logvar_l = model(torch.log10(1+x))\n",
    "    # Reconstruction loss\n",
    "    rec_loss = zinb_loss(x, mu, theta, pi)\n",
    "    # KL for z ~ N(0,1)\n",
    "    kl_z = -0.5 * torch.sum(1 + logvar_z - mu_z.pow(2) - logvar_z.exp())\n",
    "    # KL for l ~ N(mu_l_prior, sigma_l_prior^2)\n",
    "    var_l = torch.exp(logvar_l)\n",
    "    kl_l = 0.5 * torch.sum(\n",
    "        (var_l + (mu_l - mu_l_prior).pow(2)) / (sigma_l_prior**2)\n",
    "        - 1 - logvar_l + 2 * torch.log(sigma_l_prior)\n",
    "    )\n",
    "    elbo = rec_loss + kl_weight * (kl_z + kl_l)\n",
    "    return elbo, rec_loss, kl_z, kl_l"
   ]
  },
  {
   "cell_type": "code",
   "execution_count": 78,
   "id": "445307ce-a486-41c1-9aef-e3dfbd89c343",
   "metadata": {},
   "outputs": [],
   "source": [
    "def get_metrics(x, mu, theta, pi):\n",
    "    # sample ZINB\n",
    "    bern = torch.bernoulli(pi)\n",
    "    probs = theta / (theta + mu)        \n",
    "    nb_dist = torch.distributions.NegativeBinomial(total_count=theta, probs=probs)\n",
    "    nb_sample = nb_dist.sample()\n",
    "    zinb_sample = torch.where(bern.bool(), torch.zeros_like(nb_sample), nb_sample)\n",
    "    pred_binary = (zinb_sample > 0).float()\n",
    "    true_binary = (x > 0).float()\n",
    "    acc = (pred_binary == true_binary).float().mean().item()\n",
    "    # correlation\n",
    "    x_cent = x - x.mean(dim=1, keepdim=True)\n",
    "    mu_cent = mu - mu.mean(dim=1, keepdim=True)\n",
    "    cov = (x_cent * mu_cent).sum(dim=1)\n",
    "    std_x = torch.sqrt((x_cent**2).sum(dim=1) + 1e-8)\n",
    "    std_mu = torch.sqrt((mu_cent**2).sum(dim=1) + 1e-8)\n",
    "    corr = (cov / (std_x * std_mu)).mean().item()\n",
    "    return acc, corr\n",
    "\n",
    "class Trainer:\n",
    "    def __init__(self, model, train_loader, test_loader, optimizer, scheduler,\n",
    "                 device='cuda:0', kl_weight=1.0, mu_l_prior=0.0, sigma_l_prior=1.0):\n",
    "        self.model = model.to(device)\n",
    "        self.train_loader = train_loader\n",
    "        self.test_loader = test_loader\n",
    "        self.optimizer = optimizer\n",
    "        self.scheduler = scheduler\n",
    "        self.device = device\n",
    "        self.kl_weight = kl_weight\n",
    "        self.mu_l_prior = torch.tensor(mu_l_prior).to(device)\n",
    "        self.sigma_l_prior = torch.tensor(sigma_l_prior).to(device)\n",
    "\n",
    "    def train_epoch(self):\n",
    "        self.model.train()\n",
    "        metrics = { 'elbo':0, 'rec':0, 'kl_z':0, 'kl_l':0, 'acc':0, 'corr':0 }\n",
    "        n_samples = 0\n",
    "        for x in self.train_loader:\n",
    "            x = x.to(self.device).float()\n",
    "            \n",
    "            self.optimizer.zero_grad()\n",
    "            elbo, rec, kl_z, kl_l = compute_elbo(\n",
    "                self.model, x,\n",
    "                self.kl_weight,\n",
    "                self.mu_l_prior,\n",
    "                self.sigma_l_prior\n",
    "            )\n",
    "            for name, param in model.named_parameters():\n",
    "                if torch.isnan(param).any() or torch.isinf(param).any():\n",
    "                    print(f\"NaN in weights: {name}\")\n",
    "            elbo.backward()\n",
    "            self.optimizer.step()\n",
    "            self.scheduler.step()\n",
    "            bsz = x.size(0)\n",
    "            \n",
    "            # Metrics: accuracy and Pearson correlation\n",
    "            with torch.no_grad():\n",
    "                mu, theta, pi, *_ = self.model(x)\n",
    "                acc, corr = get_metrics(x, mu, theta, pi)\n",
    "            # Accumulate\n",
    "            metrics['elbo'] += elbo.item()\n",
    "            metrics['rec']  += rec.item()\n",
    "            metrics['kl_z'] += kl_z.item()\n",
    "            metrics['kl_l'] += kl_l.item()\n",
    "            metrics['acc']  += acc * bsz\n",
    "            metrics['corr'] += corr * bsz\n",
    "            n_samples += bsz\n",
    "        return {k: v / n_samples for k, v in metrics.items()}\n",
    "\n",
    "    @torch.no_grad()\n",
    "    def test_epoch(self):\n",
    "        self.model.eval()\n",
    "        metrics = { 'elbo':0, 'rec':0, 'kl_z':0, 'kl_l':0, 'acc':0, 'corr':0 }\n",
    "        n_samples = 0\n",
    "        for x in self.test_loader:\n",
    "            x = x.to(self.device).float()\n",
    "            \n",
    "            elbo, rec, kl_z, kl_l = compute_elbo(\n",
    "                self.model, x,\n",
    "                self.kl_weight,\n",
    "                self.mu_l_prior,\n",
    "                self.sigma_l_prior\n",
    "            )\n",
    "            \n",
    "            # Metrics\n",
    "            mu, theta, pi, *_ = self.model(x)\n",
    "            acc, corr = get_metrics(x, mu, theta, pi)\n",
    "            # Accumulate\n",
    "            bsz = x.size(0)\n",
    "            metrics['elbo'] += elbo.item()\n",
    "            metrics['rec']  += rec.item()\n",
    "            metrics['kl_z'] += kl_z.item()\n",
    "            metrics['kl_l'] += kl_l.item()\n",
    "            metrics['acc']  += acc * bsz\n",
    "            metrics['corr'] += corr * bsz\n",
    "            n_samples += bsz\n",
    "        return {k: v / n_samples for k, v in metrics.items()}"
   ]
  },
  {
   "cell_type": "code",
   "execution_count": 79,
   "id": "3d6735cd-cc75-4ecd-b60e-75bd8a052c3e",
   "metadata": {},
   "outputs": [
    {
     "name": "stderr",
     "output_type": "stream",
     "text": [
      " 10%|█         | 10/100 [04:51<43:43, 29.15s/it]"
     ]
    },
    {
     "name": "stdout",
     "output_type": "stream",
     "text": [
      "Epoch 010 | Train ELBO: 443.947, Test ELBO: 499.290 | Rec: 426.564/482.583 | KL_z: 15.538/14.932 | KL_l: 1.845/1.775\n"
     ]
    },
    {
     "name": "stderr",
     "output_type": "stream",
     "text": [
      " 20%|██        | 20/100 [09:43<39:01, 29.27s/it]"
     ]
    },
    {
     "name": "stdout",
     "output_type": "stream",
     "text": [
      "Epoch 020 | Train ELBO: 432.689, Test ELBO: 466.531 | Rec: 415.280/449.384 | KL_z: 15.742/15.456 | KL_l: 1.668/1.691\n"
     ]
    },
    {
     "name": "stderr",
     "output_type": "stream",
     "text": [
      " 30%|███       | 30/100 [14:36<34:17, 29.39s/it]"
     ]
    },
    {
     "name": "stdout",
     "output_type": "stream",
     "text": [
      "Epoch 030 | Train ELBO: 429.761, Test ELBO: 458.456 | Rec: 411.760/440.624 | KL_z: 16.321/16.181 | KL_l: 1.680/1.651\n"
     ]
    },
    {
     "name": "stderr",
     "output_type": "stream",
     "text": [
      " 40%|████      | 40/100 [19:30<29:29, 29.49s/it]"
     ]
    },
    {
     "name": "stdout",
     "output_type": "stream",
     "text": [
      "Epoch 040 | Train ELBO: 428.236, Test ELBO: 457.964 | Rec: 409.818/439.717 | KL_z: 16.735/16.565 | KL_l: 1.683/1.681\n"
     ]
    },
    {
     "name": "stderr",
     "output_type": "stream",
     "text": [
      " 50%|█████     | 50/100 [24:24<24:24, 29.28s/it]"
     ]
    },
    {
     "name": "stdout",
     "output_type": "stream",
     "text": [
      "Epoch 050 | Train ELBO: 427.127, Test ELBO: 455.731 | Rec: 408.450/437.399 | KL_z: 16.996/16.666 | KL_l: 1.681/1.666\n"
     ]
    },
    {
     "name": "stderr",
     "output_type": "stream",
     "text": [
      " 60%|██████    | 60/100 [29:18<19:37, 29.44s/it]"
     ]
    },
    {
     "name": "stdout",
     "output_type": "stream",
     "text": [
      "Epoch 060 | Train ELBO: 426.455, Test ELBO: 456.879 | Rec: 407.627/438.274 | KL_z: 17.149/16.973 | KL_l: 1.679/1.631\n"
     ]
    },
    {
     "name": "stderr",
     "output_type": "stream",
     "text": [
      " 61%|██████    | 61/100 [29:58<19:09, 29.48s/it]\n"
     ]
    },
    {
     "ename": "KeyboardInterrupt",
     "evalue": "",
     "output_type": "error",
     "traceback": [
      "\u001b[0;31m---------------------------------------------------------------------------\u001b[0m",
      "\u001b[0;31mKeyboardInterrupt\u001b[0m                         Traceback (most recent call last)",
      "\u001b[0;32m/tmp/ipykernel_109255/496852009.py\u001b[0m in \u001b[0;36m<cell line: 27>\u001b[0;34m()\u001b[0m\n\u001b[1;32m     26\u001b[0m \u001b[0mtrain_ms\u001b[0m\u001b[0;34m,\u001b[0m \u001b[0mtest_ms\u001b[0m \u001b[0;34m=\u001b[0m \u001b[0;34m[\u001b[0m\u001b[0;34m]\u001b[0m\u001b[0;34m,\u001b[0m \u001b[0;34m[\u001b[0m\u001b[0;34m]\u001b[0m\u001b[0;34m\u001b[0m\u001b[0;34m\u001b[0m\u001b[0m\n\u001b[1;32m     27\u001b[0m \u001b[0;32mfor\u001b[0m \u001b[0mepoch\u001b[0m \u001b[0;32min\u001b[0m \u001b[0mtqdm\u001b[0m\u001b[0;34m(\u001b[0m\u001b[0mrange\u001b[0m\u001b[0;34m(\u001b[0m\u001b[0;36m1\u001b[0m\u001b[0;34m,\u001b[0m \u001b[0mepochs\u001b[0m\u001b[0;34m+\u001b[0m\u001b[0;36m1\u001b[0m\u001b[0;34m)\u001b[0m\u001b[0;34m)\u001b[0m\u001b[0;34m:\u001b[0m\u001b[0;34m\u001b[0m\u001b[0;34m\u001b[0m\u001b[0m\n\u001b[0;32m---> 28\u001b[0;31m     \u001b[0mtrain_m\u001b[0m \u001b[0;34m=\u001b[0m \u001b[0mtrainer\u001b[0m\u001b[0;34m.\u001b[0m\u001b[0mtrain_epoch\u001b[0m\u001b[0;34m(\u001b[0m\u001b[0;34m)\u001b[0m\u001b[0;34m\u001b[0m\u001b[0;34m\u001b[0m\u001b[0m\n\u001b[0m\u001b[1;32m     29\u001b[0m     \u001b[0mtest_m\u001b[0m  \u001b[0;34m=\u001b[0m \u001b[0mtrainer\u001b[0m\u001b[0;34m.\u001b[0m\u001b[0mtest_epoch\u001b[0m\u001b[0;34m(\u001b[0m\u001b[0;34m)\u001b[0m\u001b[0;34m\u001b[0m\u001b[0;34m\u001b[0m\u001b[0m\n\u001b[1;32m     30\u001b[0m     \u001b[0;32mif\u001b[0m\u001b[0;34m(\u001b[0m\u001b[0mepoch\u001b[0m\u001b[0;34m%\u001b[0m\u001b[0;36m10\u001b[0m\u001b[0;34m==\u001b[0m\u001b[0;36m0\u001b[0m\u001b[0;34m)\u001b[0m\u001b[0;34m:\u001b[0m\u001b[0;34m\u001b[0m\u001b[0;34m\u001b[0m\u001b[0m\n",
      "\u001b[0;32m/tmp/ipykernel_109255/2662596527.py\u001b[0m in \u001b[0;36mtrain_epoch\u001b[0;34m(self)\u001b[0m\n\u001b[1;32m     54\u001b[0m \u001b[0;34m\u001b[0m\u001b[0m\n\u001b[1;32m     55\u001b[0m             \u001b[0mself\u001b[0m\u001b[0;34m.\u001b[0m\u001b[0moptimizer\u001b[0m\u001b[0;34m.\u001b[0m\u001b[0mzero_grad\u001b[0m\u001b[0;34m(\u001b[0m\u001b[0;34m)\u001b[0m\u001b[0;34m\u001b[0m\u001b[0;34m\u001b[0m\u001b[0m\n\u001b[0;32m---> 56\u001b[0;31m             elbo, rec, kl_z, kl_l = compute_elbo(\n\u001b[0m\u001b[1;32m     57\u001b[0m                 \u001b[0mself\u001b[0m\u001b[0;34m.\u001b[0m\u001b[0mmodel\u001b[0m\u001b[0;34m,\u001b[0m \u001b[0mx\u001b[0m\u001b[0;34m,\u001b[0m\u001b[0;34m\u001b[0m\u001b[0;34m\u001b[0m\u001b[0m\n\u001b[1;32m     58\u001b[0m                 \u001b[0mself\u001b[0m\u001b[0;34m.\u001b[0m\u001b[0mkl_weight\u001b[0m\u001b[0;34m,\u001b[0m\u001b[0;34m\u001b[0m\u001b[0;34m\u001b[0m\u001b[0m\n",
      "\u001b[0;32m/tmp/ipykernel_109255/2659085096.py\u001b[0m in \u001b[0;36mcompute_elbo\u001b[0;34m(model, x, kl_weight, mu_l_prior, sigma_l_prior)\u001b[0m\n\u001b[1;32m     24\u001b[0m     \u001b[0mvar_l\u001b[0m \u001b[0;34m=\u001b[0m \u001b[0mtorch\u001b[0m\u001b[0;34m.\u001b[0m\u001b[0mexp\u001b[0m\u001b[0;34m(\u001b[0m\u001b[0mlogvar_l\u001b[0m\u001b[0;34m)\u001b[0m\u001b[0;34m\u001b[0m\u001b[0;34m\u001b[0m\u001b[0m\n\u001b[1;32m     25\u001b[0m     kl_l = 0.5 * torch.sum(\n\u001b[0;32m---> 26\u001b[0;31m         \u001b[0;34m(\u001b[0m\u001b[0mvar_l\u001b[0m \u001b[0;34m+\u001b[0m \u001b[0;34m(\u001b[0m\u001b[0mmu_l\u001b[0m \u001b[0;34m-\u001b[0m \u001b[0mmu_l_prior\u001b[0m\u001b[0;34m)\u001b[0m\u001b[0;34m.\u001b[0m\u001b[0mpow\u001b[0m\u001b[0;34m(\u001b[0m\u001b[0;36m2\u001b[0m\u001b[0;34m)\u001b[0m\u001b[0;34m)\u001b[0m \u001b[0;34m/\u001b[0m \u001b[0;34m(\u001b[0m\u001b[0msigma_l_prior\u001b[0m\u001b[0;34m**\u001b[0m\u001b[0;36m2\u001b[0m\u001b[0;34m)\u001b[0m\u001b[0;34m\u001b[0m\u001b[0;34m\u001b[0m\u001b[0m\n\u001b[0m\u001b[1;32m     27\u001b[0m         \u001b[0;34m-\u001b[0m \u001b[0;36m1\u001b[0m \u001b[0;34m-\u001b[0m \u001b[0mlogvar_l\u001b[0m \u001b[0;34m+\u001b[0m \u001b[0;36m2\u001b[0m \u001b[0;34m*\u001b[0m \u001b[0mtorch\u001b[0m\u001b[0;34m.\u001b[0m\u001b[0mlog\u001b[0m\u001b[0;34m(\u001b[0m\u001b[0msigma_l_prior\u001b[0m\u001b[0;34m)\u001b[0m\u001b[0;34m\u001b[0m\u001b[0;34m\u001b[0m\u001b[0m\n\u001b[1;32m     28\u001b[0m     )\n",
      "\u001b[0;31mKeyboardInterrupt\u001b[0m: "
     ]
    }
   ],
   "source": [
    "input_dim = X_test.shape[1]\n",
    "latent_dim = 128\n",
    "hidden_dim = 1024\n",
    "dropout = 0.1\n",
    "lr = 1e-4\n",
    "weight_decay = 1e-4\n",
    "epochs = 100\n",
    "steps_per_epoch = len(train_DS)\n",
    "total_steps = epochs*steps_per_epoch\n",
    "kl_weight = 1.0\n",
    "mu_l_prior = mu0_prior     \n",
    "sigma_l_prior = sigma0_prior\n",
    "\n",
    "# device = \"cpu\"\n",
    "\n",
    "model = scviVAE(input_dim, latent_dim, hidden_dim, dropout)\n",
    "optimizer = torch.optim.AdamW(model.parameters(), lr=lr, weight_decay=weight_decay)\n",
    "scheduler = torch.optim.lr_scheduler.CosineAnnealingLR(optimizer, \n",
    "                                                       T_max=total_steps, # number of steps to divide the annealing process\n",
    "                                                       eta_min=1e-6)\n",
    "trainer = Trainer(\n",
    "    model, train_DS, test_DS, optimizer, scheduler, \n",
    "    device, kl_weight, mu_l_prior, sigma_l_prior\n",
    ")\n",
    "\n",
    "train_ms, test_ms = [], []\n",
    "for epoch in tqdm(range(1, epochs+1)):\n",
    "    train_m = trainer.train_epoch()\n",
    "    test_m  = trainer.test_epoch()\n",
    "    if(epoch%10==0):\n",
    "        print(f\"Epoch {epoch:03d} | \"\n",
    "          f\"Train ELBO: {train_m['elbo']:.3f}, Test ELBO: {test_m['elbo']:.3f} | \"\n",
    "          f\"Rec: {train_m['rec']:.3f}/{test_m['rec']:.3f} | \"\n",
    "          f\"KL_z: {train_m['kl_z']:.3f}/{test_m['kl_z']:.3f} | \"\n",
    "          f\"KL_l: {train_m['kl_l']:.3f}/{test_m['kl_l']:.3f}\")\n",
    "    train_ms.append(train_m)\n",
    "    test_ms.append(test_m)\n",
    "\n",
    "# torch.save(model.state_dict(), 'full_scvi_like.pth')"
   ]
  },
  {
   "cell_type": "code",
   "execution_count": 86,
   "id": "fe78bc30-8a39-4167-8244-95344c3d9420",
   "metadata": {},
   "outputs": [
    {
     "data": {
      "image/png": "[encoded data removed]",
      "text/plain": [
       "<Figure size 432x288 with 1 Axes>"
      ]
     },
     "metadata": {
      "needs_background": "light"
     },
     "output_type": "display_data"
    }
   ],
   "source": [
    "train_corrs = [i[\"corr\"] for i in train_ms]\n",
    "train_accs = [i[\"acc\"] for i in train_ms]\n",
    "\n",
    "test_corrs = [i[\"corr\"] for i in test_ms]\n",
    "test_accs = [i[\"acc\"] for i in test_ms]\n",
    "\n",
    "plt.plot(train_corrs, label=\"training\")\n",
    "plt.plot(test_corrs, label=\"test\")\n",
    "plt.xlabel(\"epochs\")\n",
    "plt.ylabel(\"Avr Pearson correlation by sample\")\n",
    "plt.legend()\n",
    "plt.show()"
   ]
  },
  {
   "cell_type": "code",
   "execution_count": 107,
   "id": "8c0ff7cd-44ec-4281-8f56-1bcb0f6e4d0c",
   "metadata": {},
   "outputs": [
    {
     "data": {
      "text/plain": [
       "<All keys matched successfully>"
      ]
     },
     "execution_count": 107,
     "metadata": {},
     "output_type": "execute_result"
    }
   ],
   "source": [
    "state_dict = torch.load('full_scvi_like.pth')\n",
    "model1 = scviVAE(input_dim, latent_dim, hidden_dim, dropout)\n",
    "model1.load_state_dict(state_dict)"
   ]
  },
  {
   "cell_type": "code",
   "execution_count": 159,
   "id": "af4cda4b-df03-48d9-b32b-92ce226e3e79",
   "metadata": {},
   "outputs": [
    {
     "name": "stderr",
     "output_type": "stream",
     "text": [
      "100%|██████████| 149/149 [00:00<00:00, 177.65it/s]\n"
     ]
    }
   ],
   "source": [
    "# show the dist of data/prediction\n",
    "model1.eval()\n",
    "model1.to(device)\n",
    "all_xs = []\n",
    "all_mus = []\n",
    "for x in tqdm(test_DS):\n",
    "    x = x.to(device).float()\n",
    "    mu, theta, pi, mu_z, logvar_z, mu_l, logvar_l = model1(torch.log10(1+x))\n",
    "    bern = torch.bernoulli(pi)\n",
    "    probs = theta / (theta + mu)        \n",
    "    nb_dist = torch.distributions.NegativeBinomial(total_count=theta, probs=probs)\n",
    "    nb_sample = nb_dist.sample()\n",
    "    zinb_sample = torch.where(bern.bool(), torch.zeros_like(nb_sample), nb_sample)\n",
    "    all_xs.append(x.detach().cpu().numpy())\n",
    "    all_mus.append(mu.detach().cpu().numpy())\n",
    "# plt.hist(X_test_scaled.flatten().numpy(), bins=50, alpha=0.4)\n",
    "# plt.yscale(\"log\")"
   ]
  },
  {
   "cell_type": "code",
   "execution_count": 160,
   "id": "3400e8ab-a96e-4c8c-829f-db6afdbe1dea",
   "metadata": {},
   "outputs": [
    {
     "data": {
      "image/png": "[encoded data removed]",
      "text/plain": [
       "<Figure size 432x288 with 1 Axes>"
      ]
     },
     "metadata": {
      "needs_background": "light"
     },
     "output_type": "display_data"
    }
   ],
   "source": [
    "x = np.vstack(all_xs)\n",
    "mu = np.vstack(all_mus)\n",
    "true_x_list = np.log10(1+x)\n",
    "recon_x_list = np.log10(1+mu)\n",
    "plt.hist2d(x=true_x_list.flatten(), y=recon_x_list.flatten(), norm=matplotlib.colors.PowerNorm(0.1), cmap='plasma', bins=50)\n",
    "plt.plot([0, 5], [0, 5], color=\"r\")\n",
    "plt.xlabel(\"True\")\n",
    "plt.ylabel(\"Pred\")\n",
    "plt.show()"
   ]
  },
  {
   "cell_type": "code",
   "execution_count": 161,
   "id": "1e1e98f7-fd6a-4acc-90f9-7b015c64a3cd",
   "metadata": {},
   "outputs": [
    {
     "data": {
      "image/png": "[encoded data removed]",
      "text/plain": [
       "<Figure size 432x288 with 1 Axes>"
      ]
     },
     "metadata": {
      "needs_background": "light"
     },
     "output_type": "display_data"
    }
   ],
   "source": [
    "# spearman r by species\n",
    "coeffs = []\n",
    "for i in range(true_x_list.shape[1]):\n",
    "    if not np.isnan(stats.spearmanr(true_x_list[:, i], recon_x_list[:, i])[0]):\n",
    "        coeffs.append(stats.spearmanr(true_x_list[:, i], recon_x_list[:, i]))\n",
    "coeffs_sorted = sorted(enumerate(coeffs), key=lambda x: x[1], reverse=True)\n",
    "plt.scatter(range(len(coeffs)), [val[0] for (idx, val) in coeffs_sorted], color=\"k\", alpha=0.2)\n",
    "plt.axhline(0.5, color=\"k\", linestyle=\"-.\")\n",
    "plt.xlabel(\"Rank\")\n",
    "plt.ylabel(\"Spearman r of each species\")\n",
    "plt.show()"
   ]
  },
  {
   "cell_type": "code",
   "execution_count": null,
   "id": "7ecb4aa8-a853-4983-a4b6-e64a5aa84b8b",
   "metadata": {},
   "outputs": [],
   "source": []
  },
  {
   "cell_type": "code",
   "execution_count": null,
   "id": "4397195f-8f06-44b8-8789-282d901c5496",
   "metadata": {},
   "outputs": [],
   "source": []
  }
 ],
 "metadata": {
  "kernelspec": {
   "display_name": "custom_torch",
   "language": "python",
   "name": "torch"
  },
  "language_info": {
   "codemirror_mode": {
    "name": "ipython",
    "version": 3
   },
   "file_extension": ".py",
   "mimetype": "text/x-python",
   "name": "python",
   "nbconvert_exporter": "python",
   "pygments_lexer": "ipython3",
   "version": "3.9.12"
  }
 },
 "nbformat": 4,
 "nbformat_minor": 5
}
