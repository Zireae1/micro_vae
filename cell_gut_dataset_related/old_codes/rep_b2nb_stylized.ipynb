{
 "cells": [
  {
   "cell_type": "code",
   "execution_count": 2,
   "id": "183509a8-77d0-4993-ad54-4a6163c87c0e",
   "metadata": {},
   "outputs": [
    {
     "name": "stdout",
     "output_type": "stream",
     "text": [
      "cuda:0\n"
     ]
    }
   ],
   "source": [
    "import torch\n",
    "import torch.nn as nn\n",
    "import torch.nn.functional as F\n",
    "from torch.distributions import Categorical\n",
    "import matplotlib.pyplot as plt\n",
    "import matplotlib\n",
    "import pandas as pd\n",
    "import numpy as np\n",
    "import pickle\n",
    "from torch.utils.data import Dataset, TensorDataset, DataLoader\n",
    "from sklearn.model_selection import train_test_split\n",
    "from sklearn import preprocessing\n",
    "from sklearn.preprocessing import StandardScaler, RobustScaler, MaxAbsScaler\n",
    "from scipy import stats\n",
    "from tqdm import tqdm\n",
    "# from skbio.stats.composition import clr\n",
    "use_cuda = torch.cuda.is_available()\n",
    "device = torch.device('cuda:0' if use_cuda else 'cpu')\n",
    "print(device)\n",
    "\n",
    "from utils import *\n",
    "\n",
    "# later could use comet_ml for hyperparam optm\n",
    "# import comet_ml\n",
    "# API_KEY=\n",
    "# experiment = Experiment(\n",
    "#     api_key=API_KEY,\n",
    "#     project_name=\"\",\n",
    "#     workspace=\"\",\n",
    "# )"
   ]
  },
  {
   "cell_type": "markdown",
   "id": "684b55a3-3607-419e-a81a-94bccca163ef",
   "metadata": {},
   "source": [
    "### Create datasets"
   ]
  },
  {
   "cell_type": "code",
   "execution_count": 1,
   "id": "c719509c-d3cd-40d8-8249-44fbee83c25e",
   "metadata": {},
   "outputs": [
    {
     "ename": "NameError",
     "evalue": "name 'pickle' is not defined",
     "output_type": "error",
     "traceback": [
      "\u001b[0;31m---------------------------------------------------------------------------\u001b[0m",
      "\u001b[0;31mNameError\u001b[0m                                 Traceback (most recent call last)",
      "\u001b[0;32m/tmp/ipykernel_1606750/4086471924.py\u001b[0m in \u001b[0;36m<cell line: 3>\u001b[0;34m()\u001b[0m\n\u001b[1;32m      1\u001b[0m \u001b[0;31m## preprocess this subset of data\u001b[0m\u001b[0;34m\u001b[0m\u001b[0;34m\u001b[0m\u001b[0m\n\u001b[1;32m      2\u001b[0m \u001b[0mp_data\u001b[0m\u001b[0;34m,\u001b[0m \u001b[0mn_data\u001b[0m \u001b[0;34m=\u001b[0m \u001b[0;34m\"data/orig_species_10k.pkl\"\u001b[0m\u001b[0;34m,\u001b[0m \u001b[0;34m\"\"\u001b[0m\u001b[0;34m\u001b[0m\u001b[0;34m\u001b[0m\u001b[0m\n\u001b[0;32m----> 3\u001b[0;31m \u001b[0mdata_df\u001b[0m \u001b[0;34m=\u001b[0m \u001b[0mpickle\u001b[0m\u001b[0;34m.\u001b[0m\u001b[0mload\u001b[0m\u001b[0;34m(\u001b[0m\u001b[0mopen\u001b[0m\u001b[0;34m(\u001b[0m\u001b[0mp_data\u001b[0m\u001b[0;34m,\u001b[0m \u001b[0;34m\"rb\"\u001b[0m\u001b[0;34m)\u001b[0m\u001b[0;34m)\u001b[0m\u001b[0;34m\u001b[0m\u001b[0;34m\u001b[0m\u001b[0m\n\u001b[0m\u001b[1;32m      4\u001b[0m \u001b[0midx\u001b[0m\u001b[0;34m,\u001b[0m \u001b[0mdata_df\u001b[0m \u001b[0;34m=\u001b[0m \u001b[0mdata_df\u001b[0m\u001b[0;34m.\u001b[0m\u001b[0miloc\u001b[0m\u001b[0;34m[\u001b[0m\u001b[0;34m:\u001b[0m\u001b[0;34m,\u001b[0m \u001b[0;34m:\u001b[0m\u001b[0;36m1\u001b[0m\u001b[0;34m]\u001b[0m\u001b[0;34m,\u001b[0m \u001b[0mdata_df\u001b[0m\u001b[0;34m.\u001b[0m\u001b[0miloc\u001b[0m\u001b[0;34m[\u001b[0m\u001b[0;34m:\u001b[0m\u001b[0;34m,\u001b[0m \u001b[0;36m1\u001b[0m\u001b[0;34m:\u001b[0m\u001b[0;34m]\u001b[0m\u001b[0;34m\u001b[0m\u001b[0;34m\u001b[0m\u001b[0m\n\u001b[1;32m      5\u001b[0m \u001b[0;34m\u001b[0m\u001b[0m\n",
      "\u001b[0;31mNameError\u001b[0m: name 'pickle' is not defined"
     ]
    }
   ],
   "source": [
    "## preprocess this subset of data\n",
    "p_data, n_data = \"data/orig_species_10k.pkl\", \"\"\n",
    "data_df = pickle.load(open(p_data, \"rb\"))\n",
    "idx, data_df = data_df.iloc[:, :1], data_df.iloc[:, 1:]\n",
    "\n",
    "# remove emtpy samples first\n",
    "idx = idx.loc[data_df.sum(axis=1) >= 0]\n",
    "data_df = data_df.loc[data_df.sum(axis=1) >= 0]\n",
    "'''\n",
    "remove the samples w/ low total abundance. \n",
    "I checked that total abundance ~lognormal; remove the <-2sigma (~5%) lowest samples. \n",
    "'''\n",
    "lower_bound = np.exp(np.mean(np.log(data_df.sum(axis=1)))-2*np.std(np.log(data_df.sum(axis=1))))\n",
    "idx = idx.loc[data_df.sum(axis=1) >= lower_bound]\n",
    "data_df = data_df.loc[data_df.sum(axis=1) >= lower_bound]\n",
    "\n",
    "## remove the rare species (present in <5% samples)\n",
    "n_samples = data_df.shape[0]\n",
    "data_df = data_df.loc[:, (data_df>0).sum(axis=0) >= 0.05*n_samples]\n",
    "\n",
    "## normalize to relative abundance\n",
    "data_df = data_df.div(data_df.sum(axis=1), axis=0)\n",
    "# data_df = pd.concat([idx, data_df], axis=1)\n",
    "\n",
    "## separate train and test\n",
    "features = (data_df>0).values.astype(float)\n",
    "labels = data_df.values\n",
    "X_train, X_test, y_train, y_test = train_test_split(features, labels, test_size=0.2, random_state=42)\n",
    "\n",
    "## clr transformation for outputs\n",
    "zero_thr = 1e-8\n",
    "gmean_train = (np.exp(np.nansum(np.log(y_train[y_train > 0]+zero_thr)) / np.size(y_train)))\n",
    "y_train_clr = np.log((y_train+zero_thr)/gmean_train)\n",
    "y_test_clr = np.log((y_test+zero_thr)/gmean_train)\n",
    "\n",
    "## rescale the data\n",
    "scaler = preprocessing.MaxAbsScaler().fit(y_train_clr)\n",
    "# scaler = preprocessing.RobustScaler().fit(y_train_clr)\n",
    "y_train_scaled = scaler.transform(y_train_clr)\n",
    "y_test_scaled = scaler.transform(y_test_clr)\n",
    "\n",
    "## transform to tensors\n",
    "X_train_scaled=torch.from_numpy(X_train).float()\n",
    "y_train_scaled=torch.from_numpy(y_train_scaled).float()\n",
    "X_test_scaled=torch.from_numpy(X_test).float()\n",
    "y_test_scaled=torch.from_numpy(y_test_scaled).float()\n",
    "\n",
    "## make dataset\n",
    "class CustomDataset(Dataset):\n",
    "    def __init__(self, features, labels, device=None):\n",
    "        self.labels = labels\n",
    "        self.features = features\n",
    "    \n",
    "    def __len__(self):\n",
    "        return len(self.labels)\n",
    "    \n",
    "    def __getitem__(self, idx):\n",
    "        label = self.labels[idx]\n",
    "        data = self.features[idx]\n",
    "        return {\"Features\": data, \"Labels\": label}\n",
    "    \n",
    "Train = CustomDataset(X_train_scaled, y_train_scaled)\n",
    "Test = CustomDataset(X_test_scaled, y_test_scaled)\n",
    "\n",
    "## create batch spits of data\n",
    "kwargs = {'num_workers': 4, 'pin_memory': True} if use_cuda else {}\n",
    "train_DS = DataLoader(Train, batch_size=100, shuffle=True, drop_last=True, **kwargs)\n",
    "test_DS = DataLoader(Test, batch_size=100, shuffle=True, drop_last=True, **kwargs)"
   ]
  },
  {
   "cell_type": "code",
   "execution_count": 14,
   "id": "f2df18d4-47f6-4706-997b-c234a5383018",
   "metadata": {},
   "outputs": [
    {
     "data": {
      "image/png": "[encoded data removed]",
      "text/plain": [
       "<Figure size 432x288 with 1 Axes>"
      ]
     },
     "metadata": {
      "needs_background": "light"
     },
     "output_type": "display_data"
    }
   ],
   "source": [
    "plt.hist(y_test_scaled.numpy().flatten(), bins=40)\n",
    "plt.yscale(\"log\")"
   ]
  },
  {
   "cell_type": "code",
   "execution_count": 15,
   "id": "50b36eeb-f47d-4959-89f3-9910b1b76a22",
   "metadata": {},
   "outputs": [
    {
     "data": {
      "text/plain": [
       "(9670, 217)"
      ]
     },
     "execution_count": 15,
     "metadata": {},
     "output_type": "execute_result"
    }
   ],
   "source": [
    "features.shape"
   ]
  },
  {
   "cell_type": "markdown",
   "id": "15c9f4d4-487b-476a-a5c4-c79dfd1d6606",
   "metadata": {},
   "source": [
    "### Implement VAE"
   ]
  },
  {
   "cell_type": "code",
   "execution_count": null,
   "id": "332e76f1-15b2-434c-ac71-d6eb457c5a40",
   "metadata": {},
   "outputs": [],
   "source": []
  },
  {
   "cell_type": "code",
   "execution_count": 16,
   "id": "19024a04-20f7-4611-b61e-8b74449088c6",
   "metadata": {},
   "outputs": [],
   "source": [
    "def compute_loss(model, features, labels, weights):\n",
    "    recon_x, mu, logvar = model(features)\n",
    "    recon_loss = F.mse_loss(recon_x, labels, reduction=\"sum\")\n",
    "    '''\n",
    "    new recon_loss: if \n",
    "    '''\n",
    "    kl_loss = -0.5 * torch.sum(1 + logvar - mu.pow(2) - logvar.exp())\n",
    "    loss = weights[0]*recon_loss + weights[1]*kl_loss\n",
    "    return recon_x, loss, weights[0]*recon_loss, weights[1]*kl_loss\n",
    "\n",
    "def gaussian_nll(y_true, mu, logvar, mask):\n",
    "    # mask: same shape as y_true, 1 for valid, 0 for -1 positions\n",
    "    # add eps for numerical stability\n",
    "    var = torch.exp(logvar) + 1e-6\n",
    "    nll = 0.5 * (logvar + (y_true - mu)**2 / var)\n",
    "    return torch.sum(nll * mask)\n",
    "\n",
    "def compute_loss_2(model, features, labels, weights):\n",
    "    b, nb, mu, logvar = model(features)\n",
    "    mask = (labels!=-1).float()\n",
    "    \n",
    "    bce_loss = F.binary_cross_entropy(b, mask, reduction='sum')\n",
    "    recon_loss = torch.sum(F.mse_loss(nb, labels, reduction=\"none\") * mask)\n",
    "\n",
    "    kl_loss = -0.5 * torch.sum(1 + logvar - mu.pow(2) - logvar.exp())\n",
    "    loss = weights[0]*recon_loss + weights[1]*bce_loss + weights[2]*kl_loss\n",
    "    return b, nb, loss, weights[0]*recon_loss, weights[1]*bce_loss, weights[2]*kl_loss"
   ]
  },
  {
   "cell_type": "code",
   "execution_count": 17,
   "id": "4c2c459c-d322-4085-b36b-5e95ec9dd962",
   "metadata": {},
   "outputs": [],
   "source": [
    "class VAETrainer:\n",
    "    def __init__(self, model, train_loader, test_loader, optimizer, weights, device=\"cuda:0\"):\n",
    "        self.model = model.to(device)\n",
    "        self.train_loader = train_loader\n",
    "        self.test_loader = test_loader\n",
    "        self.optimizer = optimizer\n",
    "        self.weights = weights\n",
    "        self.device = device\n",
    "\n",
    "    def train_one_epoch(self, zero_thr):\n",
    "        self.model.train()\n",
    "        total_loss, total_recon_loss, total_bce_loss, total_kl_loss = 0, 0, 0, 0\n",
    "        total_acc = 0\n",
    "        total_len = 0\n",
    "        for batch in self.train_loader:\n",
    "            batch['Features'], batch['Labels'] = batch['Features'].to(device), batch['Labels'].to(device)\n",
    "            \n",
    "            self.optimizer.zero_grad()\n",
    "#             recon_x, loss, recon_loss, kl_loss = compute_loss(self.model, batch['Features'], batch['Labels'], self.weights)\n",
    "            b, nb, loss, recon_loss, bce_loss, kl_loss = compute_loss_2(self.model, batch['Features'], batch['Labels'], self.weights)\n",
    "            loss.backward()\n",
    "            self.optimizer.step()\n",
    "            \n",
    "            total_loss += loss.item()\n",
    "            total_recon_loss += recon_loss.item()\n",
    "            total_bce_loss += bce_loss.item()\n",
    "            total_kl_loss += kl_loss.item()\n",
    "            \n",
    "#             out = ((recon_x.detach())>zero_thr).float()\n",
    "            out = (b.detach()>0.5).float()\n",
    "            total_acc += (out == batch['Features']).float().sum().item() # for binary-abundance\n",
    "            total_len += batch[\"Features\"].shape[0]\n",
    "\n",
    "        return total_loss / total_len, \\\n",
    "               total_recon_loss / total_len, \\\n",
    "               total_bce_loss / total_len, \\\n",
    "               total_kl_loss / total_len, \\\n",
    "               total_acc / total_len / batch[\"Features\"].shape[1]\n",
    "\n",
    "    @torch.no_grad()\n",
    "    def test_one_epoch(self, zero_thr):\n",
    "        self.model.eval()\n",
    "        total_loss, total_recon_loss, total_bce_loss, total_kl_loss = 0, 0, 0, 0\n",
    "        total_acc = 0\n",
    "        total_len = 0\n",
    "        for batch in self.test_loader:\n",
    "            batch['Features'], batch['Labels'] = batch['Features'].to(device), batch['Labels'].to(device)\n",
    "            \n",
    "#             recon_x, loss, recon_loss, kl_loss = compute_loss(self.model, batch['Features'], batch['Labels'], self.weights)\n",
    "            b, nb, loss, recon_loss, bce_loss, kl_loss = compute_loss_2(self.model, batch['Features'], batch['Labels'], self.weights)\n",
    "            \n",
    "            total_loss += loss.item()\n",
    "            total_recon_loss += recon_loss.item()\n",
    "            total_bce_loss += bce_loss.item()\n",
    "            total_kl_loss += kl_loss.item()\n",
    "            \n",
    "#             out = ((recon_x.detach())>zero_thr).float()\n",
    "            out = (b.detach()>0.5).float()\n",
    "            total_acc += (out == batch['Features']).float().sum().item() # for binary-abundance\n",
    "            total_len += batch[\"Features\"].shape[0]\n",
    "\n",
    "        return total_loss / total_len, \\\n",
    "               total_recon_loss / total_len, \\\n",
    "               total_bce_loss / total_len, \\\n",
    "               total_kl_loss / total_len, \\\n",
    "               total_acc / total_len / batch[\"Features\"].shape[1]"
   ]
  },
  {
   "cell_type": "code",
   "execution_count": 18,
   "id": "c04d684c-19bd-4e0a-b5ac-7146f4cc0b4c",
   "metadata": {},
   "outputs": [
    {
     "name": "stderr",
     "output_type": "stream",
     "text": [
      "100%|██████████| 100/100 [02:10<00:00,  1.30s/it]\n"
     ]
    }
   ],
   "source": [
    "input_dim = X_test.shape[1] \n",
    "hidden_dim = 2048\n",
    "latent_dim = 100\n",
    "epochs = 100\n",
    "lr = 1e-3\n",
    "weight_decay = 1e-4\n",
    "zero_thr = -0.8\n",
    "weights = [1.0, 1.0, 0.0]\n",
    "\n",
    "model = VAE_2(input_dim, latent_dim, hidden_dim).to(device)\n",
    "# optimizer = torch.optim.Adam(model.parameters(), lr=lr)\n",
    "optimizer = torch.optim.AdamW(\n",
    "    model.parameters(), \n",
    "    lr=lr,\n",
    "    weight_decay=weight_decay\n",
    ")\n",
    "\n",
    "trainer = VAETrainer(model, train_DS, test_DS, optimizer, weights, device)\n",
    "\n",
    "train_losses = []\n",
    "test_losses = []\n",
    "train_acc = []\n",
    "test_acc = []\n",
    "MSEs, BCEs, KLDs = [], [], []\n",
    "for epoch in tqdm(range(epochs)):\n",
    "#     recon_x, train_loss, MSE, KLD, acc = trainer.train_one_epoch(zero_thr)\n",
    "    train_loss, MSE, BCE, KLD, acc = trainer.train_one_epoch(zero_thr)\n",
    "    train_losses.append(train_loss)\n",
    "    train_acc.append(acc)\n",
    "    MSEs.append(MSE)\n",
    "    BCEs.append(BCE)\n",
    "    KLDs.append(KLD)\n",
    "    \n",
    "#     recon_x, test_loss, MSE, KLD, acc = trainer.test_one_epoch(zero_thr)\n",
    "    test_loss, MSE, BCE, KLD, acc = trainer.test_one_epoch(zero_thr)\n",
    "    test_losses.append(test_loss)\n",
    "    test_acc.append(acc)"
   ]
  },
  {
   "cell_type": "code",
   "execution_count": 19,
   "id": "57753ead-61dc-47e7-a24f-30f4d0f602f9",
   "metadata": {},
   "outputs": [
    {
     "data": {
      "image/png": "[encoded data removed]",
      "text/plain": [
       "<Figure size 432x288 with 1 Axes>"
      ]
     },
     "metadata": {
      "needs_background": "light"
     },
     "output_type": "display_data"
    },
    {
     "data": {
      "image/png": "[encoded data removed]",
      "text/plain": [
       "<Figure size 432x288 with 1 Axes>"
      ]
     },
     "metadata": {
      "needs_background": "light"
     },
     "output_type": "display_data"
    }
   ],
   "source": [
    "# training \n",
    "train_acc=np.array(train_acc)\n",
    "test_acc = np.array(test_acc)\n",
    "plt.plot(range(train_acc.shape[0]), train_acc*100, c='blue', label = \"train_acc\")\n",
    "plt.xlabel(\"Epoch\")\n",
    "plt.ylabel(\"Accuracy, %\")\n",
    "plt.ylim([0, 100])\n",
    "#     plt.xlim([0,1000])  # adjust the right leaving left unchanged\n",
    "plt.plot(range(test_acc.shape[0]), test_acc*100, c='red', label = \"test_acc\")\n",
    "prevalence=np.sum(X_train_scaled.numpy(), axis=0)/X_train.shape[0]\n",
    "prevalence[prevalence>=0.5]=1\n",
    "prevalence[prevalence<0.5]=0\n",
    "# horizontal line showing dumb predictions based on prevalence\n",
    "acc=(1-np.sum(np.abs(X_test_scaled.numpy()-prevalence))/X_test_scaled.shape[0]/prevalence.shape[0])*100\n",
    "plt.axhline(y = acc, color = 'orange', linestyle = '-.')\n",
    "\n",
    "# train_losses=np.array(train_losses)\n",
    "# test_losses=np.array(test_losses)\n",
    "# plt.plot(range(train_acc.shape[0]), train_losses*100/np.max(train_losses), c='blue', label = \"train_loss\", ls='--')\n",
    "# plt.plot(range(train_acc.shape[0]), test_losses*100/np.max(train_losses), c='red', label = \"test_loss\", ls='--')\n",
    "# plt.legend(frameon=False)\n",
    "plt.show()\n",
    "\n",
    "# show the losses\n",
    "lists = [MSEs, BCEs, KLDs]\n",
    "names = [\"MSE\", \"Binary\", \"KLD\"]\n",
    "for (yloss, loss_name) in zip(lists, names):\n",
    "    plt.plot(range(train_acc.shape[0]), yloss, label=loss_name)\n",
    "plt.legend()\n",
    "plt.xlabel(\"Epoch\")\n",
    "plt.ylabel(\"Loss\")\n",
    "plt.yscale(\"log\")\n",
    "plt.show()"
   ]
  },
  {
   "cell_type": "code",
   "execution_count": 20,
   "id": "882150cb-954e-46d9-a82d-1c1817ddc0a6",
   "metadata": {},
   "outputs": [
    {
     "data": {
      "image/png": "[encoded data removed]",
      "text/plain": [
       "<Figure size 432x288 with 1 Axes>"
      ]
     },
     "metadata": {
      "needs_background": "light"
     },
     "output_type": "display_data"
    },
    {
     "name": "stdout",
     "output_type": "stream",
     "text": [
      "(419678,) 412300\n"
     ]
    }
   ],
   "source": [
    "# compare initial and reconstructed features\n",
    "plt.hist(y_test_scaled.numpy().flatten(), bins=40, alpha=0.2, label=\"True\")\n",
    "all_recon = []\n",
    "for batch in test_DS:\n",
    "#     recon_x, loss, recon_loss, kl_loss = compute_loss(model, batch['Features'].to(device), batch['Labels'].to(device), weights)\n",
    "#     recon_x = recon_x.detach().cpu().numpy().flatten()\n",
    "#     recon_x[recon_x<zero_thr] = -1\n",
    "    b, nb, loss, recon_loss, bce_loss, kl_loss = compute_loss_2(model, batch['Features'].to(device), batch['Labels'].to(device), weights)\n",
    "    recon_x = (b>0.5).float()*nb + (b<0.5).float()*(-1)\n",
    "    recon_x = recon_x.detach().cpu().numpy().flatten()\n",
    "    all_recon.extend(list(recon_x))\n",
    "plt.hist(all_recon, bins=40, alpha=0.4, label=\"Pred\")\n",
    "plt.yscale(\"log\")\n",
    "plt.legend()\n",
    "plt.show()\n",
    "\n",
    "print(y_test_scaled.numpy().flatten().shape, len(all_recon))"
   ]
  },
  {
   "cell_type": "code",
   "execution_count": 22,
   "id": "a6073ce7-6848-4eda-b748-db9bc98fecb3",
   "metadata": {},
   "outputs": [
    {
     "data": {
      "image/png": "[encoded data removed]",
      "text/plain": [
       "<Figure size 432x288 with 1 Axes>"
      ]
     },
     "metadata": {
      "needs_background": "light"
     },
     "output_type": "display_data"
    },
    {
     "data": {
      "image/png": "[encoded data removed]",
      "text/plain": [
       "<Figure size 432x288 with 1 Axes>"
      ]
     },
     "metadata": {
      "needs_background": "light"
     },
     "output_type": "display_data"
    },
    {
     "name": "stdout",
     "output_type": "stream",
     "text": [
      "0.9495980397640431 Bacteria.Bacillota.Bacilli.Lactobacillales.Streptococcaceae.Lactococcus\n",
      "0.9454710509504466 Bacteria.Pseudomonadota.Gammaproteobacteria.Pseudomonadales.Moraxellaceae.Acinetobacter\n",
      "0.9454082193295412 Bacteria.Bacteroidota.Bacteroidia.Bacteroidales.Prevotellaceae.Segatella\n",
      "0.9379155470783965 Bacteria.NA.NA.NA.NA.NA\n",
      "0.9346147196021508 Bacteria.Fusobacteriota.Fusobacteriia.Fusobacteriales.Fusobacteriaceae.Fusobacterium\n",
      "0.9323477825831391 Bacteria.Bacillota.Bacilli.Erysipelotrichales.Erysipelotrichaceae.[Clostridium] innocuum group\n",
      "0.923990166597437 Bacteria.Bacillota.Clostridia.Lachnospirales.Lachnospiraceae.[Ruminococcus] gnavus group\n",
      "0.9219506148398319 Bacteria.Verrucomicrobiota.Verrucomicrobiia.Verrucomicrobiales.Akkermansiaceae.Akkermansia\n",
      "0.9195057889336042 Bacteria.Pseudomonadota.Gammaproteobacteria.Enterobacterales.Enterobacteriaceae.NA\n",
      "0.9192665273861372 Bacteria.Bacillota.Clostridia.Oscillospirales.Oscillospiraceae.UCG-002\n",
      "0.917003616204486 Bacteria.Bacillota.Clostridia.Lachnospirales.Lachnospiraceae.Faecalimonas\n",
      "0.9165836223036273 NA.NA.NA.NA.NA.NA\n",
      "0.9144660512740826 Bacteria.Bacillota.Bacilli.Erysipelotrichales.Erysipelatoclostridiaceae.Thomasclavelia\n",
      "0.9143645901916091 Bacteria.Bacillota.Negativicutes.Veillonellales-Selenomonadales.Veillonellaceae.Veillonella\n",
      "0.9135939687243843 Bacteria.Bacillota.Bacilli.Erysipelotrichales.Erysipelatoclostridiaceae.Erysipelotrichaceae UCG-003\n",
      "0.9134867631991187 Bacteria.Pseudomonadota.Gammaproteobacteria.Enterobacterales.Pasteurellaceae.Haemophilus\n",
      "0.9123417921063578 Bacteria.Pseudomonadota.Gammaproteobacteria.Enterobacterales.Enterobacteriaceae.Klebsiella\n",
      "0.9109897868881714 Bacteria.Actinomycetota.Actinobacteria.Actinomycetales.Actinomycetaceae.Schaalia\n",
      "0.910138017388759 Bacteria.Thermodesulfobacteriota.Desulfovibrionia.Desulfovibrionales.Desulfovibrionaceae.Bilophila\n",
      "0.9070995600977587 Bacteria.Bacillota.Negativicutes.Acidaminococcales.Acidaminococcaceae.Phascolarctobacterium\n"
     ]
    },
    {
     "data": {
      "text/plain": [
       "Text(0, 0.5, 'Spearman r')"
      ]
     },
     "execution_count": 22,
     "metadata": {},
     "output_type": "execute_result"
    },
    {
     "data": {
      "image/png": "[encoded data removed]",
      "text/plain": [
       "<Figure size 432x288 with 1 Axes>"
      ]
     },
     "metadata": {
      "needs_background": "light"
     },
     "output_type": "display_data"
    }
   ],
   "source": [
    "# check the reconstruction values\n",
    "true_x_list = []\n",
    "recon_x_list = []\n",
    "n_batch_use = 2\n",
    "\n",
    "for (idx, batch) in enumerate(test_DS):\n",
    "    true_x = batch['Labels'].detach().numpy()\n",
    "#     recon_x, u, logvar = model(batch['Features'].to(device))\n",
    "#     recon_x = recon_x.detach().cpu().numpy()\n",
    "    b, nb, loss, recon_loss, bce_loss, kl_loss = compute_loss_2(model, batch['Features'].to(device), batch['Labels'].to(device), weights)\n",
    "    recon_x = (b>0.5).float()*nb + (b<0.5).float()*(-1)\n",
    "    recon_x = recon_x.detach().cpu().numpy()\n",
    "    true_x_list.append(true_x)\n",
    "    recon_x_list.append(recon_x)\n",
    "    if(idx>=n_batch_use):\n",
    "        break\n",
    "        \n",
    "true_x_list = np.vstack(true_x_list)\n",
    "recon_x_list = np.vstack(recon_x_list)\n",
    "plt.hist2d(x=true_x_list.flatten(), y=recon_x_list.flatten(), norm=matplotlib.colors.PowerNorm(1/10), cmap='viridis', bins=100)\n",
    "plt.plot([-1.0, 0.2], [-1.0, 0.2], color=\"r\")\n",
    "plt.xlabel(\"True\")\n",
    "plt.ylabel(\"Pred\")\n",
    "plt.show()\n",
    "\n",
    "# spearman r by species\n",
    "coeffs = [ stats.spearmanr(true_x_list[:, i], recon_x_list[:, i]) for i in range(true_x_list.shape[1]) ]\n",
    "coeffs_sorted = sorted(enumerate(coeffs), key=lambda x: x[1], reverse=True)\n",
    "plt.scatter(range(len(coeffs)), [val[0] for (idx, val) in coeffs_sorted], color=\"k\", alpha=0.2)\n",
    "plt.xlabel(\"Rank\")\n",
    "plt.ylabel(\"Spearman r of each species\")\n",
    "plt.show()\n",
    "\n",
    "# top x best predicted species\n",
    "for i in range(20):\n",
    "    print(coeffs_sorted[i][1][0], data_df.columns[coeffs_sorted[i][0]])\n",
    "    \n",
    "# predictibility vs prevalence\n",
    "plt.scatter([np.sum(data_df.values[:, i]>0)/data_df.values.shape[0] for i in range(data_df.shape[1])], \\\n",
    "             [i[0] for i in coeffs])\n",
    "plt.xlabel(\"Prevalence\")\n",
    "plt.ylabel(\"Spearman r\")"
   ]
  },
  {
   "cell_type": "code",
   "execution_count": null,
   "id": "1ee9657b-29ed-4bf9-bd13-dad7e80fb80e",
   "metadata": {},
   "outputs": [],
   "source": []
  },
  {
   "cell_type": "code",
   "execution_count": 57,
   "id": "708ff4aa-f6d0-47e7-97f2-29d7ca4686c2",
   "metadata": {},
   "outputs": [
    {
     "data": {
      "text/plain": [
       "0.43660806618407444"
      ]
     },
     "execution_count": 57,
     "metadata": {},
     "output_type": "execute_result"
    }
   ],
   "source": [
    "np.sum(data_df.values[:, 0]>0)/data_df.values.shape[0]"
   ]
  },
  {
   "cell_type": "code",
   "execution_count": null,
   "id": "a3f9d68a-5e29-4efc-a69c-9bc3983a854e",
   "metadata": {},
   "outputs": [],
   "source": []
  },
  {
   "cell_type": "code",
   "execution_count": null,
   "id": "749b53ed-6b21-4daa-b95f-8d1baafca2df",
   "metadata": {},
   "outputs": [],
   "source": []
  },
  {
   "cell_type": "code",
   "execution_count": 52,
   "id": "1a85f7b2-5265-4cf6-93bb-dd47132da9d7",
   "metadata": {},
   "outputs": [
    {
     "ename": "NameError",
     "evalue": "name 'batch' is not defined",
     "output_type": "error",
     "traceback": [
      "\u001b[0;31m---------------------------------------------------------------------------\u001b[0m",
      "\u001b[0;31mNameError\u001b[0m                                 Traceback (most recent call last)",
      "\u001b[0;32m/tmp/ipykernel_3709118/1828450639.py\u001b[0m in \u001b[0;36m<cell line: 1>\u001b[0;34m()\u001b[0m\n\u001b[0;32m----> 1\u001b[0;31m \u001b[0mbatch\u001b[0m\u001b[0;34m[\u001b[0m\u001b[0;34m\"Features\"\u001b[0m\u001b[0;34m]\u001b[0m\u001b[0;34m.\u001b[0m\u001b[0mshape\u001b[0m\u001b[0;34m[\u001b[0m\u001b[0;36m0\u001b[0m\u001b[0;34m]\u001b[0m\u001b[0;34m\u001b[0m\u001b[0;34m\u001b[0m\u001b[0m\n\u001b[0m",
      "\u001b[0;31mNameError\u001b[0m: name 'batch' is not defined"
     ]
    }
   ],
   "source": [
    "batch[\"Features\"].shape[0]"
   ]
  },
  {
   "cell_type": "code",
   "execution_count": null,
   "id": "c82c223b-8615-4439-a678-9cb01d6944fd",
   "metadata": {},
   "outputs": [],
   "source": []
  },
  {
   "cell_type": "code",
   "execution_count": null,
   "id": "893855da-ab5a-421f-b42e-fc095188a09e",
   "metadata": {},
   "outputs": [],
   "source": []
  },
  {
   "cell_type": "code",
   "execution_count": 10,
   "id": "1df776ee-5c39-45a2-96bc-76688fa8d9f9",
   "metadata": {},
   "outputs": [
    {
     "name": "stdout",
     "output_type": "stream",
     "text": [
      "Bacteria.Verrucomicrobiota.Verrucomicrobiia.Verrucomicrobiales.Akkermansiaceae.Akkermansia\n"
     ]
    }
   ],
   "source": [
    "p_data, n_data = \"data/orig_species_10k.pkl\", \"\"\n",
    "data_df_1 = pickle.load(open(p_data, \"rb\"))\n",
    "\n",
    "spcs = list(data_df_1.columns)\n",
    "for spc in spcs:\n",
    "    if(\"Akkermansia\" in spc):\n",
    "        print(spc)"
   ]
  },
  {
   "cell_type": "code",
   "execution_count": 11,
   "id": "a214b568-603c-4858-b394-90bacc09893c",
   "metadata": {},
   "outputs": [
    {
     "data": {
      "text/plain": [
       "['sample',\n",
       " 'Bacteria.Actinomycetota.Coriobacteriia.Coriobacteriales.Atopobiaceae.Tractidigestivibacter',\n",
       " 'Bacteria.Actinomycetota.Coriobacteriia.Coriobacteriales.Coriobacteriaceae.Collinsella',\n",
       " 'Bacteria.Actinomycetota.Coriobacteriia.Coriobacteriales.Eggerthellaceae.Adlercreutzia',\n",
       " 'Bacteria.Actinomycetota.Coriobacteriia.Coriobacteriales.Eggerthellaceae.Senegalimassilia',\n",
       " 'Bacteria.Bacillota.Bacilli.Erysipelotrichales.Erysipelotrichaceae.Holdemanella',\n",
       " 'Bacteria.Bacillota.Bacilli.Erysipelotrichales.Erysipelotrichaceae.NA',\n",
       " 'Bacteria.Bacillota.Bacilli.Lactobacillales.Lactobacillaceae.Lactiplantibacillus',\n",
       " 'Bacteria.Bacillota.Bacilli.Lactobacillales.Lactobacillaceae.Limosilactobacillus',\n",
       " 'Bacteria.Bacillota.Bacilli.Lactobacillales.Lactobacillaceae.Pediococcus']"
      ]
     },
     "execution_count": 11,
     "metadata": {},
     "output_type": "execute_result"
    }
   ],
   "source": [
    "spcs[:10]"
   ]
  },
  {
   "cell_type": "code",
   "execution_count": null,
   "id": "2ee13da7-0358-4e5b-bfe6-831cdc762d8e",
   "metadata": {},
   "outputs": [],
   "source": []
  }
 ],
 "metadata": {
  "kernelspec": {
   "display_name": "custom_torch",
   "language": "python",
   "name": "torch"
  },
  "language_info": {
   "codemirror_mode": {
    "name": "ipython",
    "version": 3
   },
   "file_extension": ".py",
   "mimetype": "text/x-python",
   "name": "python",
   "nbconvert_exporter": "python",
   "pygments_lexer": "ipython3",
   "version": "3.9.12"
  }
 },
 "nbformat": 4,
 "nbformat_minor": 5
}
